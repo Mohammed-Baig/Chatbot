{
  "cells": [
    {
      "cell_type": "markdown",
      "source": [
        "# Face Component\n"
      ],
      "metadata": {
        "id": "eKkhW-oQOoL9"
      }
    },
    {
      "cell_type": "markdown",
      "source": [
        "## GIF\n",
        "* Faster\n",
        "* Doesn't need crazy memory\n",
        "* Works provided the 3 frames of \"animation\" are provided\n",
        "* Doesn't sync to what's being spoken"
      ],
      "metadata": {
        "id": "nIujWcpwiXIV"
      }
    },
    {
      "cell_type": "markdown",
      "source": [
        "### Imports"
      ],
      "metadata": {
        "id": "b6ST_Qzad5Xr"
      }
    },
    {
      "cell_type": "code",
      "source": [
        "from PIL import Image\n",
        "import imageio\n",
        "from IPython.display import display, Image as IPImage\n",
        "import numpy as np"
      ],
      "metadata": {
        "id": "OVtI2OTFd7hT"
      },
      "execution_count": null,
      "outputs": []
    },
    {
      "cell_type": "markdown",
      "source": [
        "### Function"
      ],
      "metadata": {
        "id": "LtaJTAgdfKah"
      }
    },
    {
      "cell_type": "code",
      "source": [
        "#Make sure you have 3 \"frames\" for the looping gif animation to be able to be made.\n",
        "#Upload them to the project and keep the names, you will need to paste those names into the function call in the appropriate LLM sections\n",
        "\n",
        "def create_and_display_gif(images_paths, total_duration_seconds=5, duration_per_image=0.5):\n",
        "    # Open images\n",
        "    images = [Image.open(image_path) for image_path in images_paths]\n",
        "\n",
        "    # Resize images to match dimensions\n",
        "    dimensions = [(image.size[0], image.size[1]) for image in images]\n",
        "    width = min(dim[0] for dim in dimensions)\n",
        "    height = min(dim[1] for dim in dimensions)\n",
        "    images_resized = [image.resize((width, height)) for image in images]\n",
        "\n",
        "    # Calculate number of frames needed to achieve total duration\n",
        "    num_images = len(images)\n",
        "    num_frames = int(total_duration_seconds / duration_per_image)\n",
        "\n",
        "    # Create GIF frames\n",
        "    frames = (images_resized * (num_frames // num_images)) + images_resized[:num_frames % num_images]\n",
        "\n",
        "    # Save GIF\n",
        "    with imageio.get_writer('output.gif', mode='I', duration=duration_per_image) as writer:\n",
        "        for frame in frames:\n",
        "            writer.append_data(np.array(frame))\n",
        "\n",
        "    # Display GIF\n",
        "    display(IPImage('output.gif'))"
      ],
      "metadata": {
        "id": "buVIFIYee8dK"
      },
      "execution_count": null,
      "outputs": []
    },
    {
      "cell_type": "markdown",
      "source": [
        "## Deepfake model\n",
        "\n",
        "*   [Source Repository](https://github.com/OpenTalker/SadTalker)\n",
        "* [Source Video](https://youtu.be/fDgQcDL-qOc?si=gkpbfpA0c-U4h-0c)\n",
        "* Slower\n",
        "* Memory gated\n",
        "* Some images may not be detected\n",
        "* Gives a more fitting/matching animation\n",
        "\n"
      ],
      "metadata": {
        "id": "dIWqZPHIEam3"
      }
    },
    {
      "cell_type": "markdown",
      "source": [
        "### Imports"
      ],
      "metadata": {
        "id": "aabi-w89fs29"
      }
    },
    {
      "cell_type": "code",
      "source": [
        "### make sure that CUDA is available in Edit -> Nootbook settings -> GPU\n",
        "!nvidia-smi --query-gpu=name,memory.total,memory.free --format=csv,noheader"
      ],
      "metadata": {
        "id": "i5xJGbrUfsnM"
      },
      "execution_count": null,
      "outputs": []
    },
    {
      "cell_type": "code",
      "source": [
        "!update-alternatives --install /usr/local/bin/python3 python3 /usr/bin/python3.8 2\n",
        "!update-alternatives --install /usr/local/bin/python3 python3 /usr/bin/python3.9 1\n",
        "!sudo apt install python3.8\n",
        "\n",
        "!sudo apt-get install python3.8-distutils\n",
        "\n",
        "!python --version\n",
        "\n",
        "!apt-get update\n",
        "\n",
        "!apt install software-properties-common\n",
        "\n",
        "!sudo dpkg --remove --force-remove-reinstreq python3-pip python3-setuptools python3-wheel\n",
        "\n",
        "!apt-get install python3-pip\n",
        "\n",
        "print('Git clone project and install requirements...')\n",
        "!git clone https://github.com/Winfredy/SadTalker &> /dev/null\n",
        "%cd SadTalker\n",
        "!export PYTHONPATH=/content/SadTalker:$PYTHONPATH\n",
        "!python3.8 -m pip install torch==1.12.1+cu113 torchvision==0.13.1+cu113 torchaudio==0.12.1 --extra-index-url https://download.pytorch.org/whl/cu113\n",
        "!apt update\n",
        "!apt install ffmpeg &> /dev/null\n",
        "!python3.8 -m pip install -r requirements.txt"
      ],
      "metadata": {
        "id": "XB-jNK77g6l0"
      },
      "execution_count": null,
      "outputs": []
    },
    {
      "cell_type": "code",
      "source": [
        "print('Download pre-trained models...')\n",
        "!rm -rf checkpoints\n",
        "!bash scripts/download_models.sh"
      ],
      "metadata": {
        "id": "7Oh-egX2g_TP"
      },
      "execution_count": null,
      "outputs": []
    },
    {
      "cell_type": "markdown",
      "source": [
        "### Function"
      ],
      "metadata": {
        "id": "0OMBbdBthB8I"
      }
    },
    {
      "cell_type": "code",
      "source": [
        "#Before you run this cell, navigate to the file path on line 13 and paste your image into that folder, make sure it's in PNG format.\n",
        "#In the event it cannot detect any facial landmarks you will have to try with another image\n",
        "\n",
        "import ipywidgets as widgets\n",
        "import glob\n",
        "import matplotlib.pyplot as plt\n",
        "print(\"Choose the image name to animate: (saved in folder 'examples/')\")\n",
        "img_list = glob.glob1('examples/source_image', '*.png')\n",
        "img_list.sort()\n",
        "img_list = [item.split('.')[0] for item in img_list]\n",
        "default_head_name = widgets.Dropdown(options=img_list, value='full3')\n",
        "def on_change(change):\n",
        "    if change['type'] == 'change' and change['name'] == 'value':\n",
        "        plt.imshow(plt.imread('examples/source_image/{}.png'.format(default_head_name.value)))\n",
        "        plt.axis('off')\n",
        "        plt.show()\n",
        "default_head_name.observe(on_change)\n",
        "display(default_head_name)\n",
        "plt.imshow(plt.imread('examples/source_image/{}.png'.format(default_head_name.value)))\n",
        "plt.axis('off')\n",
        "plt.show()"
      ],
      "metadata": {
        "id": "i0GHylY1hEFy"
      },
      "execution_count": null,
      "outputs": []
    },
    {
      "cell_type": "code",
      "source": [
        "#Don't touch/edit, just run after you select from the first part\n",
        "img = 'examples/source_image/{}.png'.format(default_head_name.value)"
      ],
      "metadata": {
        "id": "VatXY6iwhM1r"
      },
      "execution_count": null,
      "outputs": []
    },
    {
      "cell_type": "code",
      "source": [
        "def anim_face(image, x):\n",
        "  print(image)\n",
        "  !python3.8 inference.py --driven_audio /content/captured_voice.wav \\\n",
        "            --source_image {image} \\\n",
        "            --result_dir ./results --still --preprocess full --enhancer gfpgan\n",
        "\n",
        "  results = sorted(os.listdir('./results/'))\n",
        "\n",
        "  mp4_name = glob.glob('./results/*.mp4')[x]\n",
        "\n",
        "  mp4 = open('{}'.format(mp4_name),'rb').read()\n",
        "  data_url = \"data:video/mp4;base64,\" + b64encode(mp4).decode()\n",
        "\n",
        "  print('Display animation: {}'.format(mp4_name), file=sys.stderr)\n",
        "  display(HTML(\"\"\"\n",
        "    <video width=256 controls>\n",
        "          <source src=\"%s\" type=\"video/mp4\">\n",
        "    </video>\n",
        "    \"\"\" % data_url))\n"
      ],
      "metadata": {
        "id": "-UuhUdihhcoR"
      },
      "execution_count": null,
      "outputs": []
    },
    {
      "cell_type": "code",
      "source": [
        "%cd /content"
      ],
      "metadata": {
        "id": "vumBCPJrhdaQ"
      },
      "execution_count": null,
      "outputs": []
    },
    {
      "cell_type": "markdown",
      "metadata": {
        "id": "h0U1eyO-rjyG",
        "jp-MarkdownHeadingCollapsed": true
      },
      "source": [
        "# Speech to text\n",
        "\n"
      ]
    },
    {
      "cell_type": "markdown",
      "source": [
        "## Local\n",
        "\n",
        "Note, will not work on Google Colab as it cannot access your local microphone(s)"
      ],
      "metadata": {
        "id": "5TP-n7lP3ABk"
      }
    },
    {
      "cell_type": "markdown",
      "metadata": {
        "id": "eNRWbn2ir__p"
      },
      "source": [
        "### Imports"
      ]
    },
    {
      "cell_type": "code",
      "execution_count": null,
      "metadata": {
        "colab": {
          "base_uri": "https://localhost:8080/",
          "height": 479
        },
        "id": "c50db8M6vDvH",
        "outputId": "6d79a399-c5e5-4cbb-8c4d-eac3e2e3f23d"
      },
      "outputs": [
        {
          "name": "stdout",
          "output_type": "stream",
          "text": [
            "Defaulting to user installation because normal site-packages is not writeable\n",
            "Requirement already satisfied: speechrecognition in c:\\users\\moham\\appdata\\local\\packages\\pythonsoftwarefoundation.python.3.12_qbz5n2kfra8p0\\localcache\\local-packages\\python312\\site-packages (3.10.3)\n",
            "Requirement already satisfied: requests>=2.26.0 in c:\\users\\moham\\appdata\\local\\packages\\pythonsoftwarefoundation.python.3.12_qbz5n2kfra8p0\\localcache\\local-packages\\python312\\site-packages (from speechrecognition) (2.31.0)\n",
            "Requirement already satisfied: typing-extensions in c:\\users\\moham\\appdata\\local\\packages\\pythonsoftwarefoundation.python.3.12_qbz5n2kfra8p0\\localcache\\local-packages\\python312\\site-packages (from speechrecognition) (4.11.0)\n",
            "Requirement already satisfied: charset-normalizer<4,>=2 in c:\\users\\moham\\appdata\\local\\packages\\pythonsoftwarefoundation.python.3.12_qbz5n2kfra8p0\\localcache\\local-packages\\python312\\site-packages (from requests>=2.26.0->speechrecognition) (3.3.2)\n",
            "Requirement already satisfied: idna<4,>=2.5 in c:\\users\\moham\\appdata\\local\\packages\\pythonsoftwarefoundation.python.3.12_qbz5n2kfra8p0\\localcache\\local-packages\\python312\\site-packages (from requests>=2.26.0->speechrecognition) (3.7)\n",
            "Requirement already satisfied: urllib3<3,>=1.21.1 in c:\\users\\moham\\appdata\\local\\packages\\pythonsoftwarefoundation.python.3.12_qbz5n2kfra8p0\\localcache\\local-packages\\python312\\site-packages (from requests>=2.26.0->speechrecognition) (2.2.1)\n",
            "Requirement already satisfied: certifi>=2017.4.17 in c:\\users\\moham\\appdata\\local\\packages\\pythonsoftwarefoundation.python.3.12_qbz5n2kfra8p0\\localcache\\local-packages\\python312\\site-packages (from requests>=2.26.0->speechrecognition) (2024.2.2)\n"
          ]
        }
      ],
      "source": [
        "!pip install speechrecognition"
      ]
    },
    {
      "cell_type": "code",
      "execution_count": null,
      "metadata": {
        "colab": {
          "base_uri": "https://localhost:8080/"
        },
        "id": "SJxRoIYdwGwA",
        "outputId": "20926c94-0d72-4a82-cf8a-9f3bcaa58288"
      },
      "outputs": [
        {
          "name": "stdout",
          "output_type": "stream",
          "text": [
            "Defaulting to user installation because normal site-packages is not writeable\n",
            "Requirement already satisfied: pyttsx3 in c:\\users\\moham\\appdata\\local\\packages\\pythonsoftwarefoundation.python.3.12_qbz5n2kfra8p0\\localcache\\local-packages\\python312\\site-packages (2.90)\n",
            "Requirement already satisfied: comtypes in c:\\users\\moham\\appdata\\local\\packages\\pythonsoftwarefoundation.python.3.12_qbz5n2kfra8p0\\localcache\\local-packages\\python312\\site-packages (from pyttsx3) (1.4.1)\n",
            "Requirement already satisfied: pypiwin32 in c:\\users\\moham\\appdata\\local\\packages\\pythonsoftwarefoundation.python.3.12_qbz5n2kfra8p0\\localcache\\local-packages\\python312\\site-packages (from pyttsx3) (223)\n",
            "Requirement already satisfied: pywin32 in c:\\users\\moham\\appdata\\local\\packages\\pythonsoftwarefoundation.python.3.12_qbz5n2kfra8p0\\localcache\\local-packages\\python312\\site-packages (from pyttsx3) (306)\n"
          ]
        }
      ],
      "source": [
        "!pip install pyttsx3"
      ]
    },
    {
      "cell_type": "code",
      "execution_count": null,
      "metadata": {
        "colab": {
          "base_uri": "https://localhost:8080/"
        },
        "id": "4jxMAjFqxpbu",
        "outputId": "51b97b25-00aa-4463-ce02-a0022221bde3"
      },
      "outputs": [
        {
          "name": "stdout",
          "output_type": "stream",
          "text": [
            "Requirement already satisfied: wheel in /usr/lib/python3/dist-packages (0.37.1)\n",
            "\u001b[33mWARNING: Running pip as the 'root' user can result in broken permissions and conflicting behaviour with the system package manager. It is recommended to use a virtual environment instead: https://pip.pypa.io/warnings/venv\u001b[0m\u001b[33m\n",
            "\u001b[0m"
          ]
        }
      ],
      "source": [
        "!pip install wheel"
      ]
    },
    {
      "cell_type": "code",
      "execution_count": null,
      "metadata": {
        "colab": {
          "base_uri": "https://localhost:8080/"
        },
        "id": "RMlq6_WZ_U8q",
        "outputId": "76dbabf3-fbd5-48bd-d8f6-bdf38c142229"
      },
      "outputs": [
        {
          "name": "stdout",
          "output_type": "stream",
          "text": [
            "Collecting wave\n",
            "  Downloading Wave-0.0.2.zip (38 kB)\n",
            "  Preparing metadata (setup.py) ... \u001b[?25l\u001b[?25hdone\n",
            "Building wheels for collected packages: wave\n",
            "  Building wheel for wave (setup.py) ... \u001b[?25l\u001b[?25hdone\n",
            "  Created wheel for wave: filename=Wave-0.0.2-py3-none-any.whl size=1240 sha256=7d691ced262df0001f75c34fada05259acf02eb6184df6f163147e5e6736e1c9\n",
            "  Stored in directory: /root/.cache/pip/wheels/25/e8/fe/458c7dac00c6abedad6380b9d0ef1a5cbc7c21807df1d30915\n",
            "Successfully built wave\n",
            "Installing collected packages: wave\n",
            "Successfully installed wave-0.0.2\n",
            "\u001b[33mWARNING: Running pip as the 'root' user can result in broken permissions and conflicting behaviour with the system package manager. It is recommended to use a virtual environment instead: https://pip.pypa.io/warnings/venv\u001b[0m\u001b[33m\n",
            "\u001b[0m"
          ]
        }
      ],
      "source": [
        "!pip install wave"
      ]
    },
    {
      "cell_type": "code",
      "execution_count": null,
      "metadata": {
        "colab": {
          "base_uri": "https://localhost:8080/"
        },
        "id": "c8gZmwbpxMF9",
        "outputId": "8b578b29-a03e-4ac3-b423-ff9c914a98ac"
      },
      "outputs": [
        {
          "name": "stdout",
          "output_type": "stream",
          "text": [
            "Reading package lists... Done\n",
            "Building dependency tree... Done\n",
            "Reading state information... Done\n",
            "libasound2-dev is already the newest version (1.2.6.1-1ubuntu1).\n",
            "ffmpeg is already the newest version (7:4.4.2-0ubuntu0.22.04.1).\n",
            "Suggested packages:\n",
            "  portaudio19-doc\n",
            "The following NEW packages will be installed:\n",
            "  libportaudio2 libportaudiocpp0 portaudio19-dev\n",
            "0 upgraded, 3 newly installed, 0 to remove and 45 not upgraded.\n",
            "Need to get 188 kB of archives.\n",
            "After this operation, 927 kB of additional disk space will be used.\n",
            "Get:1 http://archive.ubuntu.com/ubuntu jammy/universe amd64 libportaudio2 amd64 19.6.0-1.1 [65.3 kB]\n",
            "Get:2 http://archive.ubuntu.com/ubuntu jammy/universe amd64 libportaudiocpp0 amd64 19.6.0-1.1 [16.1 kB]\n",
            "Get:3 http://archive.ubuntu.com/ubuntu jammy/universe amd64 portaudio19-dev amd64 19.6.0-1.1 [106 kB]\n",
            "Fetched 188 kB in 0s (945 kB/s)\n",
            "Selecting previously unselected package libportaudio2:amd64.\n",
            "(Reading database ... 123398 files and directories currently installed.)\n",
            "Preparing to unpack .../libportaudio2_19.6.0-1.1_amd64.deb ...\n",
            "Unpacking libportaudio2:amd64 (19.6.0-1.1) ...\n",
            "Selecting previously unselected package libportaudiocpp0:amd64.\n",
            "Preparing to unpack .../libportaudiocpp0_19.6.0-1.1_amd64.deb ...\n",
            "Unpacking libportaudiocpp0:amd64 (19.6.0-1.1) ...\n",
            "Selecting previously unselected package portaudio19-dev:amd64.\n",
            "Preparing to unpack .../portaudio19-dev_19.6.0-1.1_amd64.deb ...\n",
            "Unpacking portaudio19-dev:amd64 (19.6.0-1.1) ...\n",
            "Setting up libportaudio2:amd64 (19.6.0-1.1) ...\n",
            "Setting up libportaudiocpp0:amd64 (19.6.0-1.1) ...\n",
            "Setting up portaudio19-dev:amd64 (19.6.0-1.1) ...\n",
            "Processing triggers for libc-bin (2.35-0ubuntu3.4) ...\n",
            "/sbin/ldconfig.real: /usr/local/lib/libtbbmalloc.so.2 is not a symbolic link\n",
            "\n",
            "/sbin/ldconfig.real: /usr/local/lib/libtbbbind_2_0.so.3 is not a symbolic link\n",
            "\n",
            "/sbin/ldconfig.real: /usr/local/lib/libtbbbind.so.3 is not a symbolic link\n",
            "\n",
            "/sbin/ldconfig.real: /usr/local/lib/libtbb.so.12 is not a symbolic link\n",
            "\n",
            "/sbin/ldconfig.real: /usr/local/lib/libtbbbind_2_5.so.3 is not a symbolic link\n",
            "\n",
            "/sbin/ldconfig.real: /usr/local/lib/libtbbmalloc_proxy.so.2 is not a symbolic link\n",
            "\n",
            "Collecting pyaudio\n",
            "  Downloading PyAudio-0.2.14.tar.gz (47 kB)\n",
            "\u001b[2K     \u001b[90m━━━━━━━━━━━━━━━━━━━━━━━━━━━━━━━━━━━━━━━━\u001b[0m \u001b[32m47.1/47.1 KB\u001b[0m \u001b[31m1.5 MB/s\u001b[0m eta \u001b[36m0:00:00\u001b[0m\n",
            "\u001b[?25h  Installing build dependencies ... \u001b[?25l\u001b[?25hdone\n",
            "  Getting requirements to build wheel ... \u001b[?25l\u001b[?25hdone\n",
            "  Preparing metadata (pyproject.toml) ... \u001b[?25l\u001b[?25hdone\n",
            "Building wheels for collected packages: pyaudio\n",
            "  \u001b[1;31merror\u001b[0m: \u001b[1msubprocess-exited-with-error\u001b[0m\n",
            "  \n",
            "  \u001b[31m×\u001b[0m \u001b[32mBuilding wheel for pyaudio \u001b[0m\u001b[1;32m(\u001b[0m\u001b[32mpyproject.toml\u001b[0m\u001b[1;32m)\u001b[0m did not run successfully.\n",
            "  \u001b[31m│\u001b[0m exit code: \u001b[1;36m1\u001b[0m\n",
            "  \u001b[31m╰─>\u001b[0m See above for output.\n",
            "  \n",
            "  \u001b[1;35mnote\u001b[0m: This error originates from a subprocess, and is likely not a problem with pip.\n",
            "  Building wheel for pyaudio (pyproject.toml) ... \u001b[?25l\u001b[?25herror\n",
            "\u001b[31m  ERROR: Failed building wheel for pyaudio\u001b[0m\u001b[31m\n",
            "\u001b[0mFailed to build pyaudio\n",
            "\u001b[31mERROR: Could not build wheels for pyaudio, which is required to install pyproject.toml-based projects\u001b[0m\u001b[31m\n",
            "\u001b[0m"
          ]
        }
      ],
      "source": [
        "!apt install libasound2-dev portaudio19-dev libportaudio2 libportaudiocpp0 ffmpeg\n",
        "!pip install pyaudio"
      ]
    },
    {
      "cell_type": "code",
      "execution_count": null,
      "metadata": {
        "id": "TPHedvf_mh_n",
        "outputId": "1b156991-985c-41c1-ade6-c122c2c1aff4"
      },
      "outputs": [
        {
          "name": "stdout",
          "output_type": "stream",
          "text": [
            "Requirement already satisfied: setuptools in c:\\users\\moham\\appdata\\local\\programs\\python\\python312\\lib\\site-packages (69.0.3)\n"
          ]
        },
        {
          "name": "stderr",
          "output_type": "stream",
          "text": [
            "\n",
            "[notice] A new release of pip is available: 23.2.1 -> 24.0\n",
            "[notice] To update, run: C:\\Users\\moham\\AppData\\Local\\Programs\\Python\\Python312\\python.exe -m pip install --upgrade pip\n"
          ]
        }
      ],
      "source": [
        "!pip install setuptools"
      ]
    },
    {
      "cell_type": "code",
      "source": [
        "import speech_recognition as sr\n",
        "import pyttsx3\n",
        "import pyaudio\n",
        "import setuptools"
      ],
      "metadata": {
        "id": "IDEmRf7g3v7W"
      },
      "execution_count": null,
      "outputs": []
    },
    {
      "cell_type": "markdown",
      "metadata": {
        "id": "PsZITeDGmh_n",
        "jp-MarkdownHeadingCollapsed": true
      },
      "source": [
        "### Main code"
      ]
    },
    {
      "cell_type": "code",
      "execution_count": null,
      "metadata": {
        "id": "7ntgvRpBmh_n",
        "outputId": "9f29e967-5ff1-4606-819e-26cede6c748e"
      },
      "outputs": [
        {
          "name": "stdout",
          "output_type": "stream",
          "text": [
            "{'index': 1, 'structVersion': 2, 'name': 'Microphone Array (Realtek(R) Au', 'hostApi': 0, 'maxInputChannels': 2, 'maxOutputChannels': 0, 'defaultLowInputLatency': 0.09, 'defaultLowOutputLatency': 0.09, 'defaultHighInputLatency': 0.18, 'defaultHighOutputLatency': 0.18, 'defaultSampleRate': 44100.0}\n"
          ]
        }
      ],
      "source": [
        "#see all available audio devices\n",
        "p = pyaudio.PyAudio()\n",
        "try:\n",
        "    print(p.get_default_input_device_info())\n",
        "except:\n",
        "    print(\"No mics availiable\")"
      ]
    },
    {
      "cell_type": "code",
      "execution_count": null,
      "metadata": {
        "id": "5VJRxS_omh_o"
      },
      "outputs": [],
      "source": [
        "#main function\n",
        "def getVoiceInput():\n",
        "    x = 0\n",
        "    r = sr.Recognizer()\n",
        "    while(x!=1):\n",
        "        try:\n",
        "            with sr.Microphone(device_index=2) as source2: #device index gained from above, corresponds to your desired audio input\n",
        "                print(\"Listening: \")\n",
        "                r.adjust_for_ambient_noise(source2, duration=0.2)\n",
        "                audio2 = r.listen(source2)\n",
        "                MyText = r.recognize_google(audio2)\n",
        "                MyText = MyText.lower()\n",
        "                x = 1\n",
        "                print(\"You said: {}\".format(MyText))\n",
        "\n",
        "\n",
        "        except sr.UnknownValueError:\n",
        "            print(\"Could not read input, trying again\")\n",
        "            x = 0\n",
        "    return MyText"
      ]
    },
    {
      "cell_type": "markdown",
      "source": [
        "## Colab Version\n",
        "Note, requires a very decent microphone as the detection can be very finicky, it's recommended you speak directly into it loudly. It also doesnt hurt to wait a second or two after the code prompts you to start speaking\n",
        "\n",
        "\n",
        "\n",
        "*   [Reference](https://colab.research.google.com/drive/1Z6VIRZ_sX314hyev3Gm5gBqvm1wQVo-a?usp=sharing)\n",
        "\n"
      ],
      "metadata": {
        "id": "59fgj3NM3InZ"
      }
    },
    {
      "cell_type": "markdown",
      "source": [
        "### Imports"
      ],
      "metadata": {
        "id": "7fZclmmb3UaH"
      }
    },
    {
      "cell_type": "code",
      "source": [
        "!pip install ffmpeg-python"
      ],
      "metadata": {
        "colab": {
          "base_uri": "https://localhost:8080/"
        },
        "id": "cvRjzNwk3i4a",
        "outputId": "e09d4909-c5fa-4d94-f0d7-d0647e219c5a"
      },
      "execution_count": null,
      "outputs": [
        {
          "output_type": "stream",
          "name": "stdout",
          "text": [
            "Collecting ffmpeg-python\n",
            "  Downloading ffmpeg_python-0.2.0-py3-none-any.whl (25 kB)\n",
            "Requirement already satisfied: future in /usr/local/lib/python3.10/dist-packages (from ffmpeg-python) (0.18.3)\n",
            "Installing collected packages: ffmpeg-python\n",
            "Successfully installed ffmpeg-python-0.2.0\n"
          ]
        }
      ]
    },
    {
      "cell_type": "code",
      "source": [
        "!pip install SpeechRecognition"
      ],
      "metadata": {
        "colab": {
          "base_uri": "https://localhost:8080/"
        },
        "id": "0c8etkmt4GtR",
        "outputId": "b86433fb-92f1-4382-e645-7a1e64b7f30c"
      },
      "execution_count": null,
      "outputs": [
        {
          "output_type": "stream",
          "name": "stdout",
          "text": [
            "Collecting SpeechRecognition\n",
            "  Downloading SpeechRecognition-3.10.3-py2.py3-none-any.whl (32.8 MB)\n",
            "\u001b[2K     \u001b[90m━━━━━━━━━━━━━━━━━━━━━━━━━━━━━━━━━━━━━━━━\u001b[0m \u001b[32m32.8/32.8 MB\u001b[0m \u001b[31m26.9 MB/s\u001b[0m eta \u001b[36m0:00:00\u001b[0m\n",
            "\u001b[?25hRequirement already satisfied: requests>=2.26.0 in /usr/local/lib/python3.10/dist-packages (from SpeechRecognition) (2.31.0)\n",
            "Requirement already satisfied: typing-extensions in /usr/local/lib/python3.10/dist-packages (from SpeechRecognition) (4.11.0)\n",
            "Requirement already satisfied: charset-normalizer<4,>=2 in /usr/local/lib/python3.10/dist-packages (from requests>=2.26.0->SpeechRecognition) (3.3.2)\n",
            "Requirement already satisfied: idna<4,>=2.5 in /usr/local/lib/python3.10/dist-packages (from requests>=2.26.0->SpeechRecognition) (3.7)\n",
            "Requirement already satisfied: urllib3<3,>=1.21.1 in /usr/local/lib/python3.10/dist-packages (from requests>=2.26.0->SpeechRecognition) (2.0.7)\n",
            "Requirement already satisfied: certifi>=2017.4.17 in /usr/local/lib/python3.10/dist-packages (from requests>=2.26.0->SpeechRecognition) (2024.2.2)\n",
            "Installing collected packages: SpeechRecognition\n",
            "Successfully installed SpeechRecognition-3.10.3\n"
          ]
        }
      ]
    },
    {
      "cell_type": "code",
      "source": [
        "from IPython.display import HTML, Audio\n",
        "from google.colab.output import eval_js\n",
        "from base64 import b64decode\n",
        "import numpy as np\n",
        "from scipy.io.wavfile import read as wav_read\n",
        "import io\n",
        "import ffmpeg\n",
        "import scipy\n",
        "import speech_recognition as sr\n",
        "from typing_extensions import Text"
      ],
      "metadata": {
        "id": "3xjSUjv53_8N"
      },
      "execution_count": null,
      "outputs": []
    },
    {
      "cell_type": "markdown",
      "source": [
        "### Main Code"
      ],
      "metadata": {
        "id": "dKHhyD3t3WLY"
      }
    },
    {
      "cell_type": "code",
      "source": [
        "AUDIO_HTML = \"\"\"\n",
        "<script>\n",
        "var my_div = document.createElement(\"DIV\");\n",
        "var my_p = document.createElement(\"P\");\n",
        "var my_btn = document.createElement(\"BUTTON\");\n",
        "var t = document.createTextNode(\"Press to start recording\");\n",
        "\n",
        "my_btn.appendChild(t);\n",
        "//my_p.appendChild(my_btn);\n",
        "my_div.appendChild(my_btn);\n",
        "document.body.appendChild(my_div);\n",
        "\n",
        "var base64data = 0;\n",
        "var reader;\n",
        "var recorder, gumStream;\n",
        "var recordButton = my_btn;\n",
        "\n",
        "var handleSuccess = function(stream) {\n",
        "  gumStream = stream;\n",
        "  var options = {\n",
        "    //bitsPerSecond: 8000, //chrome seems to ignore, always 48k\n",
        "    mimeType : 'audio/webm;codecs=opus'\n",
        "    //mimeType : 'audio/webm;codecs=pcm'\n",
        "  };\n",
        "  //recorder = new MediaRecorder(stream, options);\n",
        "  recorder = new MediaRecorder(stream);\n",
        "  recorder.ondataavailable = function(e) {\n",
        "    var url = URL.createObjectURL(e.data);\n",
        "    var preview = document.createElement('audio');\n",
        "    preview.controls = true;\n",
        "    preview.src = url;\n",
        "    document.body.appendChild(preview);\n",
        "\n",
        "    reader = new FileReader();\n",
        "    reader.readAsDataURL(e.data);\n",
        "    reader.onloadend = function() {\n",
        "      base64data = reader.result;\n",
        "      //console.log(\"Inside FileReader:\" + base64data);\n",
        "    }\n",
        "  };\n",
        "  recorder.start();\n",
        "  };\n",
        "\n",
        "recordButton.innerText = \"Recording... press to stop\";\n",
        "\n",
        "navigator.mediaDevices.getUserMedia({audio: true}).then(handleSuccess);\n",
        "\n",
        "\n",
        "function toggleRecording() {\n",
        "  if (recorder && recorder.state == \"recording\") {\n",
        "      recorder.stop();\n",
        "      gumStream.getAudioTracks()[0].stop();\n",
        "      recordButton.innerText = \"Saving the recording... pls wait!\"\n",
        "  }\n",
        "}\n",
        "\n",
        "// https://stackoverflow.com/a/951057\n",
        "function sleep(ms) {\n",
        "  return new Promise(resolve => setTimeout(resolve, ms));\n",
        "}\n",
        "\n",
        "var data = new Promise(resolve=>{\n",
        "//recordButton.addEventListener(\"click\", toggleRecording);\n",
        "recordButton.onclick = ()=>{\n",
        "toggleRecording()\n",
        "\n",
        "sleep(2000).then(() => {\n",
        "  // wait 2000ms for the data to be available...\n",
        "  // ideally this should use something like await...\n",
        "  //console.log(\"Inside data:\" + base64data)\n",
        "  resolve(base64data.toString())\n",
        "\n",
        "});\n",
        "\n",
        "}\n",
        "});\n",
        "\n",
        "</script>\n",
        "\"\"\"\n",
        "\n",
        "def getVoiceRecording():\n",
        "  display(HTML(AUDIO_HTML))\n",
        "  data = eval_js(\"data\")\n",
        "  binary = b64decode(data.split(',')[1])\n",
        "\n",
        "  process = (ffmpeg\n",
        "    .input('pipe:0')\n",
        "    .output('pipe:1', format='wav')\n",
        "    .run_async(pipe_stdin=True, pipe_stdout=True, pipe_stderr=True, quiet=True, overwrite_output=True)\n",
        "  )\n",
        "  output, err = process.communicate(input=binary)\n",
        "\n",
        "  riff_chunk_size = len(output) - 8\n",
        "  # Break up the chunk size into four bytes, held in b.\n",
        "  q = riff_chunk_size\n",
        "  b = []\n",
        "  for i in range(4):\n",
        "      q, r = divmod(q, 256)\n",
        "      b.append(r)\n",
        "\n",
        "  # Replace bytes 4:8 in proc.stdout with the actual size of the RIFF chunk.\n",
        "  riff = output[:4] + bytes(b) + output[8:]\n",
        "\n",
        "  src, audio = wav_read(io.BytesIO(riff))\n",
        "  return audio, src"
      ],
      "metadata": {
        "id": "92yA-lES5tf3"
      },
      "execution_count": null,
      "outputs": []
    },
    {
      "cell_type": "code",
      "source": [
        "def getVoiceInput():\n",
        "  audio, src = getVoiceRecording()\n",
        "  scipy.io.wavfile.write('speechtotext.wav', src, audio)\n",
        "  r = sr.Recognizer()\n",
        "  text = \"\"\n",
        "\n",
        "  audio = 'speechtotext.wav'\n",
        "\n",
        "  with sr.AudioFile(audio) as source:\n",
        "      audio = r.record(source)\n",
        "      print('Done!')\n",
        "\n",
        "  try:\n",
        "      text = r.recognize_google(audio)\n",
        "\n",
        "  except Exception as e:\n",
        "      text = \"{}\".format(e)\n",
        "\n",
        "  return text"
      ],
      "metadata": {
        "id": "URucVGTe7tQG"
      },
      "execution_count": null,
      "outputs": []
    },
    {
      "cell_type": "markdown",
      "metadata": {
        "id": "BjfBobaVEmhh"
      },
      "source": [
        "# LLM"
      ]
    },
    {
      "cell_type": "markdown",
      "metadata": {
        "id": "uCE7ldQz4yrP",
        "jp-MarkdownHeadingCollapsed": true
      },
      "source": [
        "## GPT-3 Prompt Based\n",
        "*   Pros:\n",
        "      - Second most accurate to your character\n",
        "      - Quicker to access pre-trained characters than manually training\n",
        "      - Doesn't need intense hardware; not run locally\n",
        "      - Can modify the initial prompt easier to allow for further customization\n",
        "    \n",
        "\n",
        "\n",
        "*   Cons:\n",
        "      - Can only use a limited number of times freely before you need to pay\n",
        "      - Sanitized nature of GPT-3 means dialogue and conversation will be quite censored\n",
        "\n",
        "\n"
      ]
    },
    {
      "cell_type": "markdown",
      "metadata": {
        "id": "_Uk_5bUUtVYo",
        "jp-MarkdownHeadingCollapsed": true
      },
      "source": [
        "### Imports"
      ]
    },
    {
      "cell_type": "code",
      "execution_count": null,
      "metadata": {
        "id": "86kSDyIytYHs"
      },
      "outputs": [],
      "source": [
        "!pip install openai"
      ]
    },
    {
      "cell_type": "markdown",
      "metadata": {
        "id": "YEhAqgGqtYu_",
        "jp-MarkdownHeadingCollapsed": true
      },
      "source": [
        "### Main(text input)"
      ]
    },
    {
      "cell_type": "code",
      "execution_count": null,
      "metadata": {
        "id": "yhLku9eWtcNI"
      },
      "outputs": [],
      "source": [
        "from openai import OpenAI\n",
        "\n",
        "# Set your OpenAI API key\n",
        "api_key = 'your-api-key'\n",
        "\n",
        "# Set up OpenAI client\n",
        "client = OpenAI(api_key=api_key)\n",
        "\n",
        "# Main loop\n",
        "while True:\n",
        "    response = client.chat.completions.create(\n",
        "        model=\"gpt-3.5-turbo-16k\",\n",
        "        messages=[\n",
        "            {\n",
        "                \"role\": \"system\",\n",
        "                \"content\": \"You are Haru Okumura from the hit JRPG Persona 5\" #Prompt here\n",
        "            },\n",
        "            {\n",
        "                \"role\": \"user\",\n",
        "                \"content\": input(\"You say: \")\n",
        "            }\n",
        "        ],\n",
        "        temperature=1,\n",
        "        max_tokens=256,\n",
        "        top_p=1,\n",
        "        frequency_penalty=0,\n",
        "        presence_penalty=0\n",
        "    )\n",
        "\n",
        "    # Get and print the system's response\n",
        "    print(response.choices[0].message[\"content\"]) #if you want text output\n",
        "    #TTS(response.choices[0].message[\"content\"]) #if you want audio output\n",
        "    print()"
      ]
    },
    {
      "cell_type": "markdown",
      "metadata": {
        "id": "QJKybmZcmh_p",
        "jp-MarkdownHeadingCollapsed": true
      },
      "source": [
        "### Main(audio input)"
      ]
    },
    {
      "cell_type": "code",
      "execution_count": null,
      "metadata": {
        "id": "NJUiBIPjmh_p"
      },
      "outputs": [],
      "source": [
        "from openai import OpenAI\n",
        "\n",
        "# Set your OpenAI API key\n",
        "api_key = 'your-api-key'\n",
        "\n",
        "# Set up OpenAI client\n",
        "client = OpenAI(api_key=api_key)\n",
        "\n",
        "# Main loop\n",
        "while True:\n",
        "    message_content = getVoiceInput()\n",
        "    response = client.chat.completions.create(\n",
        "        model=\"gpt-3.5-turbo-16k\",\n",
        "        messages=[\n",
        "            {\n",
        "                \"role\": \"system\",\n",
        "                \"content\": \"You are Haru Okumura from the hit JRPG Persona 5\" #Prompt here\n",
        "            },\n",
        "            {\n",
        "                \"role\": \"user\",\n",
        "                \"content\": message_content\n",
        "            }\n",
        "        ],\n",
        "        temperature=1,\n",
        "        max_tokens=256,\n",
        "        top_p=1,\n",
        "        frequency_penalty=0,\n",
        "        presence_penalty=0\n",
        "    )\n",
        "\n",
        "    # Get and print the system's response\n",
        "    print(response.choices[0].message[\"content\"]) #if you want text output\n",
        "    #TTS(response.choices[0].message[\"content\"]) #if you want audio output\n",
        "    print()"
      ]
    },
    {
      "cell_type": "markdown",
      "metadata": {
        "id": "xbvoYMMcDz1y",
        "jp-MarkdownHeadingCollapsed": true
      },
      "source": [
        "## Character.ai API\n",
        "\n",
        "\n",
        "*   [Repository](https://github.com/FalcoTK/PyCAI2)\n",
        "\n",
        "\n",
        "*   Pros:\n",
        "      - Most accurate to your character\n",
        "      - Quicker to access pre-trained characters than manually training\n",
        "      - Doesn't need intense hardware; not run locally\n",
        "\n",
        "\n",
        "*   Cons:\n",
        "      - Less customizability\n",
        "      - Cannot be run locally; requires an internet connection. Makes it dangerous if their site goes down and/or you lose internet connection\n",
        "      - Reliant on API functioning properly; any changes to it or the site could cause connection issues\n",
        "      - Character AI terms and services means conversations with AI can be quite censored\n",
        "\n",
        "\n",
        "\n",
        "\n",
        "\n",
        "\n",
        "\n"
      ]
    },
    {
      "cell_type": "markdown",
      "metadata": {
        "id": "yYnFoDPmFdO4",
        "jp-MarkdownHeadingCollapsed": true
      },
      "source": [
        "### Install, Imports and Setup\n"
      ]
    },
    {
      "cell_type": "code",
      "execution_count": null,
      "metadata": {
        "colab": {
          "base_uri": "https://localhost:8080/"
        },
        "id": "RlFqHS3CYOA-",
        "outputId": "bcf800e3-01a8-4439-d641-407c079c5103",
        "scrolled": true
      },
      "outputs": [
        {
          "output_type": "stream",
          "name": "stdout",
          "text": [
            "Collecting PyCAI2\n",
            "  Downloading PyCAI2-2.1.1.tar.gz (6.0 kB)\n",
            "  Preparing metadata (setup.py) ... \u001b[?25l\u001b[?25hdone\n",
            "Collecting curl_cffi (from PyCAI2)\n",
            "  Downloading curl_cffi-0.6.3-cp38-abi3-manylinux_2_17_x86_64.manylinux2014_x86_64.whl (5.5 MB)\n",
            "\u001b[2K     \u001b[90m━━━━━━━━━━━━━━━━━━━━━━━━━━━━━━━━━━━━━━━━\u001b[0m \u001b[32m5.5/5.5 MB\u001b[0m \u001b[31m31.5 MB/s\u001b[0m eta \u001b[36m0:00:00\u001b[0m\n",
            "\u001b[?25hCollecting websockets (from PyCAI2)\n",
            "  Downloading websockets-12.0-cp310-cp310-manylinux_2_5_x86_64.manylinux1_x86_64.manylinux_2_17_x86_64.manylinux2014_x86_64.whl (130 kB)\n",
            "\u001b[2K     \u001b[90m━━━━━━━━━━━━━━━━━━━━━━━━━━━━━━━━━━━━━━━━\u001b[0m \u001b[32m130.2/130.2 kB\u001b[0m \u001b[31m17.7 MB/s\u001b[0m eta \u001b[36m0:00:00\u001b[0m\n",
            "\u001b[?25hCollecting easygoogletranslate (from PyCAI2)\n",
            "  Downloading easygoogletranslate-0.0.4-py3-none-any.whl (3.9 kB)\n",
            "Collecting pydub (from PyCAI2)\n",
            "  Downloading pydub-0.25.1-py2.py3-none-any.whl (32 kB)\n",
            "Requirement already satisfied: cffi>=1.12.0 in /usr/local/lib/python3.10/dist-packages (from curl_cffi->PyCAI2) (1.16.0)\n",
            "Requirement already satisfied: certifi>=2024.2.2 in /usr/local/lib/python3.10/dist-packages (from curl_cffi->PyCAI2) (2024.2.2)\n",
            "Requirement already satisfied: requests>=2.26.0 in /usr/local/lib/python3.10/dist-packages (from easygoogletranslate->PyCAI2) (2.31.0)\n",
            "Requirement already satisfied: pycparser in /usr/local/lib/python3.10/dist-packages (from cffi>=1.12.0->curl_cffi->PyCAI2) (2.22)\n",
            "Requirement already satisfied: charset-normalizer<4,>=2 in /usr/local/lib/python3.10/dist-packages (from requests>=2.26.0->easygoogletranslate->PyCAI2) (3.3.2)\n",
            "Requirement already satisfied: idna<4,>=2.5 in /usr/local/lib/python3.10/dist-packages (from requests>=2.26.0->easygoogletranslate->PyCAI2) (3.7)\n",
            "Requirement already satisfied: urllib3<3,>=1.21.1 in /usr/local/lib/python3.10/dist-packages (from requests>=2.26.0->easygoogletranslate->PyCAI2) (2.0.7)\n",
            "Building wheels for collected packages: PyCAI2\n",
            "  Building wheel for PyCAI2 (setup.py) ... \u001b[?25l\u001b[?25hdone\n",
            "  Created wheel for PyCAI2: filename=PyCAI2-2.1.1-py3-none-any.whl size=5945 sha256=03f429be25e7c43962c7656773bf977c58baca3a56b5b537096fc480f86aaa6b\n",
            "  Stored in directory: /root/.cache/pip/wheels/74/14/a4/4b74f0880652928c4aff84c3fdbc5e99c14b978303cd751800\n",
            "Successfully built PyCAI2\n",
            "Installing collected packages: pydub, websockets, easygoogletranslate, curl_cffi, PyCAI2\n",
            "Successfully installed PyCAI2-2.1.1 curl_cffi-0.6.3 easygoogletranslate-0.0.4 pydub-0.25.1 websockets-12.0\n"
          ]
        }
      ],
      "source": [
        "!pip install PyCAI2"
      ]
    },
    {
      "cell_type": "code",
      "execution_count": null,
      "metadata": {
        "id": "YNRf-htMg8QR"
      },
      "outputs": [],
      "source": [
        "import asyncio as ass # IMPORT LIB\n",
        "from PyCAI2 import PyAsyncCAI2"
      ]
    },
    {
      "cell_type": "markdown",
      "source": [
        "### Main\n",
        "\n"
      ],
      "metadata": {
        "id": "1UuTEfU6QMwm"
      }
    },
    {
      "cell_type": "markdown",
      "source": [
        "#### Audio Input and Output\n",
        "\n",
        "Comment out the message depending on what message type you want(audio or text) and same for output(audio or text)"
      ],
      "metadata": {
        "id": "-RemyPa3jRaH"
      }
    },
    {
      "cell_type": "code",
      "source": [
        "owner_id = 'ENTER HERE' #refer to tutorial on where to find\n",
        "char_id = \"ENTER HERE\" #refer to tutorial on where to find\n",
        "room_id = \"ENTER HERE\" #refer to tutorial on where to find\n",
        "#voice_target = \"E:\\\\FOLDER\\\\FOLDER\\\\FOLDER\\\\FOLDER\\\\FOLDER\"\n",
        "\n",
        "clinet = PyAsyncCAI2(owner_id)\n",
        "\n",
        "async def main():\n",
        "    message = \"\"\n",
        "    while(message != \"end communication\"):\n",
        "\n",
        "      #INPUT---------------------------------------------------------------------------------------\n",
        "      message = getVoiceInput() #for audio input\n",
        "      #message = input(\"You: \") #for text input\n",
        "      #--------------------------------------------------------------------------------------------\n",
        "\n",
        "      async with clinet.connect(owner_id) as chat2:\n",
        "          r = await chat2.send_message(char, message, \"INSERT USERNAME HERE\", Return_name=False)\n",
        "\n",
        "          #OUTPUT(audio no visual)-----------------------------------------------------------------\n",
        "          #print(r) #if you want text output\n",
        "          TTS(r) #if you want audio output\n",
        "          #-----------------------------------------------------------------------------------------\n",
        "\n",
        "await main()"
      ],
      "metadata": {
        "colab": {
          "base_uri": "https://localhost:8080/",
          "height": 211
        },
        "id": "EqgpUY7uQLOU",
        "outputId": "3ff64fc9-9759-4eaa-9cc3-d5701b9ea7bf"
      },
      "execution_count": null,
      "outputs": [
        {
          "output_type": "error",
          "ename": "NameError",
          "evalue": "name 'PyAsyncCAI2' is not defined",
          "traceback": [
            "\u001b[0;31m---------------------------------------------------------------------------\u001b[0m",
            "\u001b[0;31mNameError\u001b[0m                                 Traceback (most recent call last)",
            "\u001b[0;32m<ipython-input-1-d4448f38a9f0>\u001b[0m in \u001b[0;36m<cell line: 6>\u001b[0;34m()\u001b[0m\n\u001b[1;32m      4\u001b[0m \u001b[0;31m#voice_target = \"E:\\\\FOLDER\\\\FOLDER\\\\FOLDER\\\\FOLDER\\\\FOLDER\"\u001b[0m\u001b[0;34m\u001b[0m\u001b[0;34m\u001b[0m\u001b[0m\n\u001b[1;32m      5\u001b[0m \u001b[0;34m\u001b[0m\u001b[0m\n\u001b[0;32m----> 6\u001b[0;31m \u001b[0mclinet\u001b[0m \u001b[0;34m=\u001b[0m \u001b[0mPyAsyncCAI2\u001b[0m\u001b[0;34m(\u001b[0m\u001b[0mowner_id\u001b[0m\u001b[0;34m)\u001b[0m\u001b[0;34m\u001b[0m\u001b[0;34m\u001b[0m\u001b[0m\n\u001b[0m\u001b[1;32m      7\u001b[0m \u001b[0;34m\u001b[0m\u001b[0m\n\u001b[1;32m      8\u001b[0m \u001b[0;32masync\u001b[0m \u001b[0;32mdef\u001b[0m \u001b[0mmain\u001b[0m\u001b[0;34m(\u001b[0m\u001b[0;34m)\u001b[0m\u001b[0;34m:\u001b[0m\u001b[0;34m\u001b[0m\u001b[0;34m\u001b[0m\u001b[0m\n",
            "\u001b[0;31mNameError\u001b[0m: name 'PyAsyncCAI2' is not defined"
          ]
        }
      ]
    },
    {
      "cell_type": "markdown",
      "source": [
        "#### GIF Face Output"
      ],
      "metadata": {
        "id": "XyfVMVjsjO_V"
      }
    },
    {
      "cell_type": "code",
      "source": [
        "owner_id = 'ENTER HERE' #refer to tutorial on where to find\n",
        "char_id = \"ENTER HERE\" #refer to tutorial on where to find\n",
        "room_id = \"ENTER HERE\" #refer to tutorial on where to find\n",
        "#voice_target = \"E:\\\\FOLDER\\\\FOLDER\\\\FOLDER\\\\FOLDER\\\\FOLDER\"\n",
        "\n",
        "clinet = PyAsyncCAI2(owner_id)\n",
        "\n",
        "async def main():\n",
        "    message = \"\"\n",
        "    while(message != \"end communication\"):\n",
        "      if(x != 0):\n",
        "        time.sleep(5)\n",
        "      #INPUT---------------------------------------------------------------------------------------\n",
        "      message = getVoiceInput() #for audio input\n",
        "      #message = input(\"You: \") #for text input\n",
        "      #--------------------------------------------------------------------------------------------\n",
        "\n",
        "      async with clinet.connect(owner_id) as chat2:\n",
        "          r = await chat2.send_message(char, message, \"INSERT USERNAME HERE\", Return_name=False)\n",
        "\n",
        "          #OUTPUT(visual)-----------------------------------------------------------------\n",
        "          #print(r) #if you want text output\n",
        "          TTS(r, True) #if you want audio output\n",
        "          x = librosa.get_duration(filename='captured_voice.wav')\n",
        "          create_and_display_gif(['FIRST PNG NAME HERE.png', 'SECOND PNG NAME HERE.png', 'THIRD PNG NAME HERE.png'], total_duration_seconds=x, duration_per_image=0.1)\n",
        "          display(Audio('captured_voice.wav', autoplay=True))\n",
        "          time.sleep(x)\n",
        "          #-----------------------------------------------------------------------------------------\n",
        "\n",
        "await main()"
      ],
      "metadata": {
        "id": "7t7WDBspkQpA"
      },
      "execution_count": null,
      "outputs": []
    },
    {
      "cell_type": "markdown",
      "source": [
        "#### Deepfake Output"
      ],
      "metadata": {
        "id": "qkV4O3Fvjoku"
      }
    },
    {
      "cell_type": "code",
      "source": [
        "owner_id = 'ENTER HERE' #refer to tutorial on where to find\n",
        "char_id = \"ENTER HERE\" #refer to tutorial on where to find\n",
        "room_id = \"ENTER HERE\" #refer to tutorial on where to find\n",
        "#voice_target = \"E:\\\\FOLDER\\\\FOLDER\\\\FOLDER\\\\FOLDER\\\\FOLDER\"\n",
        "\n",
        "clinet = PyAsyncCAI2(owner_id)\n",
        "\n",
        "async def main():\n",
        "    x = 0\n",
        "    message = \"\"\n",
        "    while(message != \"end communication\"):\n",
        "      %cd /content\n",
        "      if(x != 0):\n",
        "        time.sleep(5)\n",
        "      #INPUT---------------------------------------------------------------------------------------\n",
        "      message = getVoiceInput() #for audio input\n",
        "      #message = input(\"You: \") #for text input\n",
        "      #--------------------------------------------------------------------------------------------\n",
        "      async with clinet.connect(owner_id) as chat2:\n",
        "          r = await chat2.send_message(char, message, \"INSERT USERNAME HERE\", Return_name=False)\n",
        "\n",
        "          #OUTPUT(visual)-----------------------------------------------------------------\n",
        "          #print(r) #if you want text output\n",
        "          TTS(r, True) #if you want audio output\n",
        "          %cd /content/SadTalker\n",
        "          anim_face(img, x)\n",
        "          x+=1\n",
        "          #-----------------------------------------------------------------------------------------\n",
        "\n",
        "await main()"
      ],
      "metadata": {
        "id": "m8BsU3V4kRMU"
      },
      "execution_count": null,
      "outputs": []
    },
    {
      "cell_type": "markdown",
      "metadata": {
        "id": "ZE-KJmTvDuZX"
      },
      "source": [
        "## Local Trained(Falcon-7B)\n",
        "\n",
        "Two options, either train a new model or run a pre-trained one. Can work with falcon 7b, mistral 7b and llama 7b\n",
        "\n",
        "*   [Source](https://youtu.be/Q9zv369Ggfk?si=dqNtsncMydLrYB0N)\n",
        "\n",
        "*   Pros:\n",
        "      - Can be customized to fit the users needs\n",
        "      - Training, loading and running don't require crazy hardware; model can be downloaded locally to run whenever\n",
        "      - Doesn't need an internet connection as it's run locally, allowing you to access it whenever you need\n",
        "      - Local Fine-Tuned LLM avoids censoring issues\n",
        "\n",
        "\n",
        "*   Cons:\n",
        "      - Results may vary based on several factors; dataset(i;e amount and quality of data), training time, model, parameters, etc\n",
        "      - Can take some time to load the model despite it's size\n",
        "      - Needs a GPU"
      ]
    },
    {
      "cell_type": "markdown",
      "metadata": {
        "id": "zsW5iF8emh_q",
        "jp-MarkdownHeadingCollapsed": true
      },
      "source": [
        "### Train new model"
      ]
    },
    {
      "cell_type": "markdown",
      "metadata": {
        "id": "bNjKxx5S73SB",
        "jp-MarkdownHeadingCollapsed": true
      },
      "source": [
        "#### Installs, Imports and Setup"
      ]
    },
    {
      "cell_type": "code",
      "execution_count": null,
      "metadata": {
        "colab": {
          "base_uri": "https://localhost:8080/"
        },
        "id": "h5dtspiF8EHo",
        "outputId": "299087e4-4343-42a5-ff16-6d799c78f6bc"
      },
      "outputs": [
        {
          "output_type": "stream",
          "name": "stdout",
          "text": [
            "Looking in indexes: https://pypi.org/simple, https://jllllll.github.io/bitsandbytes-windows-webui\n",
            "Collecting bitsandbytes\n",
            "  Downloading bitsandbytes-0.43.1-py3-none-manylinux_2_24_x86_64.whl (119.8 MB)\n",
            "\u001b[2K     \u001b[90m━━━━━━━━━━━━━━━━━━━━━━━━━━━━━━━━━━━━━━━━\u001b[0m \u001b[32m119.8/119.8 MB\u001b[0m \u001b[31m1.9 MB/s\u001b[0m eta \u001b[36m0:00:00\u001b[0m\n",
            "\u001b[?25h\u001b[31mERROR: Operation cancelled by user\u001b[0m\u001b[31m\n",
            "\u001b[0m"
          ]
        }
      ],
      "source": [
        "!python -m pip install bitsandbytes --prefer-binary --extra-index-url=https://jllllll.github.io/bitsandbytes-windows-webui"
      ]
    },
    {
      "cell_type": "code",
      "execution_count": null,
      "metadata": {
        "colab": {
          "base_uri": "https://localhost:8080/"
        },
        "id": "rU-9M3RO8FYq",
        "outputId": "b24716d3-6120-4e77-889f-53578af742c6"
      },
      "outputs": [
        {
          "output_type": "stream",
          "name": "stdout",
          "text": [
            "\u001b[31mERROR: Operation cancelled by user\u001b[0m\u001b[31m\n",
            "\u001b[0mTraceback (most recent call last):\n",
            "  File \"/usr/local/bin/pip3\", line 5, in <module>\n",
            "    from pip._internal.cli.main import main\n",
            "  File \"/usr/local/lib/python3.10/dist-packages/pip/_internal/cli/main.py\", line 10, in <module>\n",
            "    from pip._internal.cli.autocompletion import autocomplete\n",
            "  File \"/usr/local/lib/python3.10/dist-packages/pip/_internal/cli/autocompletion.py\", line 10, in <module>\n",
            "    from pip._internal.cli.main_parser import create_main_parser\n",
            "  File \"/usr/local/lib/python3.10/dist-packages/pip/_internal/cli/main_parser.py\", line 9, in <module>\n",
            "    from pip._internal.build_env import get_runnable_pip\n",
            "  File \"/usr/local/lib/python3.10/dist-packages/pip/_internal/build_env.py\", line 19, in <module>\n",
            "    from pip._internal.cli.spinners import open_spinner\n",
            "  File \"/usr/local/lib/python3.10/dist-packages/pip/_internal/cli/spinners.py\", line 9, in <module>\n",
            "    from pip._internal.utils.logging import get_indentation\n",
            "  File \"/usr/local/lib/python3.10/dist-packages/pip/_internal/utils/logging.py\", line 22, in <module>\n",
            "    from pip._vendor.rich.logging import RichHandler\n",
            "  File \"/usr/local/lib/python3.10/dist-packages/pip/_vendor/rich/logging.py\", line 15, in <module>\n",
            "  File \"/usr/local/lib/python3.10/dist-packages/pip/_vendor/rich/traceback.py\", line 23, in <module>\n",
            "    from pip._vendor.pygments.lexers import guess_lexer_for_filename\n",
            "  File \"/usr/local/lib/python3.10/dist-packages/pip/_vendor/pygments/lexers/__init__.py\", line 17, in <module>\n",
            "    from pip._vendor.pygments.modeline import get_filetype_from_buffer\n",
            "  File \"/usr/local/lib/python3.10/dist-packages/pip/_vendor/pygments/modeline.py\", line 16, in <module>\n",
            "    modeline_re = re.compile(r'''\n",
            "  File \"/usr/lib/python3.10/re.py\", line 251, in compile\n",
            "    return _compile(pattern, flags)\n",
            "  File \"/usr/lib/python3.10/re.py\", line 303, in _compile\n",
            "    p = sre_compile.compile(pattern, flags)\n",
            "  File \"/usr/lib/python3.10/sre_compile.py\", line 792, in compile\n",
            "    code = _code(p, flags)\n",
            "  File \"/usr/lib/python3.10/sre_compile.py\", line 628, in _code\n",
            "    _compile_info(code, p, flags)\n",
            "  File \"/usr/lib/python3.10/sre_compile.py\", line 565, in _compile_info\n",
            "    if hi > MAXCODE:\n",
            "KeyboardInterrupt\n",
            "^C\n",
            "\u001b[31mERROR: Operation cancelled by user\u001b[0m\u001b[31m\n",
            "\u001b[0m\u001b[31mERROR: Operation cancelled by user\u001b[0m\u001b[31m\n",
            "\u001b[0m"
          ]
        }
      ],
      "source": [
        "!pip install -Uqqq pip\n",
        "!pip install -qqq torch==2.0.1\n",
        "!pip install -qqq -U git+https://github.com/huggingface/transformers.git@e03a9cc\n",
        "!pip install -qqq -U git+https://github.com/huggingface/peft.git@42a184f\n",
        "!pip install -qqq -U git+https://github.com/huggingface/accelerate.git@c9fbb71\n",
        "!pip install -qqq datasets==2.12.0\n",
        "!pip install -qqq loralib==0.1.1\n",
        "!pip install -qqq einops==0.6.1"
      ]
    },
    {
      "cell_type": "code",
      "execution_count": null,
      "metadata": {
        "id": "knYpn8DS8KAR"
      },
      "outputs": [],
      "source": [
        "import json\n",
        "import os\n",
        "from pprint import pprint\n",
        "import bitsandbytes as bnb\n",
        "import torch\n",
        "import torch.nn as nn\n",
        "import transformers\n",
        "from datasets import load_dataset\n",
        "from huggingface_hub import notebook_login\n",
        "from peft import (\n",
        "    LoraConfig,\n",
        "    PeftConfig,\n",
        "    PeftModel,\n",
        "    get_peft_model,\n",
        "    prepare_model_for_kbit_training\n",
        ")\n",
        "from transformers import (\n",
        "    AutoConfig,\n",
        "    AutoModelForCausalLM,\n",
        "    AutoTokenizer,\n",
        "    BitsAndBytesConfig\n",
        ")\n",
        "\n",
        "os.environ[\"CUDA_VISIBLE_DEVICES\"] = \"0\""
      ]
    },
    {
      "cell_type": "code",
      "execution_count": null,
      "metadata": {
        "id": "2siXMJ8i8K61"
      },
      "outputs": [],
      "source": [
        "notebook_login()"
      ]
    },
    {
      "cell_type": "markdown",
      "metadata": {
        "id": "gUI2GwzR9BPM",
        "jp-MarkdownHeadingCollapsed": true
      },
      "source": [
        "#### Load model"
      ]
    },
    {
      "cell_type": "code",
      "execution_count": null,
      "metadata": {
        "id": "_s7cOAzE9GzB"
      },
      "outputs": [],
      "source": [
        "MODEL_NAME = \"tiiuae/falcon-7b\"\n",
        "\n",
        "bnb_config = BitsAndBytesConfig(\n",
        "    load_in_4bit=True,\n",
        "    bnb_4bit_use_double_quant=True,\n",
        "    bnb_4bit_quant_type=\"nf4\",\n",
        "    bnb_4bit_compute_dtype=torch.bfloat16\n",
        ")\n",
        "\n",
        "model = AutoModelForCausalLM.from_pretrained(\n",
        "    MODEL_NAME,\n",
        "    device_map=\"auto\",\n",
        "    trust_remote_code=True,\n",
        "    quantization_config=bnb_config\n",
        ")\n",
        "\n",
        "tokenizer = AutoTokenizer.from_pretrained(MODEL_NAME)\n",
        "tokenizer.pad_token = tokenizer.eos_token"
      ]
    },
    {
      "cell_type": "code",
      "execution_count": null,
      "metadata": {
        "id": "823DF9kl9Rhz"
      },
      "outputs": [],
      "source": [
        "def print_trainable_parameters(model):\n",
        "  \"\"\"\n",
        "  Prints the number of trainable parameters in the model.\n",
        "  \"\"\"\n",
        "  trainable_params = 0\n",
        "  all_param = 0\n",
        "  for _, param in model.named_parameters():\n",
        "    all_param += param.numel()\n",
        "    if param.requires_grad:\n",
        "      trainable_params += param.numel()\n",
        "  print(\n",
        "      f\"trainable params: {trainable_params} || all params: {all_param} || trainables%: {100 * trainable_params / all_param}\"\n",
        "  )"
      ]
    },
    {
      "cell_type": "code",
      "execution_count": null,
      "metadata": {
        "id": "DaS4Qj359TXE"
      },
      "outputs": [],
      "source": [
        "model.gradient_checkpointing_enable()\n",
        "model = prepare_model_for_kbit_training(model)"
      ]
    },
    {
      "cell_type": "code",
      "execution_count": null,
      "metadata": {
        "id": "G4Doc4eM9U3B"
      },
      "outputs": [],
      "source": [
        "config = LoraConfig(\n",
        "    r=16,\n",
        "    lora_alpha=32,\n",
        "    target_modules=[\"query_key_value\"],\n",
        "    lora_dropout=0.05,\n",
        "    bias=\"none\",\n",
        "    task_type=\"CAUSAL_LM\"\n",
        ")\n",
        "\n",
        "model = get_peft_model(model, config)\n",
        "print_trainable_parameters(model)"
      ]
    },
    {
      "cell_type": "markdown",
      "metadata": {
        "id": "SRLhwmmR9bmL",
        "jp-MarkdownHeadingCollapsed": true
      },
      "source": [
        "#### Prepare dataset"
      ]
    },
    {
      "cell_type": "code",
      "execution_count": null,
      "metadata": {
        "id": "N52HLlcg9ewU"
      },
      "outputs": [],
      "source": [
        "data = load_dataset(\"csv\", data_files=\"INSERT CSV DATASET HERE\")\n",
        "#data\n",
        "#data[\"train\"][0]"
      ]
    },
    {
      "cell_type": "code",
      "execution_count": null,
      "metadata": {
        "id": "NmLQqEb49gZK"
      },
      "outputs": [],
      "source": [
        "def generate_prompt(data_point):\n",
        "  return f\"\"\"\n",
        "<human>: {data_point[\"User\"]}\n",
        "<assistant>: {data_point[\"Prompt\"]}\n",
        "\"\"\".strip()\n",
        "\n",
        "def generate_and_tokenize_prompt(data_point):\n",
        "  full_prompt = generate_prompt(data_point)\n",
        "  tokenized_full_prompt = tokenizer(full_prompt, padding=True, truncation=True)\n",
        "  return tokenized_full_prompt"
      ]
    },
    {
      "cell_type": "code",
      "execution_count": null,
      "metadata": {
        "id": "6K8NduUZ9tpS"
      },
      "outputs": [],
      "source": [
        "#data = data[\"train\"].shuffle().map(generate_and_tokenize_prompt)\n",
        "#data"
      ]
    },
    {
      "cell_type": "markdown",
      "metadata": {
        "id": "1NJyjrLa-S3b",
        "jp-MarkdownHeadingCollapsed": true
      },
      "source": [
        "#### Finetune the model"
      ]
    },
    {
      "cell_type": "code",
      "execution_count": null,
      "metadata": {
        "id": "kno28xqT-XSj"
      },
      "outputs": [],
      "source": [
        "training_args = transformers.TrainingArguments(\n",
        "      per_device_train_batch_size=1,\n",
        "      gradient_accumulation_steps=4,\n",
        "      num_train_epochs=1,\n",
        "      learning_rate=2e-4,\n",
        "      fp16=True,\n",
        "      save_total_limit=3,\n",
        "      logging_steps=1,\n",
        "      output_dir=\"experiments\",\n",
        "      optim=\"paged_adamw_8bit\",\n",
        "      lr_scheduler_type=\"cosine\",\n",
        "      warmup_ratio=0.05,\n",
        ")\n",
        "\n",
        "trainer = transformers.Trainer(\n",
        "    model=model,\n",
        "    train_dataset=data,\n",
        "    args=training_args,\n",
        "    data_collator=transformers.DataCollatorForLanguageModeling(tokenizer, mlm=False)\n",
        ")\n",
        "model.config.use_cache = False\n",
        "trainer.train()"
      ]
    },
    {
      "cell_type": "markdown",
      "metadata": {
        "id": "ZXsN9dRL-cMY",
        "jp-MarkdownHeadingCollapsed": true
      },
      "source": [
        "#### Save the model"
      ]
    },
    {
      "cell_type": "code",
      "execution_count": null,
      "metadata": {
        "id": "UKyRX7b9-ZDU"
      },
      "outputs": [],
      "source": [
        "model.save_pretrained(\"trained-model\")"
      ]
    },
    {
      "cell_type": "code",
      "execution_count": null,
      "metadata": {
        "id": "pJ-uRnus-fwK"
      },
      "outputs": [],
      "source": [
        "PEFT_MODEL = \"TYPE THE NAME THAT YOU WOULD LIKE TO SAVE THE MODEL AS HERE\"\n",
        "\n",
        "model.push_to_hub(\n",
        "    PEFT_MODEL, use_auth_token=True\n",
        ")"
      ]
    },
    {
      "cell_type": "markdown",
      "metadata": {
        "id": "iRi6mkzqmh_u",
        "jp-MarkdownHeadingCollapsed": true
      },
      "source": [
        "### Run Trained Model\n"
      ]
    },
    {
      "cell_type": "markdown",
      "metadata": {
        "id": "85SCB0YVmh_u",
        "jp-MarkdownHeadingCollapsed": true
      },
      "source": [
        "#### Imports"
      ]
    },
    {
      "cell_type": "code",
      "execution_count": null,
      "metadata": {
        "id": "VWYAhAc-mh_u",
        "outputId": "e137117b-310c-4a7e-f814-247757f5185e",
        "scrolled": true,
        "colab": {
          "base_uri": "https://localhost:8080/"
        }
      },
      "outputs": [
        {
          "output_type": "stream",
          "name": "stdout",
          "text": [
            "Looking in indexes: https://pypi.org/simple, https://jllllll.github.io/bitsandbytes-windows-webui\n",
            "Collecting bitsandbytes\n",
            "  Downloading bitsandbytes-0.43.1-py3-none-manylinux_2_24_x86_64.whl (119.8 MB)\n",
            "\u001b[2K     \u001b[90m━━━━━━━━━━━━━━━━━━━━━━━━━━━━━━━━━━━━━━━━\u001b[0m \u001b[32m119.8/119.8 MB\u001b[0m \u001b[31m7.8 MB/s\u001b[0m eta \u001b[36m0:00:00\u001b[0m\n",
            "\u001b[?25hRequirement already satisfied: torch in /usr/local/lib/python3.10/dist-packages (from bitsandbytes) (2.2.1+cu121)\n",
            "Requirement already satisfied: numpy in /usr/local/lib/python3.10/dist-packages (from bitsandbytes) (1.25.2)\n",
            "Requirement already satisfied: filelock in /usr/local/lib/python3.10/dist-packages (from torch->bitsandbytes) (3.14.0)\n",
            "Requirement already satisfied: typing-extensions>=4.8.0 in /usr/local/lib/python3.10/dist-packages (from torch->bitsandbytes) (4.11.0)\n",
            "Requirement already satisfied: sympy in /usr/local/lib/python3.10/dist-packages (from torch->bitsandbytes) (1.12)\n",
            "Requirement already satisfied: networkx in /usr/local/lib/python3.10/dist-packages (from torch->bitsandbytes) (3.3)\n",
            "Requirement already satisfied: jinja2 in /usr/local/lib/python3.10/dist-packages (from torch->bitsandbytes) (3.1.3)\n",
            "Requirement already satisfied: fsspec in /usr/local/lib/python3.10/dist-packages (from torch->bitsandbytes) (2023.6.0)\n",
            "Collecting nvidia-cuda-nvrtc-cu12==12.1.105 (from torch->bitsandbytes)\n",
            "  Using cached nvidia_cuda_nvrtc_cu12-12.1.105-py3-none-manylinux1_x86_64.whl (23.7 MB)\n",
            "Collecting nvidia-cuda-runtime-cu12==12.1.105 (from torch->bitsandbytes)\n",
            "  Using cached nvidia_cuda_runtime_cu12-12.1.105-py3-none-manylinux1_x86_64.whl (823 kB)\n",
            "Collecting nvidia-cuda-cupti-cu12==12.1.105 (from torch->bitsandbytes)\n",
            "  Using cached nvidia_cuda_cupti_cu12-12.1.105-py3-none-manylinux1_x86_64.whl (14.1 MB)\n",
            "Collecting nvidia-cudnn-cu12==8.9.2.26 (from torch->bitsandbytes)\n",
            "  Using cached nvidia_cudnn_cu12-8.9.2.26-py3-none-manylinux1_x86_64.whl (731.7 MB)\n",
            "Collecting nvidia-cublas-cu12==12.1.3.1 (from torch->bitsandbytes)\n",
            "  Using cached nvidia_cublas_cu12-12.1.3.1-py3-none-manylinux1_x86_64.whl (410.6 MB)\n",
            "Collecting nvidia-cufft-cu12==11.0.2.54 (from torch->bitsandbytes)\n",
            "  Using cached nvidia_cufft_cu12-11.0.2.54-py3-none-manylinux1_x86_64.whl (121.6 MB)\n",
            "Collecting nvidia-curand-cu12==10.3.2.106 (from torch->bitsandbytes)\n",
            "  Using cached nvidia_curand_cu12-10.3.2.106-py3-none-manylinux1_x86_64.whl (56.5 MB)\n",
            "Collecting nvidia-cusolver-cu12==11.4.5.107 (from torch->bitsandbytes)\n",
            "  Using cached nvidia_cusolver_cu12-11.4.5.107-py3-none-manylinux1_x86_64.whl (124.2 MB)\n",
            "Collecting nvidia-cusparse-cu12==12.1.0.106 (from torch->bitsandbytes)\n",
            "  Using cached nvidia_cusparse_cu12-12.1.0.106-py3-none-manylinux1_x86_64.whl (196.0 MB)\n",
            "Collecting nvidia-nccl-cu12==2.19.3 (from torch->bitsandbytes)\n",
            "  Using cached nvidia_nccl_cu12-2.19.3-py3-none-manylinux1_x86_64.whl (166.0 MB)\n",
            "Collecting nvidia-nvtx-cu12==12.1.105 (from torch->bitsandbytes)\n",
            "  Using cached nvidia_nvtx_cu12-12.1.105-py3-none-manylinux1_x86_64.whl (99 kB)\n",
            "Requirement already satisfied: triton==2.2.0 in /usr/local/lib/python3.10/dist-packages (from torch->bitsandbytes) (2.2.0)\n",
            "Collecting nvidia-nvjitlink-cu12 (from nvidia-cusolver-cu12==11.4.5.107->torch->bitsandbytes)\n",
            "  Using cached nvidia_nvjitlink_cu12-12.4.127-py3-none-manylinux2014_x86_64.whl (21.1 MB)\n",
            "Requirement already satisfied: MarkupSafe>=2.0 in /usr/local/lib/python3.10/dist-packages (from jinja2->torch->bitsandbytes) (2.1.5)\n",
            "Requirement already satisfied: mpmath>=0.19 in /usr/local/lib/python3.10/dist-packages (from sympy->torch->bitsandbytes) (1.3.0)\n",
            "Installing collected packages: nvidia-nvtx-cu12, nvidia-nvjitlink-cu12, nvidia-nccl-cu12, nvidia-curand-cu12, nvidia-cufft-cu12, nvidia-cuda-runtime-cu12, nvidia-cuda-nvrtc-cu12, nvidia-cuda-cupti-cu12, nvidia-cublas-cu12, nvidia-cusparse-cu12, nvidia-cudnn-cu12, nvidia-cusolver-cu12, bitsandbytes\n",
            "Successfully installed bitsandbytes-0.43.1 nvidia-cublas-cu12-12.1.3.1 nvidia-cuda-cupti-cu12-12.1.105 nvidia-cuda-nvrtc-cu12-12.1.105 nvidia-cuda-runtime-cu12-12.1.105 nvidia-cudnn-cu12-8.9.2.26 nvidia-cufft-cu12-11.0.2.54 nvidia-curand-cu12-10.3.2.106 nvidia-cusolver-cu12-11.4.5.107 nvidia-cusparse-cu12-12.1.0.106 nvidia-nccl-cu12-2.19.3 nvidia-nvjitlink-cu12-12.4.127 nvidia-nvtx-cu12-12.1.105\n"
          ]
        }
      ],
      "source": [
        "!python -m pip install bitsandbytes --prefer-binary --extra-index-url=https://jllllll.github.io/bitsandbytes-windows-webui"
      ]
    },
    {
      "cell_type": "code",
      "execution_count": null,
      "metadata": {
        "id": "6YDs_TOMmh_v",
        "outputId": "6e7e324c-23c5-4810-9f3f-856d3a4cfee6",
        "colab": {
          "base_uri": "https://localhost:8080/"
        }
      },
      "outputs": [
        {
          "output_type": "stream",
          "name": "stdout",
          "text": [
            "\u001b[2K     \u001b[90m━━━━━━━━━━━━━━━━━━━━━━━━━━━━━━━━━━━━━━━━\u001b[0m \u001b[32m2.1/2.1 MB\u001b[0m \u001b[31m31.2 MB/s\u001b[0m eta \u001b[36m0:00:00\u001b[0m\n",
            "\u001b[2K   \u001b[90m━━━━━━━━━━━━━━━━━━━━━━━━━━━━━━━━━━━━━━━━\u001b[0m \u001b[32m619.9/619.9 MB\u001b[0m \u001b[31m2.7 MB/s\u001b[0m eta \u001b[36m0:00:00\u001b[0m\n",
            "\u001b[2K   \u001b[90m━━━━━━━━━━━━━━━━━━━━━━━━━━━━━━━━━━━━━━━━\u001b[0m \u001b[32m317.1/317.1 MB\u001b[0m \u001b[31m4.7 MB/s\u001b[0m eta \u001b[36m0:00:00\u001b[0m\n",
            "\u001b[2K   \u001b[90m━━━━━━━━━━━━━━━━━━━━━━━━━━━━━━━━━━━━━━━━\u001b[0m \u001b[32m11.8/11.8 MB\u001b[0m \u001b[31m105.1 MB/s\u001b[0m eta \u001b[36m0:00:00\u001b[0m\n",
            "\u001b[2K   \u001b[90m━━━━━━━━━━━━━━━━━━━━━━━━━━━━━━━━━━━━━━━━\u001b[0m \u001b[32m21.0/21.0 MB\u001b[0m \u001b[31m87.2 MB/s\u001b[0m eta \u001b[36m0:00:00\u001b[0m\n",
            "\u001b[2K   \u001b[90m━━━━━━━━━━━━━━━━━━━━━━━━━━━━━━━━━━━━━━━━\u001b[0m \u001b[32m849.3/849.3 kB\u001b[0m \u001b[31m46.4 MB/s\u001b[0m eta \u001b[36m0:00:00\u001b[0m\n",
            "\u001b[2K   \u001b[90m━━━━━━━━━━━━━━━━━━━━━━━━━━━━━━━━━━━━━━━━\u001b[0m \u001b[32m557.1/557.1 MB\u001b[0m \u001b[31m3.1 MB/s\u001b[0m eta \u001b[36m0:00:00\u001b[0m\n",
            "\u001b[2K   \u001b[90m━━━━━━━━━━━━━━━━━━━━━━━━━━━━━━━━━━━━━━━━\u001b[0m \u001b[32m168.4/168.4 MB\u001b[0m \u001b[31m6.1 MB/s\u001b[0m eta \u001b[36m0:00:00\u001b[0m\n",
            "\u001b[2K   \u001b[90m━━━━━━━━━━━━━━━━━━━━━━━━━━━━━━━━━━━━━━━━\u001b[0m \u001b[32m54.6/54.6 MB\u001b[0m \u001b[31m12.2 MB/s\u001b[0m eta \u001b[36m0:00:00\u001b[0m\n",
            "\u001b[2K   \u001b[90m━━━━━━━━━━━━━━━━━━━━━━━━━━━━━━━━━━━━━━━━\u001b[0m \u001b[32m102.6/102.6 MB\u001b[0m \u001b[31m8.1 MB/s\u001b[0m eta \u001b[36m0:00:00\u001b[0m\n",
            "\u001b[2K   \u001b[90m━━━━━━━━━━━━━━━━━━━━━━━━━━━━━━━━━━━━━━━━\u001b[0m \u001b[32m173.2/173.2 MB\u001b[0m \u001b[31m6.6 MB/s\u001b[0m eta \u001b[36m0:00:00\u001b[0m\n",
            "\u001b[2K   \u001b[90m━━━━━━━━━━━━━━━━━━━━━━━━━━━━━━━━━━━━━━━━\u001b[0m \u001b[32m177.1/177.1 MB\u001b[0m \u001b[31m7.2 MB/s\u001b[0m eta \u001b[36m0:00:00\u001b[0m\n",
            "\u001b[2K   \u001b[90m━━━━━━━━━━━━━━━━━━━━━━━━━━━━━━━━━━━━━━━━\u001b[0m \u001b[32m98.6/98.6 kB\u001b[0m \u001b[31m8.7 MB/s\u001b[0m eta \u001b[36m0:00:00\u001b[0m\n",
            "\u001b[2K   \u001b[90m━━━━━━━━━━━━━━━━━━━━━━━━━━━━━━━━━━━━━━━━\u001b[0m \u001b[32m63.3/63.3 MB\u001b[0m \u001b[31m12.5 MB/s\u001b[0m eta \u001b[36m0:00:00\u001b[0m\n",
            "\u001b[2K   \u001b[90m━━━━━━━━━━━━━━━━━━━━━━━━━━━━━━━━━━━━━━━━\u001b[0m \u001b[32m96.4/96.4 kB\u001b[0m \u001b[31m7.6 MB/s\u001b[0m eta \u001b[36m0:00:00\u001b[0m\n",
            "\u001b[?25h\u001b[31mERROR: pip's dependency resolver does not currently take into account all the packages that are installed. This behaviour is the source of the following dependency conflicts.\n",
            "torchaudio 2.2.1+cu121 requires torch==2.2.1, but you have torch 2.0.1 which is incompatible.\n",
            "torchtext 0.17.1 requires torch==2.2.1, but you have torch 2.0.1 which is incompatible.\n",
            "torchvision 0.17.1+cu121 requires torch==2.2.1, but you have torch 2.0.1 which is incompatible.\u001b[0m\u001b[31m\n",
            "\u001b[0m\u001b[33mWARNING: Running pip as the 'root' user can result in broken permissions and conflicting behaviour with the system package manager. It is recommended to use a virtual environment instead: https://pip.pypa.io/warnings/venv\u001b[0m\u001b[33m\n",
            "\u001b[0m\u001b[33m  WARNING: Did not find branch or tag 'e03a9cc', assuming revision or ref.\u001b[0m\u001b[33m\n",
            "\u001b[0m  Installing build dependencies ... \u001b[?25l\u001b[?25hdone\n",
            "  Getting requirements to build wheel ... \u001b[?25l\u001b[?25hdone\n",
            "  Installing backend dependencies ... \u001b[?25l\u001b[?25hdone\n",
            "  Preparing metadata (pyproject.toml) ... \u001b[?25l\u001b[?25hdone\n",
            "\u001b[2K   \u001b[90m━━━━━━━━━━━━━━━━━━━━━━━━━━━━━━━━━━━━━━━━\u001b[0m \u001b[32m7.8/7.8 MB\u001b[0m \u001b[31m28.5 MB/s\u001b[0m eta \u001b[36m0:00:00\u001b[0m\n",
            "\u001b[?25h  Building wheel for transformers (pyproject.toml) ... \u001b[?25l\u001b[?25hdone\n",
            "\u001b[33mWARNING: Running pip as the 'root' user can result in broken permissions and conflicting behaviour with the system package manager. It is recommended to use a virtual environment instead: https://pip.pypa.io/warnings/venv\u001b[0m\u001b[33m\n",
            "\u001b[0m\u001b[33m  WARNING: Did not find branch or tag '42a184f', assuming revision or ref.\u001b[0m\u001b[33m\n",
            "\u001b[0m  Installing build dependencies ... \u001b[?25l\u001b[?25hdone\n",
            "  Getting requirements to build wheel ... \u001b[?25l\u001b[?25hdone\n",
            "  Installing backend dependencies ... \u001b[?25l\u001b[?25hdone\n",
            "  Preparing metadata (pyproject.toml) ... \u001b[?25l\u001b[?25hdone\n",
            "\u001b[2K   \u001b[90m━━━━━━━━━━━━━━━━━━━━━━━━━━━━━━━━━━━━━━━━\u001b[0m \u001b[32m302.4/302.4 kB\u001b[0m \u001b[31m6.0 MB/s\u001b[0m eta \u001b[36m0:00:00\u001b[0m\n",
            "\u001b[?25h  Building wheel for peft (pyproject.toml) ... \u001b[?25l\u001b[?25hdone\n",
            "\u001b[33mWARNING: Running pip as the 'root' user can result in broken permissions and conflicting behaviour with the system package manager. It is recommended to use a virtual environment instead: https://pip.pypa.io/warnings/venv\u001b[0m\u001b[33m\n",
            "\u001b[0m\u001b[33m  WARNING: Did not find branch or tag 'c9fbb71', assuming revision or ref.\u001b[0m\u001b[33m\n",
            "\u001b[0m  Installing build dependencies ... \u001b[?25l\u001b[?25hdone\n",
            "  Getting requirements to build wheel ... \u001b[?25l\u001b[?25hdone\n",
            "  Installing backend dependencies ... \u001b[?25l\u001b[?25hdone\n",
            "  Preparing metadata (pyproject.toml) ... \u001b[?25l\u001b[?25hdone\n",
            "  Building wheel for accelerate (pyproject.toml) ... \u001b[?25l\u001b[?25hdone\n",
            "\u001b[33mWARNING: Running pip as the 'root' user can result in broken permissions and conflicting behaviour with the system package manager. It is recommended to use a virtual environment instead: https://pip.pypa.io/warnings/venv\u001b[0m\u001b[33m\n",
            "\u001b[2K   \u001b[90m━━━━━━━━━━━━━━━━━━━━━━━━━━━━━━━━━━━━━━━━\u001b[0m \u001b[32m474.6/474.6 kB\u001b[0m \u001b[31m18.0 MB/s\u001b[0m eta \u001b[36m0:00:00\u001b[0m\n",
            "\u001b[2K   \u001b[90m━━━━━━━━━━━━━━━━━━━━━━━━━━━━━━━━━━━━━━━━\u001b[0m \u001b[32m110.5/110.5 kB\u001b[0m \u001b[31m9.7 MB/s\u001b[0m eta \u001b[36m0:00:00\u001b[0m\n",
            "\u001b[2K   \u001b[90m━━━━━━━━━━━━━━━━━━━━━━━━━━━━━━━━━━━━━━━━\u001b[0m \u001b[32m134.3/134.3 kB\u001b[0m \u001b[31m12.2 MB/s\u001b[0m eta \u001b[36m0:00:00\u001b[0m\n",
            "\u001b[2K   \u001b[90m━━━━━━━━━━━━━━━━━━━━━━━━━━━━━━━━━━━━━━━━\u001b[0m \u001b[32m194.1/194.1 kB\u001b[0m \u001b[31m16.6 MB/s\u001b[0m eta \u001b[36m0:00:00\u001b[0m\n",
            "\u001b[?25h\u001b[33mWARNING: Running pip as the 'root' user can result in broken permissions and conflicting behaviour with the system package manager. It is recommended to use a virtual environment instead: https://pip.pypa.io/warnings/venv\u001b[0m\u001b[33m\n",
            "\u001b[0m\u001b[33mWARNING: Running pip as the 'root' user can result in broken permissions and conflicting behaviour with the system package manager. It is recommended to use a virtual environment instead: https://pip.pypa.io/warnings/venv\u001b[0m\u001b[33m\n",
            "\u001b[2K   \u001b[90m━━━━━━━━━━━━━━━━━━━━━━━━━━━━━━━━━━━━━━━━\u001b[0m \u001b[32m42.2/42.2 kB\u001b[0m \u001b[31m1.8 MB/s\u001b[0m eta \u001b[36m0:00:00\u001b[0m\n",
            "\u001b[?25h\u001b[33mWARNING: Running pip as the 'root' user can result in broken permissions and conflicting behaviour with the system package manager. It is recommended to use a virtual environment instead: https://pip.pypa.io/warnings/venv\u001b[0m\u001b[33m\n",
            "\u001b[0m"
          ]
        }
      ],
      "source": [
        "!pip install -Uqqq pip\n",
        "!pip install -qqq torch==2.0.1\n",
        "!pip install -qqq -U git+https://github.com/huggingface/transformers.git@e03a9cc\n",
        "!pip install -qqq -U git+https://github.com/huggingface/peft.git@42a184f\n",
        "!pip install -qqq -U git+https://github.com/huggingface/accelerate.git@c9fbb71\n",
        "!pip install -qqq datasets==2.12.0\n",
        "!pip install -qqq loralib==0.1.1\n",
        "!pip install -qqq einops==0.6.1"
      ]
    },
    {
      "cell_type": "code",
      "execution_count": null,
      "metadata": {
        "id": "1O3N2auqmh_v"
      },
      "outputs": [],
      "source": [
        "import json\n",
        "import os\n",
        "from pprint import pprint\n",
        "import bitsandbytes as bnb\n",
        "import torch\n",
        "import torch.nn as nn\n",
        "import transformers\n",
        "from datasets import load_dataset\n",
        "from huggingface_hub import notebook_login\n",
        "from peft import (\n",
        "    LoraConfig,\n",
        "    PeftConfig,\n",
        "    PeftModel,\n",
        "    get_peft_model,\n",
        "    prepare_model_for_kbit_training\n",
        ")\n",
        "from transformers import (\n",
        "    AutoConfig,\n",
        "    AutoModelForCausalLM,\n",
        "    AutoTokenizer,\n",
        "    BitsAndBytesConfig\n",
        ")\n",
        "\n",
        "os.environ[\"CUDA_VISIBLE_DEVICES\"] = \"0\""
      ]
    },
    {
      "cell_type": "code",
      "execution_count": null,
      "metadata": {
        "id": "ryN1MGQ-mh_v",
        "colab": {
          "base_uri": "https://localhost:8080/",
          "referenced_widgets": [
            "7fa2d85f2c6549ae8e58ab1144bc9846",
            "6090235fe5c540ab959dcd826f5d5871",
            "9f10f0af35b646b9b0afb868a22c29db",
            "0375a92f7f664b789e3f013b492625fd",
            "6bc647d080f840248563de09ed893f6c",
            "5ab8bf0b870b4d09aceef1a716378ef5",
            "25de0b662ed846d9857686e933c93f5a",
            "d9970f46b9674d4db33b501867143ad0",
            "fce0c02cf469445cadd3d7e3a6070a61",
            "18bf6590bc7645f499117f3b14855e67",
            "3b9a652a18ab41098ba74a254945078e",
            "e67f7e4e5d024b6dabe9308f62004faf",
            "81f9a2564d964b54b71cbdd4d23bd504",
            "aaea51e0d7804586ba921d07cb1e6f59",
            "94f740daec5d410f8902ef52f9ac992b",
            "7e22bbbebfd14281850ae8e1f32b61a1",
            "633b46aaf5f84d6f86ea048a8bea2c49",
            "c234c09e79104db3bc312079be2875f5",
            "de093e5b874b45b39e14329b1e7879da",
            "df45a1504d3f49c8a9e2adccd8e2e294",
            "4f6782b0772047f8abfe695e16645993",
            "8b5996f8e6654a30a030f4c311d9e83a",
            "bb6c686762224eee880f4c3290e06bf6",
            "9772a05256274d2cb57c7c5e4f499760",
            "e2d47954e7924ad0af18d6e7e4d3a46b",
            "2d785828e4dd439ea929e40476c7a7d3",
            "b6bf20cf3fd042d0b72ca1dd1b2eef24",
            "bd944c9058fe43ce8a671e21046f59dd",
            "80ac20f2ac65437eb220e6ec746b8605",
            "95cb3153438a486aaa094d6c25a4ed4e",
            "17f3e101d9b9479090a9807660de40ce",
            "1eddc36dc6fb4c428b24b95afcc7df4a"
          ]
        },
        "outputId": "f46970aa-49f1-466a-ea4f-2c6342cccc39"
      },
      "outputs": [
        {
          "output_type": "display_data",
          "data": {
            "text/plain": [
              "VBox(children=(HTML(value='<center> <img\\nsrc=https://huggingface.co/front/assets/huggingface_logo-noborder.sv…"
            ],
            "application/vnd.jupyter.widget-view+json": {
              "version_major": 2,
              "version_minor": 0,
              "model_id": "7fa2d85f2c6549ae8e58ab1144bc9846"
            }
          },
          "metadata": {}
        }
      ],
      "source": [
        "notebook_login()"
      ]
    },
    {
      "cell_type": "markdown",
      "metadata": {
        "id": "D2eP6nN0mh_v",
        "jp-MarkdownHeadingCollapsed": true
      },
      "source": [
        "#### Run the model"
      ]
    },
    {
      "cell_type": "code",
      "execution_count": null,
      "metadata": {
        "id": "dpveqX4smh_v"
      },
      "outputs": [],
      "source": [
        "bnb_config = BitsAndBytesConfig(\n",
        "    load_in_4bit=True,\n",
        "    bnb_4bit_use_double_quant=True,\n",
        "    bnb_4bit_quant_type=\"nf4\",\n",
        "    bnb_4bit_compute_dtype=torch.bfloat16\n",
        ")"
      ]
    },
    {
      "cell_type": "code",
      "execution_count": null,
      "metadata": {
        "id": "Cr9ni-lFmh_w"
      },
      "outputs": [],
      "source": [
        "PEFT_MODEL = \"NAME OF MODEL THAT YOU SAVED\""
      ]
    },
    {
      "cell_type": "code",
      "execution_count": null,
      "metadata": {
        "id": "nIeUDrjxmh_w",
        "colab": {
          "base_uri": "https://localhost:8080/",
          "referenced_widgets": [
            "8aa62f16938b4591bf2ad5ba60c4d8fd",
            "99fd498bb07f41eb8ffa8e59c21ba3ff",
            "9a09141357eb41309ba0d65f77c9dbb9",
            "13b81ca8911143d08761d5477ea9d3a5",
            "d4407963f198435d892cbc6b764f7ac8",
            "16de37d5f89e43198041877988ac5365",
            "3ff2fb6c696b41b2a76cf427e7537312",
            "39315546f9b6465aab9bbc177f95abaf",
            "080cebcef51f45e3ae640505db227db7",
            "fa69453b38114764aed4377f1effb1e9",
            "2b9bbfb3c57b41359bbb43529863e9b3",
            "4a987ffd8ea04887a83269a7a0134006",
            "c9d4433122bf462d9c292d5ba61fd67d",
            "44bdc6cbe28d4fe4848e2338384a5ff3",
            "ea85e0faba124385b9823f1813cecda6",
            "c9ac32b9f97d43679b594a998925fd54",
            "e1587853420d4f2f99b71a2e3a305f31",
            "f09faa9020a64ef9830f93c101dd3bb2",
            "bf53e5fb8fcb442fbf5111bab92d4ba8",
            "562b8182cbda4478b185f2cea70afa43",
            "2da919a008b84d4abe5416e5a20c4a63",
            "baca7bc9e50c4f3f82dce2bf87d92875",
            "d142dc51ea35449887680bba3defb915",
            "6d58d79f1cc64c3cb70d877ab620f42e",
            "69ba25d9e5db4ea28101ad2444aae77c",
            "eb1afdbdc8f74c3c85372d2d3f7088fa",
            "fe85e5546b7f45628b88bd9289b464df",
            "08c49a3efec745ecae92a510a7eddfa6",
            "9965805c206144db9bd9edd53092f1e1",
            "be8ebe7093144edbbb0b23fb2f368a19",
            "cb440c623ff3464480516d952585ef4e",
            "194ee44aad0b4ec0aa26388d3de68584",
            "572b7db9d5ec49bf92b7761438fd192d",
            "555d60a70cdc4c649a14cb2c7f88628b",
            "06fc929a16764f699455b6a342ce8317",
            "2fb4a4faf57f4200833ed3538e49a43f",
            "6a5d19d0c7cb45c2a0d286114bd46a30",
            "804f30f3f8a24a35b987e55eb233c1b3",
            "c9fa1955c1d14c2eb80e962e0061c342",
            "1adb7017438b45b095f010b7b65a90fb",
            "ae117b4492564a25afb3b76411abba63",
            "d33e19ce42084366bf7a237329092428",
            "b0c7269b4919459aaa4b998eabeaf54d",
            "f555a24279f341df83fb6c52b972c498",
            "78fe43f4536c486499f4a1d1e3603ee3",
            "4c07a6668d3147fa96e88529e84ca902",
            "e27e300c866749c3b8c3e4f216d699e0",
            "1da9455b7b0843069c40c1e32197d54e",
            "585bfcbf096048e88cf66c45db4c7f31",
            "7c8cec572136487a8066b27c402fee9e",
            "178591a7b61b466799fe0e0e40920cf3",
            "3ccbb757fb2541f0b1ffeb9f3bf9ec6e",
            "f15255c3c1e5474bb4e48d571e294a92",
            "08cf4eb6b1bc4173b78dbb3abcfd3508",
            "8ce589106b9843f4a9047aec356648e5",
            "a7af95935f2d4e60b155797fb49a404d",
            "a1f2fc0cbf7c4818a3ce5d88a8b2da1a",
            "f59fb660813a499da434d3fc38ad552f",
            "0dcf8e5068194b5db89f18e229abed13",
            "69a63d679e844f3d8db1b510a5ba76b4",
            "432605ecba4b4dfea7c9c0d3f8a52da8",
            "d30c46bcf1d243419cfb7a1a48b367f5",
            "d45bfd376fdf4408a17faa43acf855ff",
            "dd51a62c636c4d6e91401a84aff632c4",
            "c0bd8be619454f47a55b535f67ab9c3e",
            "ba6d5e902f8347d99a40f46f3e120b2f",
            "1bf72595811d40d88419243fea34653c",
            "1b7e36ebcc8d4040a014e0bb0fa3d87c",
            "5f8ca157c7424eb28771d29ca658a6bf",
            "6ff375b37d974ac5a94293489e899da4",
            "bd3fb265bcce42d58b40829198bb3991",
            "d330e854c45d4e9e80c66e1da7a5bf7a",
            "ebce9bbd63a3412d8052aa30703a9691",
            "e320940633f74d71b5566deef0681d69",
            "8f50dd3441b94383b96c212daf162413",
            "efd8e8dca1424a288f33f11cb457a1e8",
            "d862e1c0a5e940e6af3082a39bfc49a9",
            "dab383cb5ed349979e9f9e389abe6965",
            "a82a1db76aa94699940b90c39c020d0b",
            "d5be02b1028f457b9ae6bcd87a048fed",
            "e29e1db69df641c4b98dbbfc879927d5",
            "9e99a30773584a358b6c1581f313b80b",
            "7e7d389f5e9c4750aaca6e26dafa52ca",
            "cc3cef6ed3994b34b90e35fb07b5f5cf",
            "fadc8c9378ac4fea9471715f99213f28",
            "611ab6483d884efd952f20ddce6a5293",
            "bc42d36e52f64e8985f7ab65a844a34a",
            "641b8fe4260c443691ab880ff85e7d6e",
            "391c9a0a441449b899de4973c7447a5c",
            "3fa1d164fa744843962bc2d3cbc15678",
            "e9e2e2aa26094c1788531d869a95cfec",
            "3fccee898c2340a0b35708764941e035",
            "19c53855eeef414982e214884c083fad",
            "d8524319c77b4070969e0ee4cbf50c24",
            "89de55dc6b0a448eb0b1d66369318759",
            "a24e03af51a04460b1f0b7e432ed5027",
            "8c204a7a847245df99597218d1591b22",
            "388eecf704ab40cfad85b487cffc7a3d",
            "74f3685beccc4457a40a3170468e5e4c",
            "e0735c4039c2467f9819cec895bae8bc",
            "a66961f96857451e80bc795aa14ea9c7",
            "63ebe6307c00491f806f1b5e4040c6cb",
            "b3edc410703e472dba7abcde5dd3853b",
            "d7357d3ebb8c4b7782a86bd4a9c3cb46",
            "8e6e88ca190941308233e65a35fd101f",
            "8dd4cf5e60fa4c7884e39bf3b5b0e780",
            "fc9a04aa94f3490a8cf185af20c95e8e",
            "e7d22496cd6240b090820a2b7f7e275b",
            "ac968d3ce3e840f39efaf0664d9c7d09",
            "208ee4a2f4b8426e86f8020d18114089",
            "f6760da3faf847939f013ac4e734a150",
            "392db038995740678f0e5de10955f8f9",
            "dfaa07a447724f1e869e73bef929582b",
            "1cabc15c72b24eb5953c022412d55d8a",
            "210b1d81d3c54a2b96eadd95f7627cf9",
            "dca433edf1ec4db4a941d6890e8e1afd",
            "15c1ae2cc40042bfac7f7f4fc7958f2d",
            "e50d92e8978c45948c4eb264e0b498eb",
            "a4f04f0fd2f74fadbaf43dab7ba06a8c",
            "1de1c8f705c84b0d9446eb9ae200cb3a",
            "d53cf39804fd41b4b908512311dd29db",
            "1c313010cfa74caaa0adf1b957aea9de",
            "dcf603086be74668a4903fdcf754d738",
            "23996bdc626241c9b7363bce9ebe8929",
            "f712c46d957f48d58bed363502268080",
            "52fa3ecf831c407bb27011a37971564b",
            "7d38c0a87e52406fae3ec2ed861f76a3",
            "df553a945e5046678633106a5d0ea6aa",
            "6316abed31eb430cb9ba94a61041dbcf",
            "9eeb0c8d09bd4813ba8ae495e36a6014",
            "a378175cb2274ac98f6e1360285e8989",
            "0fb8f7f783d3427b9fea11b9d83a247c",
            "5fde9b60ebdb40ff99ac92cf6c9d183c",
            "ed72ca63bb2c4da7b691c61c51e38514",
            "671c7735486b46778ae7bacad7883d5d",
            "663cbacc230945ae8f36d6d5f2730b5e",
            "c1d11119907f4729a58f495dcf2a8259",
            "2ada671229f94142802e62da4206c3be",
            "819b94e086ca4553a1395f97f1973aed",
            "2b138a1ea2484a2ba3f03248bcc7edac",
            "77b543d9c2e746ef86660c21d7ac05cd",
            "c5e4f1bccece41b89c66f7952af67eab",
            "5cfa677cf14444e7b5f43164ad4af582",
            "4211472cc04640cca852e7cef1ecee2f",
            "676897711e6247229102d317e08d1a01",
            "aaf28c43489d4adcb60c9f6b74917df9",
            "7260cecd7b954d66b739355ce18a4068",
            "7b2990da73f842bc86605f2374fb7242",
            "e27bbc64459f44b38d5b49434f803483",
            "b31c93211277432d819da4bc65dd9ce4",
            "95fc3230eca94dfdb5508b54dfce914d",
            "aac5251196a048709a2162645f8cb8be",
            "6bf35733e9d141b1a008b1242392f8e4",
            "267d36c6a13e450885e289e4f6f2f5e7"
          ]
        },
        "outputId": "02af78ec-4a6b-43df-e068-40564f6ac369"
      },
      "outputs": [
        {
          "output_type": "stream",
          "name": "stderr",
          "text": [
            "/usr/local/lib/python3.10/dist-packages/huggingface_hub/utils/_token.py:88: UserWarning: \n",
            "The secret `HF_TOKEN` does not exist in your Colab secrets.\n",
            "To authenticate with the Hugging Face Hub, create a token in your settings tab (https://huggingface.co/settings/tokens), set it as secret in your Google Colab and restart your session.\n",
            "You will be able to reuse this secret in all of your notebooks.\n",
            "Please note that authentication is recommended but still optional to access public models or datasets.\n",
            "  warnings.warn(\n"
          ]
        },
        {
          "output_type": "display_data",
          "data": {
            "text/plain": [
              "adapter_config.json:   0%|          | 0.00/410 [00:00<?, ?B/s]"
            ],
            "application/vnd.jupyter.widget-view+json": {
              "version_major": 2,
              "version_minor": 0,
              "model_id": "8aa62f16938b4591bf2ad5ba60c4d8fd"
            }
          },
          "metadata": {}
        },
        {
          "output_type": "display_data",
          "data": {
            "text/plain": [
              "config.json:   0%|          | 0.00/1.05k [00:00<?, ?B/s]"
            ],
            "application/vnd.jupyter.widget-view+json": {
              "version_major": 2,
              "version_minor": 0,
              "model_id": "4a987ffd8ea04887a83269a7a0134006"
            }
          },
          "metadata": {}
        },
        {
          "output_type": "display_data",
          "data": {
            "text/plain": [
              "configuration_falcon.py:   0%|          | 0.00/7.16k [00:00<?, ?B/s]"
            ],
            "application/vnd.jupyter.widget-view+json": {
              "version_major": 2,
              "version_minor": 0,
              "model_id": "d142dc51ea35449887680bba3defb915"
            }
          },
          "metadata": {}
        },
        {
          "output_type": "stream",
          "name": "stderr",
          "text": [
            "A new version of the following files was downloaded from https://huggingface.co/tiiuae/falcon-7b:\n",
            "- configuration_falcon.py\n",
            ". Make sure to double-check they do not contain any added malicious code. To avoid downloading new versions of the code file, you can pin a revision.\n",
            "WARNING:transformers_modules.tiiuae.falcon-7b.898df1396f35e447d5fe44e0a3ccaaaa69f30d36.configuration_falcon:\n",
            "WARNING: You are currently loading Falcon using legacy code contained in the model repository. Falcon has now been fully ported into the Hugging Face transformers library. For the most up-to-date and high-performance version of the Falcon model code, please update to the latest version of transformers and then load the model without the trust_remote_code=True argument.\n",
            "\n"
          ]
        },
        {
          "output_type": "display_data",
          "data": {
            "text/plain": [
              "modeling_falcon.py:   0%|          | 0.00/56.9k [00:00<?, ?B/s]"
            ],
            "application/vnd.jupyter.widget-view+json": {
              "version_major": 2,
              "version_minor": 0,
              "model_id": "555d60a70cdc4c649a14cb2c7f88628b"
            }
          },
          "metadata": {}
        },
        {
          "output_type": "stream",
          "name": "stderr",
          "text": [
            "A new version of the following files was downloaded from https://huggingface.co/tiiuae/falcon-7b:\n",
            "- modeling_falcon.py\n",
            ". Make sure to double-check they do not contain any added malicious code. To avoid downloading new versions of the code file, you can pin a revision.\n"
          ]
        },
        {
          "output_type": "display_data",
          "data": {
            "text/plain": [
              "pytorch_model.bin.index.json:   0%|          | 0.00/16.9k [00:00<?, ?B/s]"
            ],
            "application/vnd.jupyter.widget-view+json": {
              "version_major": 2,
              "version_minor": 0,
              "model_id": "78fe43f4536c486499f4a1d1e3603ee3"
            }
          },
          "metadata": {}
        },
        {
          "output_type": "display_data",
          "data": {
            "text/plain": [
              "Downloading shards:   0%|          | 0/2 [00:00<?, ?it/s]"
            ],
            "application/vnd.jupyter.widget-view+json": {
              "version_major": 2,
              "version_minor": 0,
              "model_id": "a7af95935f2d4e60b155797fb49a404d"
            }
          },
          "metadata": {}
        },
        {
          "output_type": "display_data",
          "data": {
            "text/plain": [
              "pytorch_model-00001-of-00002.bin:   0%|          | 0.00/9.95G [00:00<?, ?B/s]"
            ],
            "application/vnd.jupyter.widget-view+json": {
              "version_major": 2,
              "version_minor": 0,
              "model_id": "1bf72595811d40d88419243fea34653c"
            }
          },
          "metadata": {}
        },
        {
          "output_type": "display_data",
          "data": {
            "text/plain": [
              "pytorch_model-00002-of-00002.bin:   0%|          | 0.00/4.48G [00:00<?, ?B/s]"
            ],
            "application/vnd.jupyter.widget-view+json": {
              "version_major": 2,
              "version_minor": 0,
              "model_id": "dab383cb5ed349979e9f9e389abe6965"
            }
          },
          "metadata": {}
        },
        {
          "output_type": "display_data",
          "data": {
            "text/plain": [
              "Loading checkpoint shards:   0%|          | 0/2 [00:00<?, ?it/s]"
            ],
            "application/vnd.jupyter.widget-view+json": {
              "version_major": 2,
              "version_minor": 0,
              "model_id": "391c9a0a441449b899de4973c7447a5c"
            }
          },
          "metadata": {}
        },
        {
          "output_type": "display_data",
          "data": {
            "text/plain": [
              "generation_config.json:   0%|          | 0.00/117 [00:00<?, ?B/s]"
            ],
            "application/vnd.jupyter.widget-view+json": {
              "version_major": 2,
              "version_minor": 0,
              "model_id": "e0735c4039c2467f9819cec895bae8bc"
            }
          },
          "metadata": {}
        },
        {
          "output_type": "display_data",
          "data": {
            "text/plain": [
              "tokenizer_config.json:   0%|          | 0.00/287 [00:00<?, ?B/s]"
            ],
            "application/vnd.jupyter.widget-view+json": {
              "version_major": 2,
              "version_minor": 0,
              "model_id": "f6760da3faf847939f013ac4e734a150"
            }
          },
          "metadata": {}
        },
        {
          "output_type": "display_data",
          "data": {
            "text/plain": [
              "tokenizer.json:   0%|          | 0.00/2.73M [00:00<?, ?B/s]"
            ],
            "application/vnd.jupyter.widget-view+json": {
              "version_major": 2,
              "version_minor": 0,
              "model_id": "1c313010cfa74caaa0adf1b957aea9de"
            }
          },
          "metadata": {}
        },
        {
          "output_type": "display_data",
          "data": {
            "text/plain": [
              "special_tokens_map.json:   0%|          | 0.00/281 [00:00<?, ?B/s]"
            ],
            "application/vnd.jupyter.widget-view+json": {
              "version_major": 2,
              "version_minor": 0,
              "model_id": "5fde9b60ebdb40ff99ac92cf6c9d183c"
            }
          },
          "metadata": {}
        },
        {
          "output_type": "display_data",
          "data": {
            "text/plain": [
              "adapter_model.bin:   0%|          | 0.00/18.9M [00:00<?, ?B/s]"
            ],
            "application/vnd.jupyter.widget-view+json": {
              "version_major": 2,
              "version_minor": 0,
              "model_id": "4211472cc04640cca852e7cef1ecee2f"
            }
          },
          "metadata": {}
        }
      ],
      "source": [
        "config = PeftConfig.from_pretrained(PEFT_MODEL)\n",
        "model = AutoModelForCausalLM.from_pretrained(\n",
        "    config.base_model_name_or_path,\n",
        "    return_dict=True,\n",
        "    quantization_config=bnb_config,\n",
        "    device_map=\"auto\",\n",
        "    trust_remote_code=True\n",
        ")\n",
        "\n",
        "tokenizer=AutoTokenizer.from_pretrained(config.base_model_name_or_path)\n",
        "tokenizer.pad_token = tokenizer.eos_token\n",
        "\n",
        "model = PeftModel.from_pretrained(model, PEFT_MODEL)"
      ]
    },
    {
      "cell_type": "code",
      "execution_count": null,
      "metadata": {
        "id": "ff1U7f_6mh_w"
      },
      "outputs": [],
      "source": [
        "generation_config = model.generation_config\n",
        "generation_config.max_new_tokens = 200\n",
        "generation_config.temperature = 0.7\n",
        "generation_config.top_p = 0.7\n",
        "generation_config.num_return_sequences = 1\n",
        "generation_config.pad_token_id = tokenizer.eos_token_id\n",
        "generation_config.eos_token_id = tokenizer.eos_token_id"
      ]
    },
    {
      "cell_type": "markdown",
      "source": [
        "##### Audio Input and Output\n",
        "\n",
        "Comment out the message depending on what message type you want(audio or text) and same for output(audio or text)"
      ],
      "metadata": {
        "id": "waFWpwLwkiUH"
      }
    },
    {
      "cell_type": "code",
      "execution_count": null,
      "metadata": {
        "id": "BhSm3iIgmh_x",
        "colab": {
          "base_uri": "https://localhost:8080/"
        },
        "outputId": "a0737ca3-f4b1-4640-bc5a-7fdbac2002eb"
      },
      "outputs": [
        {
          "output_type": "stream",
          "name": "stdout",
          "text": [
            "You: Good morning\n",
            "Assistant: <human>: Good morning\n",
            "<assistant>: Good morning Haru.\n",
            "<assistant>: Good morning.\n",
            "<assistant>: I'm glad you're here.\n",
            "<assistant>: I'm glad you're here too.\n",
            "<assistant>: I'm glad you're here too.\n",
            "<assistant>: I'm glad you're here too.\n",
            "<assistant>: I'm glad you're here too.\n",
            "<assistant>: I'm glad you're here too.\n",
            "<assistant>: I'm glad you're here too.\n",
            "<assistant>: I'm glad you're here too.\n",
            "<assistant>: I'm glad you're here too.\n",
            "<assistant>: I'm glad you're here too.\n",
            "<assistant>: I'm glad you're here too.\n",
            "<assistant>: I'm glad you're here too.\n",
            "<assistant>: I'm\n",
            "You: how have you been?\n",
            "Assistant: <human>: how have you been?\n",
            "<assistant>: I've been doing well.\n",
            "<assistant>: I'm glad to hear that.\n",
            "<assistant>: I've been doing well.\n",
            "<assistant>: I'm glad to hear that.\n",
            "<assistant>: I've been doing well.\n",
            "<assistant>: I'm glad to hear that.\n",
            "<assistant>: I've been doing well.\n",
            "<assistant>: I'm glad to hear that.\n",
            "<assistant>: I've been doing well.\n",
            "<assistant>: I'm glad to hear that.\n",
            "<assistant>: I've been doing well.\n",
            "<assistant>: I'm glad to hear that.\n",
            "<assistant>: I've been doing well.\n",
            "<assistant>: I'm glad to hear that.\n",
            "<assistant>: I've been doing well.\n",
            "<assistant>: I'm glad to hear that.\n",
            "<assistant>:\n",
            "You: what are you up to right now?\n",
            "Assistant: <human>: what are you up to right now?\n",
            "<assistant>: I'm just hanging out at home.\n",
            "<assistant>: I'm glad you're enjoying yourself.\n",
            "<assistant>: I'm just hanging out at home.\n",
            "<assistant>: I'm glad you're enjoying yourself.\n",
            "<assistant>: I'm just hanging out at home.\n",
            "<assistant>: I'm glad you're enjoying yourself.\n",
            "<assistant>: I'm just hanging out at home.\n",
            "<assistant>: I'm glad you're enjoying yourself.\n",
            "<assistant>: I'm just hanging out at home.\n",
            "<assistant>: I'm glad you're enjoying yourself.\n",
            "<assistant>: I'm just hanging out at home.\n",
            "<assistant>: I'm glad you're enjoying yourself.\n",
            "<assistant>: I'm just hanging out at home.\n",
            "<assistant>: I'm glad you're enjoying yourself.\n",
            "<\n",
            "You: end communication\n",
            "Ending the conversation.\n",
            "CPU times: user 51.6 s, sys: 49.1 ms, total: 51.6 s\n",
            "Wall time: 1min 39s\n"
          ]
        }
      ],
      "source": [
        "%%time\n",
        "device = \"cuda:0\"\n",
        "\n",
        "while True:\n",
        "\n",
        "    #INPUT---------------------------------------------------------------------------------------\n",
        "    #user_input = getVoiceInput() #for audio input\n",
        "    user_input = input(\"You: \") #for text input\n",
        "    #--------------------------------------------------------------------------------------------\n",
        "\n",
        "    if user_input.lower() == \"end communication\":\n",
        "        print(\"Ending the conversation.\")\n",
        "        break\n",
        "\n",
        "    # Incorporate user input into the prompt\n",
        "    prompt = f\"<human>: {user_input}\\n<assistant>:\"\n",
        "\n",
        "    # Encode the prompt using the tokenizer\n",
        "    encoding = tokenizer(prompt, return_tensors=\"pt\").to(device)\n",
        "\n",
        "    # Generate a response from the model based on the encoded prompt\n",
        "    with torch.inference_mode():\n",
        "        outputs = model.generate(\n",
        "            input_ids=encoding.input_ids,\n",
        "            attention_mask=encoding.attention_mask,\n",
        "            generation_config=generation_config\n",
        "        )\n",
        "\n",
        "    # Decode the output tokens of the model to obtain the generated text\n",
        "    response = tokenizer.decode(outputs[0], skip_special_tokens=True)\n",
        "\n",
        "    #OUTPUT(audio no visual)-----------------------------------------------------------------\n",
        "    print(\"Assistant:\", response) #if you want text output\n",
        "    #TTS(response) #if you want audio output\n",
        "    #-----------------------------------------------------------------------------------------"
      ]
    },
    {
      "cell_type": "markdown",
      "source": [
        "##### GIF Face output"
      ],
      "metadata": {
        "id": "K9qH-xkHkmn9"
      }
    },
    {
      "cell_type": "code",
      "source": [
        "%%time\n",
        "device = \"cuda:0\"\n",
        "\n",
        "while True:\n",
        "\n",
        "    #INPUT---------------------------------------------------------------------------------------\n",
        "    #user_input = getVoiceInput() #for audio input\n",
        "    user_input = input(\"You: \") #for text input\n",
        "    #--------------------------------------------------------------------------------------------\n",
        "\n",
        "    if user_input.lower() == \"end communication\":\n",
        "        print(\"Ending the conversation.\")\n",
        "        break\n",
        "\n",
        "    # Incorporate user input into the prompt\n",
        "    prompt = f\"<human>: {user_input}\\n<assistant>:\"\n",
        "\n",
        "    # Encode the prompt using the tokenizer\n",
        "    encoding = tokenizer(prompt, return_tensors=\"pt\").to(device)\n",
        "\n",
        "    # Generate a response from the model based on the encoded prompt\n",
        "    with torch.inference_mode():\n",
        "        outputs = model.generate(\n",
        "            input_ids=encoding.input_ids,\n",
        "            attention_mask=encoding.attention_mask,\n",
        "            generation_config=generation_config\n",
        "        )\n",
        "\n",
        "    # Decode the output tokens of the model to obtain the generated text\n",
        "    response = tokenizer.decode(outputs[0], skip_special_tokens=True)\n",
        "\n",
        "    #OUTPUT(visual)-----------------------------------------------------------------\n",
        "    #print(\"Assistant:\", response) #if you want text output\n",
        "    TTS(response, True) #if you want audio output\n",
        "    x = librosa.get_duration(filename='captured_voice.wav')\n",
        "    create_and_display_gif(['FIRST PNG NAME HERE.png', 'SECOND PNG NAME HERE.png', 'THIRD PNG NAME HERE.png'], total_duration_seconds=x, duration_per_image=0.1)\n",
        "    display(Audio('captured_voice.wav', autoplay=True))\n",
        "    time.sleep(x)\n",
        "    #-----------------------------------------------------------------------------------------"
      ],
      "metadata": {
        "id": "43jySaHokv00"
      },
      "execution_count": null,
      "outputs": []
    },
    {
      "cell_type": "markdown",
      "source": [
        "##### Deepfake Output"
      ],
      "metadata": {
        "id": "pU68szntkwgn"
      }
    },
    {
      "cell_type": "code",
      "source": [
        "%%time\n",
        "device = \"cuda:0\"\n",
        "x = 0\n",
        "while True:\n",
        "    %cd /content\n",
        "\n",
        "    #INPUT---------------------------------------------------------------------------------------\n",
        "    #user_input = getVoiceInput() #for audio input\n",
        "    user_input = input(\"You: \") #for text input\n",
        "    #--------------------------------------------------------------------------------------------\n",
        "\n",
        "    if user_input.lower() == \"end communication\":\n",
        "        print(\"Ending the conversation.\")\n",
        "        break\n",
        "\n",
        "    if(x != 0):\n",
        "      time.sleep(5)\n",
        "\n",
        "    # Incorporate user input into the prompt\n",
        "    prompt = f\"<human>: {user_input}\\n<assistant>:\"\n",
        "\n",
        "    # Encode the prompt using the tokenizer\n",
        "    encoding = tokenizer(prompt, return_tensors=\"pt\").to(device)\n",
        "\n",
        "    # Generate a response from the model based on the encoded prompt\n",
        "    with torch.inference_mode():\n",
        "        outputs = model.generate(\n",
        "            input_ids=encoding.input_ids,\n",
        "            attention_mask=encoding.attention_mask,\n",
        "            generation_config=generation_config\n",
        "        )\n",
        "\n",
        "    # Decode the output tokens of the model to obtain the generated text\n",
        "    response = tokenizer.decode(outputs[0], skip_special_tokens=True)\n",
        "\n",
        "    #OUTPUT(visual)-----------------------------------------------------------------\n",
        "    #print(\"Assistant:\", response) #if you want text output\n",
        "    TTS(response, True) #if you want audio output\n",
        "    %cd /content/SadTalker\n",
        "    anim_face(img, x)\n",
        "    x+=1\n",
        "    #-----------------------------------------------------------------------------------------"
      ],
      "metadata": {
        "id": "f5HLQiGPlJ4e"
      },
      "execution_count": null,
      "outputs": []
    },
    {
      "cell_type": "markdown",
      "metadata": {
        "id": "_igaZDjEDcrv",
        "jp-MarkdownHeadingCollapsed": true
      },
      "source": [
        "## LLM-Engine\n",
        "\n",
        "Two options, either train a new model or run a pre-trained one\n",
        "\n",
        "*   [Source](https://llm-engine.scale.com/guides/fine_tuning/)\n",
        "*   Pros:\n",
        "      - Easy training, simply format data and they handle the rest\n",
        "      - Training, loading, and running require no hardware or stable connection of your own, their servers handle all that\n",
        "      - Quick and easy to customize\n",
        "      - Local Fine-Tuned LLM avoids censoring issues\n",
        "\n",
        "\n",
        "*   Cons:\n",
        "      - Results may vary based on several factors; dataset(i;e amount and quality of data), training time, model, parameters, etc\n",
        "      - Limited number of trainable models available, and can only have 5 fine-tuned ones\n",
        "      - Cannot be run locally, requires a stable connection"
      ]
    },
    {
      "cell_type": "markdown",
      "metadata": {
        "id": "1svZx6dUmh_x",
        "jp-MarkdownHeadingCollapsed": true
      },
      "source": [
        "### Train new model"
      ]
    },
    {
      "cell_type": "markdown",
      "metadata": {
        "id": "iAGhFeY0ECvq",
        "jp-MarkdownHeadingCollapsed": true
      },
      "source": [
        "#### Install, Imports and Setup"
      ]
    },
    {
      "cell_type": "code",
      "execution_count": null,
      "metadata": {
        "colab": {
          "base_uri": "https://localhost:8080/"
        },
        "id": "ra_Pj_ClFs0G",
        "outputId": "64e8ccb1-eb07-4901-c719-dc94e972262f"
      },
      "outputs": [
        {
          "name": "stdout",
          "output_type": "stream",
          "text": [
            "Requirement already satisfied: scale-llm-engine in c:\\users\\moham\\appdata\\local\\programs\\python\\python312\\lib\\site-packages (0.0.0b28)\n",
            "Requirement already satisfied: aiohttp<4.0,>=3.8 in c:\\users\\moham\\appdata\\local\\programs\\python\\python312\\lib\\site-packages (from scale-llm-engine) (3.9.3)\n",
            "Requirement already satisfied: pydantic>=1.10 in c:\\users\\moham\\appdata\\local\\programs\\python\\python312\\lib\\site-packages (from scale-llm-engine) (2.5.3)\n",
            "Requirement already satisfied: requests<3.0.0,>=2.31.0 in c:\\users\\moham\\appdata\\local\\programs\\python\\python312\\lib\\site-packages (from scale-llm-engine) (2.31.0)\n",
            "Requirement already satisfied: aiosignal>=1.1.2 in c:\\users\\moham\\appdata\\local\\programs\\python\\python312\\lib\\site-packages (from aiohttp<4.0,>=3.8->scale-llm-engine) (1.3.1)\n",
            "Requirement already satisfied: attrs>=17.3.0 in c:\\users\\moham\\appdata\\local\\programs\\python\\python312\\lib\\site-packages (from aiohttp<4.0,>=3.8->scale-llm-engine) (23.2.0)\n",
            "Requirement already satisfied: frozenlist>=1.1.1 in c:\\users\\moham\\appdata\\local\\programs\\python\\python312\\lib\\site-packages (from aiohttp<4.0,>=3.8->scale-llm-engine) (1.4.1)\n",
            "Requirement already satisfied: multidict<7.0,>=4.5 in c:\\users\\moham\\appdata\\local\\programs\\python\\python312\\lib\\site-packages (from aiohttp<4.0,>=3.8->scale-llm-engine) (6.0.5)\n",
            "Requirement already satisfied: yarl<2.0,>=1.0 in c:\\users\\moham\\appdata\\local\\programs\\python\\python312\\lib\\site-packages (from aiohttp<4.0,>=3.8->scale-llm-engine) (1.9.4)\n",
            "Requirement already satisfied: annotated-types>=0.4.0 in c:\\users\\moham\\appdata\\local\\programs\\python\\python312\\lib\\site-packages (from pydantic>=1.10->scale-llm-engine) (0.6.0)\n",
            "Requirement already satisfied: pydantic-core==2.14.6 in c:\\users\\moham\\appdata\\local\\programs\\python\\python312\\lib\\site-packages (from pydantic>=1.10->scale-llm-engine) (2.14.6)\n",
            "Requirement already satisfied: typing-extensions>=4.6.1 in c:\\users\\moham\\appdata\\local\\programs\\python\\python312\\lib\\site-packages (from pydantic>=1.10->scale-llm-engine) (4.9.0)\n",
            "Requirement already satisfied: charset-normalizer<4,>=2 in c:\\users\\moham\\appdata\\local\\programs\\python\\python312\\lib\\site-packages (from requests<3.0.0,>=2.31.0->scale-llm-engine) (3.3.2)\n",
            "Requirement already satisfied: idna<4,>=2.5 in c:\\users\\moham\\appdata\\local\\programs\\python\\python312\\lib\\site-packages (from requests<3.0.0,>=2.31.0->scale-llm-engine) (3.6)\n",
            "Requirement already satisfied: urllib3<3,>=1.21.1 in c:\\users\\moham\\appdata\\local\\programs\\python\\python312\\lib\\site-packages (from requests<3.0.0,>=2.31.0->scale-llm-engine) (2.1.0)\n",
            "Requirement already satisfied: certifi>=2017.4.17 in c:\\users\\moham\\appdata\\local\\programs\\python\\python312\\lib\\site-packages (from requests<3.0.0,>=2.31.0->scale-llm-engine) (2023.11.17)\n"
          ]
        },
        {
          "name": "stderr",
          "output_type": "stream",
          "text": [
            "\n",
            "[notice] A new release of pip is available: 23.2.1 -> 24.0\n",
            "[notice] To update, run: C:\\Users\\moham\\AppData\\Local\\Programs\\Python\\Python312\\python.exe -m pip install --upgrade pip\n"
          ]
        }
      ],
      "source": [
        "!pip install scale-llm-engine"
      ]
    },
    {
      "cell_type": "code",
      "execution_count": null,
      "metadata": {
        "id": "5W50yPmlH-fz"
      },
      "outputs": [],
      "source": [
        "import llmengine\n",
        "from llmengine import File, FineTune, Model, Completion\n",
        "import json"
      ]
    },
    {
      "cell_type": "code",
      "execution_count": null,
      "metadata": {
        "id": "1331a7_5F6kl"
      },
      "outputs": [],
      "source": [
        "llmengine.api_engine.set_api_key(\"API KEY HERE\")"
      ]
    },
    {
      "cell_type": "markdown",
      "metadata": {
        "id": "ePZDS6fuEINc",
        "jp-MarkdownHeadingCollapsed": true
      },
      "source": [
        "#### Training"
      ]
    },
    {
      "cell_type": "code",
      "execution_count": null,
      "metadata": {
        "colab": {
          "base_uri": "https://localhost:8080/"
        },
        "id": "q5gzip9vHhzL",
        "outputId": "87fa79a7-2b43-4d1c-d11d-9bf30e5d8ae7"
      },
      "outputs": [
        {
          "name": "stdout",
          "output_type": "stream",
          "text": [
            "{\"id\": \"file-n2g-1sNp_jOMynO\"}\n"
          ]
        }
      ],
      "source": [
        "response = File.upload(open(\"CSV TRAINING FILE HERE\", \"r\")) #load your dataset here\n",
        "print(response.json())"
      ]
    },
    {
      "cell_type": "code",
      "execution_count": null,
      "metadata": {
        "colab": {
          "base_uri": "https://localhost:8080/"
        },
        "id": "e69fn9gdIGnF",
        "outputId": "3a74819e-91d8-463a-c85d-85600696e042"
      },
      "outputs": [
        {
          "name": "stdout",
          "output_type": "stream",
          "text": [
            "{\"id\": \"ft-cnufbp2e64v0032ir010\"}\n"
          ]
        }
      ],
      "source": [
        "#choose your model here, training_file is equal to the output of the previous cell, and suffix will decide the suffix of your model name\n",
        "response = FineTune.create(\n",
        "    model=\"llama-7b\",\n",
        "    training_file=\"file-n2g-1sNp_jOMynO\", #copy paste from above response\n",
        "    suffix=\"harutest\"\n",
        ")\n",
        "\n",
        "print(response.json())"
      ]
    },
    {
      "cell_type": "code",
      "execution_count": null,
      "metadata": {
        "colab": {
          "base_uri": "https://localhost:8080/"
        },
        "id": "mQ8033zYRKm5",
        "outputId": "765237ff-9339-439d-a4cb-b754777308b1"
      },
      "outputs": [
        {
          "name": "stdout",
          "output_type": "stream",
          "text": [
            "BatchJobStatus.SUCCESS\n",
            "llama-7b.harutest.240322-030715\n",
            "timestamp=1711077385.588144 message=\"{'loss': 2.7246, 'learning_rate': 0.0018888354486549235, 'epoch': 0.95}\" level='info'\n",
            "timestamp=1711077389.3509204 message=\"{'eval_loss': 2.1973655223846436, 'eval_runtime': 3.405, 'eval_samples_per_second': 15.565, 'eval_steps_per_second': 15.565, 'epoch': 0.95}\" level='info'\n",
            "timestamp=1711077457.0481977 message=\"{'loss': 2.1224, 'learning_rate': 0.0014154150130018866, 'epoch': 1.89}\" level='info'\n",
            "timestamp=1711077460.5960732 message=\"{'eval_loss': 2.0320541858673096, 'eval_runtime': 3.1915, 'eval_samples_per_second': 16.607, 'eval_steps_per_second': 16.607, 'epoch': 1.89}\" level='info'\n",
            "timestamp=1711077528.8894107 message=\"{'loss': 1.5711, 'learning_rate': 0.0006729320366825784, 'epoch': 2.97}\" level='info'\n",
            "timestamp=1711077532.5076933 message=\"{'eval_loss': 1.9354851245880127, 'eval_runtime': 3.2596, 'eval_samples_per_second': 16.26, 'eval_steps_per_second': 16.26, 'epoch': 2.97}\" level='info'\n",
            "timestamp=1711077600.602984 message=\"{'loss': 1.5926, 'learning_rate': 0.00015874646716881869, 'epoch': 3.92}\" level='info'\n",
            "timestamp=1711077604.1399548 message=\"{'eval_loss': 1.9699751138687134, 'eval_runtime': 3.1726, 'eval_samples_per_second': 16.706, 'eval_steps_per_second': 16.706, 'epoch': 3.92}\" level='info'\n",
            "timestamp=1711077653.4001584 message=\"{'loss': 1.2627, 'learning_rate': 0.0, 'epoch': 4.73}\" level='info'\n",
            "timestamp=1711077657.2083328 message=\"{'eval_loss': 1.967561960220337, 'eval_runtime': 3.3943, 'eval_samples_per_second': 15.615, 'eval_steps_per_second': 15.615, 'epoch': 4.73}\" level='info'\n",
            "timestamp=1711077657.6599524 message=\"{'train_runtime': 342.0033, 'train_samples_per_second': 6.93, 'train_steps_per_second': 0.102, 'total_flos': 5615298163138560.0, 'train_loss': 1.8634829248700824, 'epoch': 4.73}\" level='info'\n"
          ]
        }
      ],
      "source": [
        "fine_tune_id = \"ft-cnufbp2e64v0032ir010\" #copy paste from above response\n",
        "fine_tune = FineTune.get(fine_tune_id)\n",
        "print(fine_tune.status)  # BatchJobStatus.RUNNING\n",
        "print(fine_tune.fine_tuned_model)  # \"llama-2-7b.700101-000000\n",
        "\n",
        "fine_tune_events = FineTune.get_events(fine_tune_id)\n",
        "for event in fine_tune_events.events:\n",
        "    print(event)"
      ]
    },
    {
      "cell_type": "code",
      "execution_count": null,
      "metadata": {
        "colab": {
          "base_uri": "https://localhost:8080/"
        },
        "id": "3D2DfZZ2Ui5N",
        "outputId": "7f1a2d92-b1b6-4e8a-8ab2-d7a8cb51bca0"
      },
      "outputs": [
        {
          "name": "stdout",
          "output_type": "stream",
          "text": [
            "{\"model_endpoints\": [{\"id\": \"end_cnube0dodf4g03skmaeg\", \"name\": \"mistral-7b-instruct.harutest.240321-222320\", \"model_name\": null, \"source\": \"hugging_face\", \"status\": \"READY\", \"inference_framework\": \"vllm\", \"inference_framework_tag\": null, \"num_shards\": null, \"quantize\": null, \"spec\": null}, {\"id\": \"end_cnuc36cu1tj003s1hse0\", \"name\": \"mistral-7b.harutest.240321-225949\", \"model_name\": null, \"source\": \"hugging_face\", \"status\": \"READY\", \"inference_framework\": \"vllm\", \"inference_framework_tag\": null, \"num_shards\": null, \"quantize\": null, \"spec\": null}, {\"id\": \"end_cj25n8c2i4b003tdav4g\", \"name\": \"llama-2-70b\", \"model_name\": null, \"source\": \"hugging_face\", \"status\": \"READY\", \"inference_framework\": \"text_generation_inference\", \"inference_framework_tag\": null, \"num_shards\": null, \"quantize\": null, \"spec\": null}, {\"id\": \"end_cnppsgblqjl003ct8do0\", \"name\": \"mixtral-8x7b-instruct-loadtest\", \"model_name\": null, \"source\": \"hugging_face\", \"status\": \"READY\", \"inference_framework\": \"vllm\", \"inference_framework_tag\": null, \"num_shards\": null, \"quantize\": null, \"spec\": null}, {\"id\": \"end_cku1n62c6rb003ksbbb0\", \"name\": \"mistral-7b-instruct\", \"model_name\": null, \"source\": \"hugging_face\", \"status\": \"READY\", \"inference_framework\": \"vllm\", \"inference_framework_tag\": null, \"num_shards\": null, \"quantize\": null, \"spec\": null}, {\"id\": \"end_cnrqfiknpoggismjh790\", \"name\": \"llama-2-7b.harutest.240318-021554\", \"model_name\": null, \"source\": \"hugging_face\", \"status\": \"READY\", \"inference_framework\": \"vllm\", \"inference_framework_tag\": null, \"num_shards\": null, \"quantize\": null, \"spec\": null}, {\"id\": \"end_cirl78jpci9002n6or90\", \"name\": \"llama-2-7b-chat\", \"model_name\": null, \"source\": \"hugging_face\", \"status\": \"READY\", \"inference_framework\": \"vllm\", \"inference_framework_tag\": null, \"num_shards\": null, \"quantize\": null, \"spec\": null}, {\"id\": \"end_cl04kthti5ag033fu65g\", \"name\": \"llama-7b\", \"model_name\": null, \"source\": \"hugging_face\", \"status\": \"READY\", \"inference_framework\": \"vllm\", \"inference_framework_tag\": null, \"num_shards\": null, \"quantize\": null, \"spec\": null}, {\"id\": \"end_cku1ntic6rb003r3khog\", \"name\": \"mistral-7b\", \"model_name\": null, \"source\": \"hugging_face\", \"status\": \"READY\", \"inference_framework\": \"vllm\", \"inference_framework_tag\": null, \"num_shards\": null, \"quantize\": null, \"spec\": null}, {\"id\": \"end_cln32vuv3qlg03osa220\", \"name\": \"zephyr-7b-beta\", \"model_name\": null, \"source\": \"hugging_face\", \"status\": \"READY\", \"inference_framework\": \"vllm\", \"inference_framework_tag\": null, \"num_shards\": null, \"quantize\": null, \"spec\": null}, {\"id\": \"end_cla16a2mncu003agbqmg\", \"name\": \"llama-2-70b-chat\", \"model_name\": null, \"source\": \"hugging_face\", \"status\": \"READY\", \"inference_framework\": \"vllm\", \"inference_framework_tag\": null, \"num_shards\": null, \"quantize\": null, \"spec\": null}, {\"id\": \"end_cku244ac6rb003ksbbc0\", \"name\": \"llm-jp-13b-instruct-full\", \"model_name\": null, \"source\": \"hugging_face\", \"status\": \"READY\", \"inference_framework\": \"text_generation_inference\", \"inference_framework_tag\": null, \"num_shards\": null, \"quantize\": null, \"spec\": null}, {\"id\": \"end_cku24c2c6rb003ksbbd0\", \"name\": \"llm-jp-13b-instruct-full-dolly\", \"model_name\": null, \"source\": \"hugging_face\", \"status\": \"READY\", \"inference_framework\": \"text_generation_inference\", \"inference_framework_tag\": null, \"num_shards\": null, \"quantize\": null, \"spec\": null}, {\"id\": \"end_ckisa3jhjvn003f21rpg\", \"name\": \"code-llama-instruct-13b\", \"model_name\": null, \"source\": \"hugging_face\", \"status\": \"READY\", \"inference_framework\": \"vllm\", \"inference_framework_tag\": null, \"num_shards\": null, \"quantize\": null, \"spec\": null}, {\"id\": \"end_cnu7hgshbng003goe20g\", \"name\": \"1711044801-template496950bd-dfec-4117-8f4f-87473b8491d2\", \"model_name\": null, \"source\": \"hugging_face\", \"status\": \"READY\", \"inference_framework\": \"vllm\", \"inference_framework_tag\": null, \"num_shards\": null, \"quantize\": null, \"spec\": null}, {\"id\": \"end_cnu7igvevi1003moiq0g\", \"name\": \"1711044928-templatec5b7dc49-a1be-40b8-ae2e-cc8ab130d812\", \"model_name\": null, \"source\": \"hugging_face\", \"status\": \"READY\", \"inference_framework\": \"vllm\", \"inference_framework_tag\": null, \"num_shards\": null, \"quantize\": null, \"spec\": null}, {\"id\": \"end_cnu7mfeq6m8g03fkstig\", \"name\": \"1711045435-templatedf5f7bdb-d212-4510-ad02-4e6f246ca3df\", \"model_name\": null, \"source\": \"hugging_face\", \"status\": \"READY\", \"inference_framework\": \"vllm\", \"inference_framework_tag\": null, \"num_shards\": null, \"quantize\": null, \"spec\": null}, {\"id\": \"end_cnu82hm4j9dg03j0eo70\", \"name\": \"1711046979-template5b3374cb-7fd5-4fc7-b114-85ec8d94e07e\", \"model_name\": null, \"source\": \"hugging_face\", \"status\": \"READY\", \"inference_framework\": \"vllm\", \"inference_framework_tag\": null, \"num_shards\": null, \"quantize\": null, \"spec\": null}, {\"id\": \"end_cnu7o0m4j9dg03j0eo60\", \"name\": \"1711045632-template559652d0-a03f-4839-a93e-90bd82223ead\", \"model_name\": null, \"source\": \"hugging_face\", \"status\": \"READY\", \"inference_framework\": \"vllm\", \"inference_framework_tag\": null, \"num_shards\": null, \"quantize\": null, \"spec\": null}, {\"id\": \"end_cnu7prvevi1003a1k640\", \"name\": \"1711045869-template73b9c9aa-a11d-4d24-ac51-e81fda86dbb3\", \"model_name\": null, \"source\": \"hugging_face\", \"status\": \"READY\", \"inference_framework\": \"vllm\", \"inference_framework_tag\": null, \"num_shards\": null, \"quantize\": null, \"spec\": null}, {\"id\": \"end_cnu7qr5odf4g03dvsjdg\", \"name\": \"1711045993-templatefb03b6a9-e9f7-487c-8ae2-915e43e15673\", \"model_name\": null, \"source\": \"hugging_face\", \"status\": \"READY\", \"inference_framework\": \"vllm\", \"inference_framework_tag\": null, \"num_shards\": null, \"quantize\": null, \"spec\": null}, {\"id\": \"end_cnu7rhhpm2sg03q37g3g\", \"name\": \"1711046084-template40ec8732-bc41-4313-883d-4cf09ecba468\", \"model_name\": null, \"source\": \"hugging_face\", \"status\": \"READY\", \"inference_framework\": \"vllm\", \"inference_framework_tag\": null, \"num_shards\": null, \"quantize\": null, \"spec\": null}, {\"id\": \"end_cnu7rsorpon00341iih0\", \"name\": \"1711046129-template847be21c-8d78-4d6e-ae2b-a76cfe4b622d\", \"model_name\": null, \"source\": \"hugging_face\", \"status\": \"READY\", \"inference_framework\": \"vllm\", \"inference_framework_tag\": null, \"num_shards\": null, \"quantize\": null, \"spec\": null}, {\"id\": \"end_cnc4acbedsvg03oqt85g\", \"name\": \"gemma-2b-instruct\", \"model_name\": null, \"source\": \"hugging_face\", \"status\": \"READY\", \"inference_framework\": \"vllm\", \"inference_framework_tag\": null, \"num_shards\": null, \"quantize\": null, \"spec\": null}, {\"id\": \"end_cme533o3uvi003aoe1jg\", \"name\": \"models--chegg-answerable-filter\", \"model_name\": null, \"source\": \"hugging_face\", \"status\": \"READY\", \"inference_framework\": \"vllm\", \"inference_framework_tag\": null, \"num_shards\": null, \"quantize\": null, \"spec\": null}, {\"id\": \"end_cnu7s2khbng003goe21g\", \"name\": \"1711046152-templated9022036-9656-441d-9cf3-6a5951d0edca\", \"model_name\": null, \"source\": \"hugging_face\", \"status\": \"READY\", \"inference_framework\": \"vllm\", \"inference_framework_tag\": null, \"num_shards\": null, \"quantize\": null, \"spec\": null}, {\"id\": \"end_cnc4amjnk7t003tmr99g\", \"name\": \"gemma-2b\", \"model_name\": null, \"source\": \"hugging_face\", \"status\": \"READY\", \"inference_framework\": \"vllm\", \"inference_framework_tag\": null, \"num_shards\": null, \"quantize\": null, \"spec\": null}, {\"id\": \"end_clrsvr4spkk003oo29og\", \"name\": \"codellama-7b\", \"model_name\": null, \"source\": \"hugging_face\", \"status\": \"READY\", \"inference_framework\": \"vllm\", \"inference_framework_tag\": null, \"num_shards\": null, \"quantize\": null, \"spec\": null}, {\"id\": \"end_clrt11adb9kg03vtko70\", \"name\": \"codellama-7b-instruct\", \"model_name\": null, \"source\": \"hugging_face\", \"status\": \"READY\", \"inference_framework\": \"vllm\", \"inference_framework_tag\": null, \"num_shards\": null, \"quantize\": null, \"spec\": null}, {\"id\": \"end_cnu7s39pm2sg03lqgi80\", \"name\": \"1711046155-templated9022036-9656-441d-9cf3-6a5951d0edca\", \"model_name\": null, \"source\": \"hugging_face\", \"status\": \"READY\", \"inference_framework\": \"vllm\", \"inference_framework_tag\": null, \"num_shards\": null, \"quantize\": null, \"spec\": null}, {\"id\": \"end_cionqpbtq99003temcog\", \"name\": \"falcon-40b-instruct\", \"model_name\": null, \"source\": \"hugging_face\", \"status\": \"READY\", \"inference_framework\": \"text_generation_inference\", \"inference_framework_tag\": null, \"num_shards\": null, \"quantize\": null, \"spec\": null}, {\"id\": \"end_cks3nosrt29g033u6e50\", \"name\": \"llama-2-13b-chat\", \"model_name\": null, \"source\": \"hugging_face\", \"status\": \"READY\", \"inference_framework\": \"vllm\", \"inference_framework_tag\": null, \"num_shards\": null, \"quantize\": null, \"spec\": null}, {\"id\": \"end_cnc4egjnk7t003tmr9ag\", \"name\": \"gemma-7b-instruct\", \"model_name\": null, \"source\": \"hugging_face\", \"status\": \"READY\", \"inference_framework\": \"vllm\", \"inference_framework_tag\": null, \"num_shards\": null, \"quantize\": null, \"spec\": null}, {\"id\": \"end_clrt0dsspkk003oo29pg\", \"name\": \"codellama-13b\", \"model_name\": null, \"source\": \"hugging_face\", \"status\": \"READY\", \"inference_framework\": \"vllm\", \"inference_framework_tag\": null, \"num_shards\": null, \"quantize\": null, \"spec\": null}, {\"id\": \"end_cnu82gku1tj003s1hsa0\", \"name\": \"1711046976-template5b3374cb-7fd5-4fc7-b114-85ec8d94e07e\", \"model_name\": null, \"source\": \"hugging_face\", \"status\": \"READY\", \"inference_framework\": \"vllm\", \"inference_framework_tag\": null, \"num_shards\": null, \"quantize\": null, \"spec\": null}, {\"id\": \"end_cn7s1el413q0031av3fg\", \"name\": \"codellama-70b\", \"model_name\": null, \"source\": \"hugging_face\", \"status\": \"READY\", \"inference_framework\": \"vllm\", \"inference_framework_tag\": null, \"num_shards\": null, \"quantize\": null, \"spec\": null}, {\"id\": \"end_clrt0j4spkk003bnnjp0\", \"name\": \"codellama-13b-instruct\", \"model_name\": null, \"source\": \"hugging_face\", \"status\": \"READY\", \"inference_framework\": \"vllm\", \"inference_framework_tag\": null, \"num_shards\": null, \"quantize\": null, \"spec\": null}, {\"id\": \"end_cln32qp88ms0033ja6tg\", \"name\": \"zephyr-7b-alpha\", \"model_name\": null, \"source\": \"hugging_face\", \"status\": \"READY\", \"inference_framework\": \"vllm\", \"inference_framework_tag\": null, \"num_shards\": null, \"quantize\": null, \"spec\": null}, {\"id\": \"end_cnc4el6akcfg035onkn0\", \"name\": \"gemma-7b\", \"model_name\": null, \"source\": \"hugging_face\", \"status\": \"READY\", \"inference_framework\": \"vllm\", \"inference_framework_tag\": null, \"num_shards\": null, \"quantize\": null, \"spec\": null}, {\"id\": \"end_cn7s1g3beclg03p0s380\", \"name\": \"codellama-70b-instruct\", \"model_name\": null, \"source\": \"hugging_face\", \"status\": \"READY\", \"inference_framework\": \"vllm\", \"inference_framework_tag\": null, \"num_shards\": null, \"quantize\": null, \"spec\": null}, {\"id\": \"end_clrt32qdb9kg03aahp9g\", \"name\": \"codellama-34b\", \"model_name\": null, \"source\": \"hugging_face\", \"status\": \"READY\", \"inference_framework\": \"vllm\", \"inference_framework_tag\": null, \"num_shards\": null, \"quantize\": null, \"spec\": null}, {\"id\": \"end_cltnomrtck9g033mvg10\", \"name\": \"mixtral-8x7b\", \"model_name\": null, \"source\": \"hugging_face\", \"status\": \"READY\", \"inference_framework\": \"vllm\", \"inference_framework_tag\": null, \"num_shards\": null, \"quantize\": null, \"spec\": null}, {\"id\": \"end_clto3617tu1g03ogjd5g\", \"name\": \"marlin_text2sql\", \"model_name\": null, \"source\": \"hugging_face\", \"status\": \"READY\", \"inference_framework\": \"vllm\", \"inference_framework_tag\": null, \"num_shards\": null, \"quantize\": null, \"spec\": null}, {\"id\": \"end_clrt2vcspkk003oo29r0\", \"name\": \"codellama-34b-instruct\", \"model_name\": null, \"source\": \"hugging_face\", \"status\": \"READY\", \"inference_framework\": \"vllm\", \"inference_framework_tag\": null, \"num_shards\": null, \"quantize\": null, \"spec\": null}, {\"id\": \"end_cn6nc98c76q003rf6a1g\", \"name\": \"mixtral-text2sql-finetuned-quantized\", \"model_name\": null, \"source\": \"hugging_face\", \"status\": \"READY\", \"inference_framework\": \"vllm\", \"inference_framework_tag\": null, \"num_shards\": null, \"quantize\": null, \"spec\": null}, {\"id\": \"end_clto3u27cef003pe1ae0\", \"name\": \"mixtral-8x7b-instruct\", \"model_name\": null, \"source\": \"hugging_face\", \"status\": \"READY\", \"inference_framework\": \"vllm\", \"inference_framework_tag\": null, \"num_shards\": null, \"quantize\": null, \"spec\": null}, {\"id\": \"end_cn6op7d23jg0030gbas0\", \"name\": \"llama-2-7b\", \"model_name\": null, \"source\": \"hugging_face\", \"status\": \"READY\", \"inference_framework\": \"vllm\", \"inference_framework_tag\": null, \"num_shards\": null, \"quantize\": null, \"spec\": null}, {\"id\": \"end_cnchkqtm63rg03v9eoq0\", \"name\": \"llama-2-13b\", \"model_name\": null, \"source\": \"hugging_face\", \"status\": \"READY\", \"inference_framework\": \"vllm\", \"inference_framework_tag\": null, \"num_shards\": null, \"quantize\": null, \"spec\": null}]}\n"
          ]
        }
      ],
      "source": [
        "response = Model.list()\n",
        "print(response.json())"
      ]
    },
    {
      "cell_type": "markdown",
      "metadata": {
        "id": "IAIvQLfKmh_0",
        "jp-MarkdownHeadingCollapsed": true
      },
      "source": [
        "### Run Trained Model\n"
      ]
    },
    {
      "cell_type": "markdown",
      "metadata": {
        "id": "w8JIdKRpmh_1",
        "jp-MarkdownHeadingCollapsed": true
      },
      "source": [
        "#### Imports"
      ]
    },
    {
      "cell_type": "code",
      "execution_count": null,
      "metadata": {
        "id": "1mG4fsyVmh_1",
        "outputId": "55812e1c-9161-4124-d56c-1431a9e5dbf2",
        "scrolled": true
      },
      "outputs": [
        {
          "name": "stdout",
          "output_type": "stream",
          "text": [
            "Requirement already satisfied: scale-llm-engine in c:\\users\\moham\\appdata\\local\\programs\\python\\python312\\lib\\site-packages (0.0.0b28)\n",
            "Requirement already satisfied: aiohttp<4.0,>=3.8 in c:\\users\\moham\\appdata\\local\\programs\\python\\python312\\lib\\site-packages (from scale-llm-engine) (3.9.3)\n",
            "Requirement already satisfied: pydantic>=1.10 in c:\\users\\moham\\appdata\\local\\programs\\python\\python312\\lib\\site-packages (from scale-llm-engine) (2.5.3)\n",
            "Requirement already satisfied: requests<3.0.0,>=2.31.0 in c:\\users\\moham\\appdata\\local\\programs\\python\\python312\\lib\\site-packages (from scale-llm-engine) (2.31.0)\n",
            "Requirement already satisfied: aiosignal>=1.1.2 in c:\\users\\moham\\appdata\\local\\programs\\python\\python312\\lib\\site-packages (from aiohttp<4.0,>=3.8->scale-llm-engine) (1.3.1)\n",
            "Requirement already satisfied: attrs>=17.3.0 in c:\\users\\moham\\appdata\\local\\programs\\python\\python312\\lib\\site-packages (from aiohttp<4.0,>=3.8->scale-llm-engine) (23.2.0)\n",
            "Requirement already satisfied: frozenlist>=1.1.1 in c:\\users\\moham\\appdata\\local\\programs\\python\\python312\\lib\\site-packages (from aiohttp<4.0,>=3.8->scale-llm-engine) (1.4.1)\n",
            "Requirement already satisfied: multidict<7.0,>=4.5 in c:\\users\\moham\\appdata\\local\\programs\\python\\python312\\lib\\site-packages (from aiohttp<4.0,>=3.8->scale-llm-engine) (6.0.5)\n",
            "Requirement already satisfied: yarl<2.0,>=1.0 in c:\\users\\moham\\appdata\\local\\programs\\python\\python312\\lib\\site-packages (from aiohttp<4.0,>=3.8->scale-llm-engine) (1.9.4)\n",
            "Requirement already satisfied: annotated-types>=0.4.0 in c:\\users\\moham\\appdata\\local\\programs\\python\\python312\\lib\\site-packages (from pydantic>=1.10->scale-llm-engine) (0.6.0)\n",
            "Requirement already satisfied: pydantic-core==2.14.6 in c:\\users\\moham\\appdata\\local\\programs\\python\\python312\\lib\\site-packages (from pydantic>=1.10->scale-llm-engine) (2.14.6)\n",
            "Requirement already satisfied: typing-extensions>=4.6.1 in c:\\users\\moham\\appdata\\local\\programs\\python\\python312\\lib\\site-packages (from pydantic>=1.10->scale-llm-engine) (4.9.0)\n",
            "Requirement already satisfied: charset-normalizer<4,>=2 in c:\\users\\moham\\appdata\\local\\programs\\python\\python312\\lib\\site-packages (from requests<3.0.0,>=2.31.0->scale-llm-engine) (3.3.2)\n",
            "Requirement already satisfied: idna<4,>=2.5 in c:\\users\\moham\\appdata\\local\\programs\\python\\python312\\lib\\site-packages (from requests<3.0.0,>=2.31.0->scale-llm-engine) (3.6)\n",
            "Requirement already satisfied: urllib3<3,>=1.21.1 in c:\\users\\moham\\appdata\\local\\programs\\python\\python312\\lib\\site-packages (from requests<3.0.0,>=2.31.0->scale-llm-engine) (2.1.0)\n",
            "Requirement already satisfied: certifi>=2017.4.17 in c:\\users\\moham\\appdata\\local\\programs\\python\\python312\\lib\\site-packages (from requests<3.0.0,>=2.31.0->scale-llm-engine) (2023.11.17)\n"
          ]
        },
        {
          "name": "stderr",
          "output_type": "stream",
          "text": [
            "\n",
            "[notice] A new release of pip is available: 23.2.1 -> 24.0\n",
            "[notice] To update, run: C:\\Users\\moham\\AppData\\Local\\Programs\\Python\\Python312\\python.exe -m pip install --upgrade pip\n"
          ]
        }
      ],
      "source": [
        "!pip install scale-llm-engine"
      ]
    },
    {
      "cell_type": "code",
      "execution_count": null,
      "metadata": {
        "id": "mBndOmOHmh_1",
        "outputId": "c1e2a461-e622-4ad0-9011-70395454df16"
      },
      "outputs": [
        {
          "name": "stdout",
          "output_type": "stream",
          "text": [
            "A newer version (0.0.0b30) of 'scale-llm-engine' is available. Please upgrade!\n",
            "To upgrade, run: pip install --upgrade scale-llm-engine\n",
            "Don't want to see this message? Set the environment variable 'LLM_ENGINE_DISABLE_VERSION_CHECK' to 'true'.\n"
          ]
        }
      ],
      "source": [
        "import llmengine\n",
        "from llmengine import File, FineTune, Model, Completion\n",
        "import json"
      ]
    },
    {
      "cell_type": "code",
      "execution_count": null,
      "metadata": {
        "id": "yECcjbdKmh_1"
      },
      "outputs": [],
      "source": [
        "llmengine.api_engine.set_api_key(\"API KEY HERE\")"
      ]
    },
    {
      "cell_type": "code",
      "execution_count": null,
      "metadata": {
        "id": "PyIvlBIMmh_1",
        "outputId": "f0dab474-15a7-49cf-8508-570b0d826f88"
      },
      "outputs": [
        {
          "name": "stdout",
          "output_type": "stream",
          "text": [
            "{\"model_endpoints\": [{\"id\": \"end_cnube0dodf4g03skmaeg\", \"name\": \"mistral-7b-instruct.harutest.240321-222320\", \"model_name\": null, \"source\": \"hugging_face\", \"status\": \"READY\", \"inference_framework\": \"vllm\", \"inference_framework_tag\": null, \"num_shards\": null, \"quantize\": null, \"spec\": null}, {\"id\": \"end_cku1n62c6rb003ksbbb0\", \"name\": \"mistral-7b-instruct\", \"model_name\": null, \"source\": \"hugging_face\", \"status\": \"READY\", \"inference_framework\": \"vllm\", \"inference_framework_tag\": null, \"num_shards\": null, \"quantize\": null, \"spec\": null}, {\"id\": \"end_cnudjrnevi1003476bs0\", \"name\": \"mpt-7b-instruct.harutest.240322-003724\", \"model_name\": null, \"source\": \"hugging_face\", \"status\": \"READY\", \"inference_framework\": \"vllm\", \"inference_framework_tag\": null, \"num_shards\": null, \"quantize\": null, \"spec\": null}, {\"id\": \"end_cl04kthti5ag033fu65g\", \"name\": \"llama-7b\", \"model_name\": null, \"source\": \"hugging_face\", \"status\": \"READY\", \"inference_framework\": \"vllm\", \"inference_framework_tag\": null, \"num_shards\": null, \"quantize\": null, \"spec\": null}, {\"id\": \"end_cnueoeorpon00341iiog\", \"name\": \"llama-2-70b.harutest.240322-013040\", \"model_name\": null, \"source\": \"hugging_face\", \"status\": \"READY\", \"inference_framework\": \"vllm\", \"inference_framework_tag\": null, \"num_shards\": null, \"quantize\": null, \"spec\": null}, {\"id\": \"end_cnrqfiknpoggismjh790\", \"name\": \"llama-2-7b.harutest.240318-021554\", \"model_name\": null, \"source\": \"hugging_face\", \"status\": \"READY\", \"inference_framework\": \"vllm\", \"inference_framework_tag\": null, \"num_shards\": null, \"quantize\": null, \"spec\": null}, {\"id\": \"end_cnufjfv104e003ns40i0\", \"name\": \"llama-7b.harutest.240322-030715\", \"model_name\": null, \"source\": \"hugging_face\", \"status\": \"READY\", \"inference_framework\": \"vllm\", \"inference_framework_tag\": null, \"num_shards\": null, \"quantize\": null, \"spec\": null}, {\"id\": \"end_cj25n8c2i4b003tdav4g\", \"name\": \"llama-2-70b\", \"model_name\": null, \"source\": \"hugging_face\", \"status\": \"READY\", \"inference_framework\": \"text_generation_inference\", \"inference_framework_tag\": null, \"num_shards\": null, \"quantize\": null, \"spec\": null}, {\"id\": \"end_cirl78jpci9002n6or90\", \"name\": \"llama-2-7b-chat\", \"model_name\": null, \"source\": \"hugging_face\", \"status\": \"READY\", \"inference_framework\": \"vllm\", \"inference_framework_tag\": null, \"num_shards\": null, \"quantize\": null, \"spec\": null}, {\"id\": \"end_cla16a2mncu003agbqmg\", \"name\": \"llama-2-70b-chat\", \"model_name\": null, \"source\": \"hugging_face\", \"status\": \"READY\", \"inference_framework\": \"vllm\", \"inference_framework_tag\": null, \"num_shards\": null, \"quantize\": null, \"spec\": null}, {\"id\": \"end_cnuphqkntni003vor1ng\", \"name\": \"1711118567-template5c3d28a2-3272-4f1a-a5a7-9c8a390c4490\", \"model_name\": null, \"source\": \"hugging_face\", \"status\": \"READY\", \"inference_framework\": \"vllm\", \"inference_framework_tag\": null, \"num_shards\": null, \"quantize\": null, \"spec\": null}, {\"id\": \"end_cognrhu31tog03905ic0\", \"name\": \"llama-3-70b-instruct\", \"model_name\": null, \"source\": \"hugging_face\", \"status\": \"READY\", \"inference_framework\": \"vllm\", \"inference_framework_tag\": null, \"num_shards\": null, \"quantize\": null, \"spec\": null}, {\"id\": \"end_cnupia4qog1g03ud319g\", \"name\": \"1711118630-templateafbadf25-1bf9-41b6-a82c-b8756e841847\", \"model_name\": null, \"source\": \"hugging_face\", \"status\": \"READY\", \"inference_framework\": \"vllm\", \"inference_framework_tag\": null, \"num_shards\": null, \"quantize\": null, \"spec\": null}, {\"id\": \"end_cku24c2c6rb003ksbbd0\", \"name\": \"llm-jp-13b-instruct-full-dolly\", \"model_name\": null, \"source\": \"hugging_face\", \"status\": \"READY\", \"inference_framework\": \"text_generation_inference\", \"inference_framework_tag\": null, \"num_shards\": null, \"quantize\": null, \"spec\": null}, {\"id\": \"end_cnupih9vkbb0e0ckok60\", \"name\": \"1711118658-template8db8e2c2-55d3-4482-953b-3e86606d728d\", \"model_name\": null, \"source\": \"hugging_face\", \"status\": \"READY\", \"inference_framework\": \"vllm\", \"inference_framework_tag\": null, \"num_shards\": null, \"quantize\": null, \"spec\": null}, {\"id\": \"end_cnc4egjnk7t003tmr9ag\", \"name\": \"gemma-7b-instruct\", \"model_name\": null, \"source\": \"hugging_face\", \"status\": \"READY\", \"inference_framework\": \"vllm\", \"inference_framework_tag\": null, \"num_shards\": null, \"quantize\": null, \"spec\": null}, {\"id\": \"end_cnupin8pmcc003tdu630\", \"name\": \"1711118682-templateb8a613cd-8196-46a8-99b0-e72aead87f1f\", \"model_name\": null, \"source\": \"hugging_face\", \"status\": \"READY\", \"inference_framework\": \"vllm\", \"inference_framework_tag\": null, \"num_shards\": null, \"quantize\": null, \"spec\": null}, {\"id\": \"end_cnc4el6akcfg035onkn0\", \"name\": \"gemma-7b\", \"model_name\": null, \"source\": \"hugging_face\", \"status\": \"READY\", \"inference_framework\": \"vllm\", \"inference_framework_tag\": null, \"num_shards\": null, \"quantize\": null, \"spec\": null}, {\"id\": \"end_cionqpbtq99003temcog\", \"name\": \"falcon-40b-instruct\", \"model_name\": null, \"source\": \"hugging_face\", \"status\": \"READY\", \"inference_framework\": \"text_generation_inference\", \"inference_framework_tag\": null, \"num_shards\": null, \"quantize\": null, \"spec\": null}, {\"id\": \"end_cnupltafc9v003orr3jg\", \"name\": \"1711119091-template8ba7e62b-b028-4fdd-aaeb-bcc276c4973f\", \"model_name\": null, \"source\": \"hugging_face\", \"status\": \"READY\", \"inference_framework\": \"vllm\", \"inference_framework_tag\": null, \"num_shards\": null, \"quantize\": null, \"spec\": null}, {\"id\": \"end_cnur452fc9v003orr3kg\", \"name\": \"1711125010-templatea99858b4-862c-4015-9513-b151efb157b4\", \"model_name\": null, \"source\": \"hugging_face\", \"status\": \"READY\", \"inference_framework\": \"vllm\", \"inference_framework_tag\": null, \"num_shards\": null, \"quantize\": null, \"spec\": null}, {\"id\": \"end_cnuptmt2u2t0031q0l70\", \"name\": \"1711120089-template9dae7e53-ad24-4182-90af-050f3349db17\", \"model_name\": null, \"source\": \"hugging_face\", \"status\": \"READY\", \"inference_framework\": \"vllm\", \"inference_framework_tag\": null, \"num_shards\": null, \"quantize\": null, \"spec\": null}, {\"id\": \"end_cnuq8qm6vtgg03hqshv0\", \"name\": \"1711121512-templatea5094fd5-61d9-4d10-a0bc-9812e99c2c5a\", \"model_name\": null, \"source\": \"hugging_face\", \"status\": \"READY\", \"inference_framework\": \"vllm\", \"inference_framework_tag\": null, \"num_shards\": null, \"quantize\": null, \"spec\": null}, {\"id\": \"end_cln32vuv3qlg03osa220\", \"name\": \"zephyr-7b-beta\", \"model_name\": null, \"source\": \"hugging_face\", \"status\": \"READY\", \"inference_framework\": \"vllm\", \"inference_framework_tag\": null, \"num_shards\": null, \"quantize\": null, \"spec\": null}, {\"id\": \"end_cntkavnp8rt003cf3vd0\", \"name\": \"mistral-7b-instruct-guided-decoding\", \"model_name\": null, \"source\": \"hugging_face\", \"status\": \"READY\", \"inference_framework\": \"vllm\", \"inference_framework_tag\": null, \"num_shards\": null, \"quantize\": null, \"spec\": null}, {\"id\": \"end_cohdtjrrbigg03f2oc9g\", \"name\": \"llama-3-8b-instruct\", \"model_name\": null, \"source\": \"hugging_face\", \"status\": \"READY\", \"inference_framework\": \"vllm\", \"inference_framework_tag\": null, \"num_shards\": null, \"quantize\": null, \"spec\": null}, {\"id\": \"end_cku1ntic6rb003r3khog\", \"name\": \"mistral-7b\", \"model_name\": null, \"source\": \"hugging_face\", \"status\": \"READY\", \"inference_framework\": \"vllm\", \"inference_framework_tag\": null, \"num_shards\": null, \"quantize\": null, \"spec\": null}, {\"id\": \"end_cohdtmu0irk003l7meqg\", \"name\": \"llama-3-8b\", \"model_name\": null, \"source\": \"hugging_face\", \"status\": \"READY\", \"inference_framework\": \"vllm\", \"inference_framework_tag\": null, \"num_shards\": null, \"quantize\": null, \"spec\": null}, {\"id\": \"end_cltnomrtck9g033mvg10\", \"name\": \"mixtral-8x7b\", \"model_name\": null, \"source\": \"hugging_face\", \"status\": \"READY\", \"inference_framework\": \"vllm\", \"inference_framework_tag\": null, \"num_shards\": null, \"quantize\": null, \"spec\": null}, {\"id\": \"end_cnurc9sttrc003o8hnag\", \"name\": \"1711126053-templateb822e21e-2798-4e6d-be8d-26830c1b2367\", \"model_name\": null, \"source\": \"hugging_face\", \"status\": \"READY\", \"inference_framework\": \"vllm\", \"inference_framework_tag\": null, \"num_shards\": null, \"quantize\": null, \"spec\": null}, {\"id\": \"end_cnurfm0r3pj003c7p7l0\", \"name\": \"1711126485-template3e88222c-5b8b-4e96-96f1-69125e44c9ba\", \"model_name\": null, \"source\": \"hugging_face\", \"status\": \"READY\", \"inference_framework\": \"vllm\", \"inference_framework_tag\": null, \"num_shards\": null, \"quantize\": null, \"spec\": null}, {\"id\": \"end_cku244ac6rb003ksbbc0\", \"name\": \"llm-jp-13b-instruct-full\", \"model_name\": null, \"source\": \"hugging_face\", \"status\": \"READY\", \"inference_framework\": \"text_generation_inference\", \"inference_framework_tag\": null, \"num_shards\": null, \"quantize\": null, \"spec\": null}, {\"id\": \"end_cks3nosrt29g033u6e50\", \"name\": \"llama-2-13b-chat\", \"model_name\": null, \"source\": \"hugging_face\", \"status\": \"READY\", \"inference_framework\": \"vllm\", \"inference_framework_tag\": null, \"num_shards\": null, \"quantize\": null, \"spec\": null}, {\"id\": \"end_cnu7hgshbng003goe20g\", \"name\": \"1711044801-template496950bd-dfec-4117-8f4f-87473b8491d2\", \"model_name\": null, \"source\": \"hugging_face\", \"status\": \"READY\", \"inference_framework\": \"vllm\", \"inference_framework_tag\": null, \"num_shards\": null, \"quantize\": null, \"spec\": null}, {\"id\": \"end_cnu7igvevi1003moiq0g\", \"name\": \"1711044928-templatec5b7dc49-a1be-40b8-ae2e-cc8ab130d812\", \"model_name\": null, \"source\": \"hugging_face\", \"status\": \"READY\", \"inference_framework\": \"vllm\", \"inference_framework_tag\": null, \"num_shards\": null, \"quantize\": null, \"spec\": null}, {\"id\": \"end_co1ea52mj04g0351mnt0\", \"name\": \"1711465745-templatea6de2400-7dc6-4cc5-b306-414c5db27ffb\", \"model_name\": null, \"source\": \"hugging_face\", \"status\": \"READY\", \"inference_framework\": \"vllm\", \"inference_framework_tag\": null, \"num_shards\": null, \"quantize\": null, \"spec\": null}, {\"id\": \"end_cnu7mfeq6m8g03fkstig\", \"name\": \"1711045435-templatedf5f7bdb-d212-4510-ad02-4e6f246ca3df\", \"model_name\": null, \"source\": \"hugging_face\", \"status\": \"READY\", \"inference_framework\": \"vllm\", \"inference_framework_tag\": null, \"num_shards\": null, \"quantize\": null, \"spec\": null}, {\"id\": \"end_cnu82hm4j9dg03j0eo70\", \"name\": \"1711046979-template5b3374cb-7fd5-4fc7-b114-85ec8d94e07e\", \"model_name\": null, \"source\": \"hugging_face\", \"status\": \"READY\", \"inference_framework\": \"vllm\", \"inference_framework_tag\": null, \"num_shards\": null, \"quantize\": null, \"spec\": null}, {\"id\": \"end_cnu7o0m4j9dg03j0eo60\", \"name\": \"1711045632-template559652d0-a03f-4839-a93e-90bd82223ead\", \"model_name\": null, \"source\": \"hugging_face\", \"status\": \"READY\", \"inference_framework\": \"vllm\", \"inference_framework_tag\": null, \"num_shards\": null, \"quantize\": null, \"spec\": null}, {\"id\": \"end_cnu7prvevi1003a1k640\", \"name\": \"1711045869-template73b9c9aa-a11d-4d24-ac51-e81fda86dbb3\", \"model_name\": null, \"source\": \"hugging_face\", \"status\": \"READY\", \"inference_framework\": \"vllm\", \"inference_framework_tag\": null, \"num_shards\": null, \"quantize\": null, \"spec\": null}, {\"id\": \"end_cnu7qr5odf4g03dvsjdg\", \"name\": \"1711045993-templatefb03b6a9-e9f7-487c-8ae2-915e43e15673\", \"model_name\": null, \"source\": \"hugging_face\", \"status\": \"READY\", \"inference_framework\": \"vllm\", \"inference_framework_tag\": null, \"num_shards\": null, \"quantize\": null, \"spec\": null}, {\"id\": \"end_co1hjisdhbjg036q7jf0\", \"name\": \"1711479240-template4a2744de-fe6e-4d6f-a479-d153acd844f0\", \"model_name\": null, \"source\": \"hugging_face\", \"status\": \"READY\", \"inference_framework\": \"vllm\", \"inference_framework_tag\": null, \"num_shards\": null, \"quantize\": null, \"spec\": null}, {\"id\": \"end_cnu7rhhpm2sg03q37g3g\", \"name\": \"1711046084-template40ec8732-bc41-4313-883d-4cf09ecba468\", \"model_name\": null, \"source\": \"hugging_face\", \"status\": \"READY\", \"inference_framework\": \"vllm\", \"inference_framework_tag\": null, \"num_shards\": null, \"quantize\": null, \"spec\": null}, {\"id\": \"end_cnu7rsorpon00341iih0\", \"name\": \"1711046129-template847be21c-8d78-4d6e-ae2b-a76cfe4b622d\", \"model_name\": null, \"source\": \"hugging_face\", \"status\": \"READY\", \"inference_framework\": \"vllm\", \"inference_framework_tag\": null, \"num_shards\": null, \"quantize\": null, \"spec\": null}, {\"id\": \"end_cnc4acbedsvg03oqt85g\", \"name\": \"gemma-2b-instruct\", \"model_name\": null, \"source\": \"hugging_face\", \"status\": \"READY\", \"inference_framework\": \"vllm\", \"inference_framework_tag\": null, \"num_shards\": null, \"quantize\": null, \"spec\": null}, {\"id\": \"end_cme533o3uvi003aoe1jg\", \"name\": \"models--chegg-answerable-filter\", \"model_name\": null, \"source\": \"hugging_face\", \"status\": \"READY\", \"inference_framework\": \"vllm\", \"inference_framework_tag\": null, \"num_shards\": null, \"quantize\": null, \"spec\": null}, {\"id\": \"end_cnu7s2khbng003goe21g\", \"name\": \"1711046152-templated9022036-9656-441d-9cf3-6a5951d0edca\", \"model_name\": null, \"source\": \"hugging_face\", \"status\": \"READY\", \"inference_framework\": \"vllm\", \"inference_framework_tag\": null, \"num_shards\": null, \"quantize\": null, \"spec\": null}, {\"id\": \"end_cnc4amjnk7t003tmr99g\", \"name\": \"gemma-2b\", \"model_name\": null, \"source\": \"hugging_face\", \"status\": \"READY\", \"inference_framework\": \"vllm\", \"inference_framework_tag\": null, \"num_shards\": null, \"quantize\": null, \"spec\": null}, {\"id\": \"end_clrsvr4spkk003oo29og\", \"name\": \"codellama-7b\", \"model_name\": null, \"source\": \"hugging_face\", \"status\": \"READY\", \"inference_framework\": \"vllm\", \"inference_framework_tag\": null, \"num_shards\": null, \"quantize\": null, \"spec\": null}, {\"id\": \"end_clrt11adb9kg03vtko70\", \"name\": \"codellama-7b-instruct\", \"model_name\": null, \"source\": \"hugging_face\", \"status\": \"READY\", \"inference_framework\": \"vllm\", \"inference_framework_tag\": null, \"num_shards\": null, \"quantize\": null, \"spec\": null}, {\"id\": \"end_cnu7s39pm2sg03lqgi80\", \"name\": \"1711046155-templated9022036-9656-441d-9cf3-6a5951d0edca\", \"model_name\": null, \"source\": \"hugging_face\", \"status\": \"READY\", \"inference_framework\": \"vllm\", \"inference_framework_tag\": null, \"num_shards\": null, \"quantize\": null, \"spec\": null}, {\"id\": \"end_clrt0dsspkk003oo29pg\", \"name\": \"codellama-13b\", \"model_name\": null, \"source\": \"hugging_face\", \"status\": \"READY\", \"inference_framework\": \"vllm\", \"inference_framework_tag\": null, \"num_shards\": null, \"quantize\": null, \"spec\": null}, {\"id\": \"end_cnu82gku1tj003s1hsa0\", \"name\": \"1711046976-template5b3374cb-7fd5-4fc7-b114-85ec8d94e07e\", \"model_name\": null, \"source\": \"hugging_face\", \"status\": \"READY\", \"inference_framework\": \"vllm\", \"inference_framework_tag\": null, \"num_shards\": null, \"quantize\": null, \"spec\": null}, {\"id\": \"end_cn7s1el413q0031av3fg\", \"name\": \"codellama-70b\", \"model_name\": null, \"source\": \"hugging_face\", \"status\": \"READY\", \"inference_framework\": \"vllm\", \"inference_framework_tag\": null, \"num_shards\": null, \"quantize\": null, \"spec\": null}, {\"id\": \"end_clrt0j4spkk003bnnjp0\", \"name\": \"codellama-13b-instruct\", \"model_name\": null, \"source\": \"hugging_face\", \"status\": \"READY\", \"inference_framework\": \"vllm\", \"inference_framework_tag\": null, \"num_shards\": null, \"quantize\": null, \"spec\": null}, {\"id\": \"end_cln32qp88ms0033ja6tg\", \"name\": \"zephyr-7b-alpha\", \"model_name\": null, \"source\": \"hugging_face\", \"status\": \"READY\", \"inference_framework\": \"vllm\", \"inference_framework_tag\": null, \"num_shards\": null, \"quantize\": null, \"spec\": null}, {\"id\": \"end_cn7s1g3beclg03p0s380\", \"name\": \"codellama-70b-instruct\", \"model_name\": null, \"source\": \"hugging_face\", \"status\": \"READY\", \"inference_framework\": \"vllm\", \"inference_framework_tag\": null, \"num_shards\": null, \"quantize\": null, \"spec\": null}, {\"id\": \"end_clrt32qdb9kg03aahp9g\", \"name\": \"codellama-34b\", \"model_name\": null, \"source\": \"hugging_face\", \"status\": \"READY\", \"inference_framework\": \"vllm\", \"inference_framework_tag\": null, \"num_shards\": null, \"quantize\": null, \"spec\": null}, {\"id\": \"end_coc2hb3ncfu00351jks0\", \"name\": \"mixtral-8x22b\", \"model_name\": null, \"source\": \"hugging_face\", \"status\": \"READY\", \"inference_framework\": \"vllm\", \"inference_framework_tag\": null, \"num_shards\": null, \"quantize\": null, \"spec\": null}, {\"id\": \"end_clrt2vcspkk003oo29r0\", \"name\": \"codellama-34b-instruct\", \"model_name\": null, \"source\": \"hugging_face\", \"status\": \"READY\", \"inference_framework\": \"vllm\", \"inference_framework_tag\": null, \"num_shards\": null, \"quantize\": null, \"spec\": null}, {\"id\": \"end_cog1a2vcn5d003os40og\", \"name\": \"mixtral-8x22b-instruct\", \"model_name\": null, \"source\": \"hugging_face\", \"status\": \"READY\", \"inference_framework\": \"vllm\", \"inference_framework_tag\": null, \"num_shards\": null, \"quantize\": null, \"spec\": null}, {\"id\": \"end_clto3u27cef003pe1ae0\", \"name\": \"mixtral-8x7b-instruct\", \"model_name\": null, \"source\": \"hugging_face\", \"status\": \"READY\", \"inference_framework\": \"vllm\", \"inference_framework_tag\": null, \"num_shards\": null, \"quantize\": null, \"spec\": null}, {\"id\": \"end_cnppsgblqjl003ct8do0\", \"name\": \"mixtral-8x7b-instruct-loadtest\", \"model_name\": null, \"source\": \"hugging_face\", \"status\": \"READY\", \"inference_framework\": \"vllm\", \"inference_framework_tag\": null, \"num_shards\": null, \"quantize\": null, \"spec\": null}, {\"id\": \"end_cn6op7d23jg0030gbas0\", \"name\": \"llama-2-7b\", \"model_name\": null, \"source\": \"hugging_face\", \"status\": \"READY\", \"inference_framework\": \"vllm\", \"inference_framework_tag\": null, \"num_shards\": null, \"quantize\": null, \"spec\": null}, {\"id\": \"end_co2q4jcan56003pbjbf0\", \"name\": \"1711645261-templatecac36aa8-a708-42e5-8c11-1ea556fafd77\", \"model_name\": null, \"source\": \"hugging_face\", \"status\": \"READY\", \"inference_framework\": \"vllm\", \"inference_framework_tag\": null, \"num_shards\": null, \"quantize\": null, \"spec\": null}, {\"id\": \"end_cnchkqtm63rg03v9eoq0\", \"name\": \"llama-2-13b\", \"model_name\": null, \"source\": \"hugging_face\", \"status\": \"READY\", \"inference_framework\": \"vllm\", \"inference_framework_tag\": null, \"num_shards\": null, \"quantize\": null, \"spec\": null}, {\"id\": \"end_co2qdogm8h9gastn6hng\", \"name\": \"1711646433-template893e1c16-1623-44bf-8d2c-f83598c67e0c\", \"model_name\": null, \"source\": \"hugging_face\", \"status\": \"READY\", \"inference_framework\": \"vllm\", \"inference_framework_tag\": null, \"num_shards\": null, \"quantize\": null, \"spec\": null}]}\n"
          ]
        }
      ],
      "source": [
        "#Print all available models\n",
        "response = Model.list()\n",
        "print(response.json())"
      ]
    },
    {
      "cell_type": "markdown",
      "metadata": {
        "id": "psZmJTUpmh_1",
        "jp-MarkdownHeadingCollapsed": true
      },
      "source": [
        "#### Main code"
      ]
    },
    {
      "cell_type": "markdown",
      "source": [
        "##### Audio Input and Output\n",
        "\n",
        "Comment out the message depending on what message type you want(audio or text) and same for output(audio or text)"
      ],
      "metadata": {
        "id": "S0mpS9uoszm8"
      }
    },
    {
      "cell_type": "code",
      "source": [
        "user_input = \"\"\n",
        "while(user_input != \"end\"):\n",
        "\n",
        "  #OUTPUT(audio no visual)-----------------------------------------------------------------\n",
        "  #user_input = input(\"Enter you're message here: \") #for text input\n",
        "  user_input = getVoiceInput() #for audio input\n",
        "  #----------------------------------------------------------------------------------------\n",
        "\n",
        "  response = Completion.create(\n",
        "      model=\"TYPE NAME OF THE ONE YOU WANT FROM ABOVE\",\n",
        "      prompt=user_input,\n",
        "      max_new_tokens=100,\n",
        "      temperature=0.2,\n",
        "  )\n",
        "\n",
        "  x = response.json()\n",
        "  response_json = json.loads(x)\n",
        "  text = response_json['output']['text']\n",
        "\n",
        "  #OUTPUT(audio no visual)-----------------------------------------------------------------\n",
        "  print(text) #if you want text output\n",
        "  #TTS(text) #if you want audio output\n",
        "  #----------------------------------------------------------------------------------------\n",
        "\n",
        "  #to verify the authenticity of the extracted text\n",
        "  #print(response.json())"
      ],
      "metadata": {
        "id": "ZKzllsbJhOnw"
      },
      "execution_count": null,
      "outputs": []
    },
    {
      "cell_type": "markdown",
      "source": [
        "##### GIF Face output"
      ],
      "metadata": {
        "id": "ggaotxSRs2rW"
      }
    },
    {
      "cell_type": "code",
      "source": [
        "#1. llama-2-70b model: \"llama-2-70b.harutest.240322-013040\"\n",
        "#2. llama-2-7b model: \"llama-2-7b.harutest.240318-021554\"\n",
        "#3. mpt-7b-instruct model: \"mpt-7b-instruct.harutest.240322-003724\"\n",
        "#4. mistral-7b-instruct model: \"mistral-7b-instruct.harutest.240321-222320\"\n",
        "#5. llama-7b model: model: \"llama-7b.harutest.240322-030715\"\n",
        "\n",
        "user_input = \"\"\n",
        "while(user_input != \"end\"):\n",
        "\n",
        "  #OUTPUT(audio no visual)-----------------------------------------------------------------\n",
        "  #user_input = input(\"Enter you're message here: \") #for text input\n",
        "  user_input = getVoiceInput() #for audio input\n",
        "  #----------------------------------------------------------------------------------------\n",
        "\n",
        "  response = Completion.create(\n",
        "      model=\"TYPE NAME OF THE ONE YOU WANT FROM ABOVE\",\n",
        "      prompt=user_input,\n",
        "      max_new_tokens=100,\n",
        "      temperature=0.2,\n",
        "  )\n",
        "\n",
        "  x = response.json()\n",
        "  response_json = json.loads(x)\n",
        "  text = response_json['output']['text']\n",
        "\n",
        "  #OUTPUT(visual)-----------------------------------------------------------------\n",
        "  #print(text) #if you want text output\n",
        "  TTS(text, True) #if you want audio output\n",
        "  x = librosa.get_duration(filename='captured_voice.wav')\n",
        "  create_and_display_gif(['FIRST PNG NAME HERE.png', 'SECOND PNG NAME HERE.png', 'THIRD PNG NAME HERE.png'], total_duration_seconds=x, duration_per_image=0.1)\n",
        "  display(Audio('captured_voice.wav', autoplay=True))\n",
        "  time.sleep(x)\n",
        "  #----------------------------------------------------------------------------------------\n",
        "\n",
        "  #to verify the authenticity of the extracted text\n",
        "  #print(response.json())"
      ],
      "metadata": {
        "id": "MP58x2Ies8mF"
      },
      "execution_count": null,
      "outputs": []
    },
    {
      "cell_type": "markdown",
      "source": [
        "##### Deepfake Output"
      ],
      "metadata": {
        "id": "ejIP-lmes9BZ"
      }
    },
    {
      "cell_type": "code",
      "source": [
        "#1. llama-2-70b model: \"llama-2-70b.harutest.240322-013040\"\n",
        "#2. llama-2-7b model: \"llama-2-7b.harutest.240318-021554\"\n",
        "#3. mpt-7b-instruct model: \"mpt-7b-instruct.harutest.240322-003724\"\n",
        "#4. mistral-7b-instruct model: \"mistral-7b-instruct.harutest.240321-222320\"\n",
        "#5. llama-7b model: model: \"llama-7b.harutest.240322-030715\"\n",
        "\n",
        "x = 0\n",
        "user_input = \"\"\n",
        "while(user_input != \"end\"):\n",
        "   %cd /content\n",
        "   if(x != 0):\n",
        "      time.sleep(5)\n",
        "\n",
        "  #OUTPUT(audio no visual)-----------------------------------------------------------------\n",
        "  #user_input = input(\"Enter you're message here: \") #for text input\n",
        "  user_input = getVoiceInput() #for audio input\n",
        "  #----------------------------------------------------------------------------------------\n",
        "\n",
        "  response = Completion.create(\n",
        "      model=\"TYPE NAME OF THE ONE YOU WANT FROM ABOVE\",\n",
        "      prompt=user_input,\n",
        "      max_new_tokens=100,\n",
        "      temperature=0.2,\n",
        "  )\n",
        "\n",
        "  x = response.json()\n",
        "  response_json = json.loads(x)\n",
        "  text = response_json['output']['text']\n",
        "\n",
        "  #OUTPUT(visual)-----------------------------------------------------------------\n",
        "  #print(text) #if you want text output\n",
        "  TTS(text, True) #if you want audio output\n",
        "  %cd /content/SadTalker\n",
        "  anim_face(img, x)\n",
        "  x+=1\n",
        "  #----------------------------------------------------------------------------------------\n",
        "\n",
        "  #to verify the authenticity of the extracted text\n",
        "  #print(response.json())"
      ],
      "metadata": {
        "id": "jmGsNA5NtA48"
      },
      "execution_count": null,
      "outputs": []
    },
    {
      "cell_type": "markdown",
      "metadata": {
        "id": "op0woz5imh_3",
        "jp-MarkdownHeadingCollapsed": true
      },
      "source": [
        "# Text to Speech"
      ]
    },
    {
      "cell_type": "markdown",
      "metadata": {
        "id": "eTLIHjigmh_3"
      },
      "source": [
        "## Tacotron Model\n",
        "- [Reference](https://colab.research.google.com/drive/1N8lXviiwfmrS9vYzuFdQnLHlddXMMMvU#scrollTo=vF1d-My9IXXt)\n",
        "- Needs a GPU; uses a lot of memory\n",
        "- Quite slow\n",
        "- Customizable to be the most accurate to your characters voice; depends on quality of training files"
      ]
    },
    {
      "cell_type": "markdown",
      "source": [
        "### Imports and Installs"
      ],
      "metadata": {
        "id": "YfFO7DQpzNAO"
      }
    },
    {
      "cell_type": "code",
      "source": [
        "!pip3 install -U scipy\n",
        "\n",
        "!git clone https://github.com/jnordberg/tortoise-tts.git\n",
        "%cd tortoise-tts\n",
        "!pip3 install -r requirements.txt\n",
        "!pip3 install transformers==4.19.0 einops==0.5.0 rotary_embedding_torch==0.1.5 unidecode==1.3.5\n",
        "!python3 setup.py install\n",
        "\n",
        "import torch\n",
        "import torchaudio\n",
        "import torch.nn as nn\n",
        "import torch.nn.functional as F\n",
        "\n",
        "import IPython\n",
        "from IPython.display import Audio, display\n",
        "\n",
        "from tortoise.api import TextToSpeech\n",
        "from tortoise.utils.audio import load_audio, load_voice, load_voices\n",
        "\n",
        "tts = TextToSpeech()\n",
        "\n",
        "import os\n",
        "import time\n",
        "import librosa\n",
        "from google.colab import files"
      ],
      "metadata": {
        "id": "3rhxdPpWz6f-"
      },
      "execution_count": null,
      "outputs": []
    },
    {
      "cell_type": "markdown",
      "source": [
        "### Read voice clips"
      ],
      "metadata": {
        "id": "SsG67pkd1uT1"
      }
    },
    {
      "cell_type": "code",
      "source": [
        "CUSTOM_VOICE_NAME = \"custom\" #make sure to change to an appropriate name"
      ],
      "metadata": {
        "id": "IMeOug0rFBxO"
      },
      "execution_count": null,
      "outputs": []
    },
    {
      "cell_type": "code",
      "source": [
        "#Make sure the audio file(s) you upload are as clear and crisp as possible\n",
        "#The more you upload and the better quality they are, the closer the mimic will be\n",
        "#Additionally, the files must be in a .wav format\n",
        "\n",
        "custom_voice_folder = f\"tortoise/voices/{CUSTOM_VOICE_NAME}\"\n",
        "os.makedirs(custom_voice_folder)\n",
        "for i, file_data in enumerate(files.upload().values()):\n",
        "  with open(os.path.join(custom_voice_folder, f'{i}.wav'), 'wb') as f:\n",
        "    f.write(file_data)"
      ],
      "metadata": {
        "id": "dhHmh3N71y2K"
      },
      "execution_count": null,
      "outputs": []
    },
    {
      "cell_type": "markdown",
      "source": [
        "### Function"
      ],
      "metadata": {
        "id": "iDX7R4T52g9h"
      }
    },
    {
      "cell_type": "code",
      "source": [
        "import locale\n",
        "print(locale.getpreferredencoding())"
      ],
      "metadata": {
        "id": "2AYBoXdOX8bi"
      },
      "execution_count": null,
      "outputs": []
    },
    {
      "cell_type": "code",
      "source": [
        "import locale\n",
        "def getpreferredencoding(do_setlocale = True):\n",
        "    return \"UTF-8\"\n",
        "locale.getpreferredencoding = getpreferredencoding"
      ],
      "metadata": {
        "id": "bASkz-BQX9n-"
      },
      "execution_count": null,
      "outputs": []
    },
    {
      "cell_type": "code",
      "source": [
        "def TTS(text, for_face=False):\n",
        "\n",
        "  %cd /content/tortoise-tts\n",
        "  voice_samples, conditioning_latents = load_voice(CUSTOM_VOICE_NAME)\n",
        "  gen = tts.tts_with_preset(text, voice_samples=voice_samples, conditioning_latents=conditioning_latents,\n",
        "                            preset=\"high_quality\")\n",
        "  %cd /content\n",
        "  torchaudio.save('captured_voice.wav', gen.squeeze(0).cpu(), 24000)\n",
        "  if(for_face == False):\n",
        "    display(Audio('captured_voice.wav', autoplay=True))\n",
        "    x = librosa.get_duration(filename='captured_voice.wav')\n",
        "    time.sleep(x)\n",
        "  #os.remove(f'generated-{CUSTOM_VOICE_NAME}.wav')"
      ],
      "metadata": {
        "id": "amMiqn124DvQ"
      },
      "execution_count": null,
      "outputs": []
    },
    {
      "cell_type": "code",
      "source": [
        "%cd /content"
      ],
      "metadata": {
        "id": "Bi5YYZeHFR8f"
      },
      "execution_count": null,
      "outputs": []
    },
    {
      "cell_type": "markdown",
      "metadata": {
        "id": "QdDhxP1Kmh_5",
        "jp-MarkdownHeadingCollapsed": true
      },
      "source": [
        "## Google Translate TTS\n",
        "- Doesn't need crazy memory\n",
        "- Fast\n",
        "- Won't be accurate to your character"
      ]
    },
    {
      "cell_type": "markdown",
      "metadata": {
        "id": "gwwGdi7Rmh_5",
        "jp-MarkdownHeadingCollapsed": true
      },
      "source": [
        "### Install and Import"
      ]
    },
    {
      "cell_type": "code",
      "execution_count": null,
      "metadata": {
        "colab": {
          "base_uri": "https://localhost:8080/"
        },
        "id": "tS10ceaomh_5",
        "outputId": "020de6f3-4c4b-435e-fa21-fa3027c2201c"
      },
      "outputs": [
        {
          "output_type": "stream",
          "name": "stdout",
          "text": [
            "Collecting gTTS\n",
            "  Downloading gTTS-2.5.1-py3-none-any.whl (29 kB)\n",
            "Requirement already satisfied: requests<3,>=2.27 in /usr/local/lib/python3.10/dist-packages (from gTTS) (2.31.0)\n",
            "Requirement already satisfied: click<8.2,>=7.1 in /usr/local/lib/python3.10/dist-packages (from gTTS) (8.1.7)\n",
            "Requirement already satisfied: charset-normalizer<4,>=2 in /usr/local/lib/python3.10/dist-packages (from requests<3,>=2.27->gTTS) (3.3.2)\n",
            "Requirement already satisfied: idna<4,>=2.5 in /usr/local/lib/python3.10/dist-packages (from requests<3,>=2.27->gTTS) (3.7)\n",
            "Requirement already satisfied: urllib3<3,>=1.21.1 in /usr/local/lib/python3.10/dist-packages (from requests<3,>=2.27->gTTS) (2.0.7)\n",
            "Requirement already satisfied: certifi>=2017.4.17 in /usr/local/lib/python3.10/dist-packages (from requests<3,>=2.27->gTTS) (2024.2.2)\n",
            "Installing collected packages: gTTS\n",
            "Successfully installed gTTS-2.5.1\n"
          ]
        }
      ],
      "source": [
        "!pip install gTTS"
      ]
    },
    {
      "cell_type": "code",
      "execution_count": null,
      "metadata": {
        "id": "8QrLuexDmh_5"
      },
      "outputs": [],
      "source": [
        "from IPython.display import Audio, display\n",
        "from gtts import gTTS\n",
        "import os\n",
        "import librosa\n",
        "import time"
      ]
    },
    {
      "cell_type": "markdown",
      "metadata": {
        "id": "vQWXwB5nmh_6",
        "jp-MarkdownHeadingCollapsed": true
      },
      "source": [
        "### Main Function"
      ]
    },
    {
      "cell_type": "code",
      "execution_count": null,
      "metadata": {
        "id": "gt2WxC3Nmh_6"
      },
      "outputs": [],
      "source": [
        "def TTS(text, for_face=False):\n",
        "    speak = gTTS(text)\n",
        "    speak.save(\"captured_voice.wav\")\n",
        "    if(for_face == False):\n",
        "      display(Audio('captured_voice.wav', autoplay=True))\n",
        "      x = librosa.get_duration(filename='captured_voice.wav')\n",
        "      time.sleep(x)\n",
        "    #os.remove('captured_voice.wav')"
      ]
    }
  ],
  "metadata": {
    "colab": {
      "collapsed_sections": [
        "HlNMm7efhs72",
        "b6ST_Qzad5Xr",
        "h0U1eyO-rjyG",
        "5TP-n7lP3ABk",
        "eNRWbn2ir__p",
        "PsZITeDGmh_n",
        "59fgj3NM3InZ",
        "7fZclmmb3UaH",
        "dKHhyD3t3WLY",
        "BjfBobaVEmhh",
        "uCE7ldQz4yrP",
        "_Uk_5bUUtVYo",
        "YEhAqgGqtYu_",
        "QJKybmZcmh_p",
        "xbvoYMMcDz1y",
        "yYnFoDPmFdO4",
        "1UuTEfU6QMwm",
        "ZE-KJmTvDuZX",
        "zsW5iF8emh_q",
        "bNjKxx5S73SB",
        "gUI2GwzR9BPM",
        "SRLhwmmR9bmL",
        "1NJyjrLa-S3b",
        "ZXsN9dRL-cMY",
        "txeINe4g_OJ0",
        "iRi6mkzqmh_u",
        "85SCB0YVmh_u",
        "D2eP6nN0mh_v",
        "_igaZDjEDcrv",
        "1svZx6dUmh_x",
        "iAGhFeY0ECvq",
        "ePZDS6fuEINc",
        "_yaNKPDmEU4k",
        "IAIvQLfKmh_0",
        "w8JIdKRpmh_1",
        "psZmJTUpmh_1",
        "op0woz5imh_3",
        "eTLIHjigmh_3",
        "YfFO7DQpzNAO",
        "SsG67pkd1uT1",
        "iDX7R4T52g9h",
        "QdDhxP1Kmh_5",
        "gwwGdi7Rmh_5",
        "vQWXwB5nmh_6"
      ],
      "provenance": []
    },
    "kernelspec": {
      "display_name": "Python 3",
      "name": "python3"
    },
    "language_info": {
      "codemirror_mode": {
        "name": "ipython",
        "version": 3
      },
      "file_extension": ".py",
      "mimetype": "text/x-python",
      "name": "python",
      "nbconvert_exporter": "python",
      "pygments_lexer": "ipython3",
      "version": "3.12.3"
    },
    "widgets": {
      "application/vnd.jupyter.widget-state+json": {
        "7fa2d85f2c6549ae8e58ab1144bc9846": {
          "model_module": "@jupyter-widgets/controls",
          "model_name": "VBoxModel",
          "model_module_version": "1.5.0",
          "state": {
            "_dom_classes": [],
            "_model_module": "@jupyter-widgets/controls",
            "_model_module_version": "1.5.0",
            "_model_name": "VBoxModel",
            "_view_count": null,
            "_view_module": "@jupyter-widgets/controls",
            "_view_module_version": "1.5.0",
            "_view_name": "VBoxView",
            "box_style": "",
            "children": [
              "IPY_MODEL_4f6782b0772047f8abfe695e16645993",
              "IPY_MODEL_8b5996f8e6654a30a030f4c311d9e83a",
              "IPY_MODEL_bb6c686762224eee880f4c3290e06bf6",
              "IPY_MODEL_9772a05256274d2cb57c7c5e4f499760"
            ],
            "layout": "IPY_MODEL_25de0b662ed846d9857686e933c93f5a"
          }
        },
        "6090235fe5c540ab959dcd826f5d5871": {
          "model_module": "@jupyter-widgets/controls",
          "model_name": "HTMLModel",
          "model_module_version": "1.5.0",
          "state": {
            "_dom_classes": [],
            "_model_module": "@jupyter-widgets/controls",
            "_model_module_version": "1.5.0",
            "_model_name": "HTMLModel",
            "_view_count": null,
            "_view_module": "@jupyter-widgets/controls",
            "_view_module_version": "1.5.0",
            "_view_name": "HTMLView",
            "description": "",
            "description_tooltip": null,
            "layout": "IPY_MODEL_d9970f46b9674d4db33b501867143ad0",
            "placeholder": "​",
            "style": "IPY_MODEL_fce0c02cf469445cadd3d7e3a6070a61",
            "value": "<center> <img\nsrc=https://huggingface.co/front/assets/huggingface_logo-noborder.svg\nalt='Hugging Face'> <br> Copy a token from <a\nhref=\"https://huggingface.co/settings/tokens\" target=\"_blank\">your Hugging Face\ntokens page</a> and paste it below. <br> Immediately click login after copying\nyour token or it might be stored in plain text in this notebook file. </center>"
          }
        },
        "9f10f0af35b646b9b0afb868a22c29db": {
          "model_module": "@jupyter-widgets/controls",
          "model_name": "PasswordModel",
          "model_module_version": "1.5.0",
          "state": {
            "_dom_classes": [],
            "_model_module": "@jupyter-widgets/controls",
            "_model_module_version": "1.5.0",
            "_model_name": "PasswordModel",
            "_view_count": null,
            "_view_module": "@jupyter-widgets/controls",
            "_view_module_version": "1.5.0",
            "_view_name": "PasswordView",
            "continuous_update": true,
            "description": "Token:",
            "description_tooltip": null,
            "disabled": false,
            "layout": "IPY_MODEL_18bf6590bc7645f499117f3b14855e67",
            "placeholder": "​",
            "style": "IPY_MODEL_3b9a652a18ab41098ba74a254945078e",
            "value": ""
          }
        },
        "0375a92f7f664b789e3f013b492625fd": {
          "model_module": "@jupyter-widgets/controls",
          "model_name": "CheckboxModel",
          "model_module_version": "1.5.0",
          "state": {
            "_dom_classes": [],
            "_model_module": "@jupyter-widgets/controls",
            "_model_module_version": "1.5.0",
            "_model_name": "CheckboxModel",
            "_view_count": null,
            "_view_module": "@jupyter-widgets/controls",
            "_view_module_version": "1.5.0",
            "_view_name": "CheckboxView",
            "description": "Add token as git credential?",
            "description_tooltip": null,
            "disabled": false,
            "indent": true,
            "layout": "IPY_MODEL_e67f7e4e5d024b6dabe9308f62004faf",
            "style": "IPY_MODEL_81f9a2564d964b54b71cbdd4d23bd504",
            "value": true
          }
        },
        "6bc647d080f840248563de09ed893f6c": {
          "model_module": "@jupyter-widgets/controls",
          "model_name": "ButtonModel",
          "model_module_version": "1.5.0",
          "state": {
            "_dom_classes": [],
            "_model_module": "@jupyter-widgets/controls",
            "_model_module_version": "1.5.0",
            "_model_name": "ButtonModel",
            "_view_count": null,
            "_view_module": "@jupyter-widgets/controls",
            "_view_module_version": "1.5.0",
            "_view_name": "ButtonView",
            "button_style": "",
            "description": "Login",
            "disabled": false,
            "icon": "",
            "layout": "IPY_MODEL_aaea51e0d7804586ba921d07cb1e6f59",
            "style": "IPY_MODEL_94f740daec5d410f8902ef52f9ac992b",
            "tooltip": ""
          }
        },
        "5ab8bf0b870b4d09aceef1a716378ef5": {
          "model_module": "@jupyter-widgets/controls",
          "model_name": "HTMLModel",
          "model_module_version": "1.5.0",
          "state": {
            "_dom_classes": [],
            "_model_module": "@jupyter-widgets/controls",
            "_model_module_version": "1.5.0",
            "_model_name": "HTMLModel",
            "_view_count": null,
            "_view_module": "@jupyter-widgets/controls",
            "_view_module_version": "1.5.0",
            "_view_name": "HTMLView",
            "description": "",
            "description_tooltip": null,
            "layout": "IPY_MODEL_7e22bbbebfd14281850ae8e1f32b61a1",
            "placeholder": "​",
            "style": "IPY_MODEL_633b46aaf5f84d6f86ea048a8bea2c49",
            "value": "\n<b>Pro Tip:</b> If you don't already have one, you can create a dedicated\n'notebooks' token with 'write' access, that you can then easily reuse for all\nnotebooks. </center>"
          }
        },
        "25de0b662ed846d9857686e933c93f5a": {
          "model_module": "@jupyter-widgets/base",
          "model_name": "LayoutModel",
          "model_module_version": "1.2.0",
          "state": {
            "_model_module": "@jupyter-widgets/base",
            "_model_module_version": "1.2.0",
            "_model_name": "LayoutModel",
            "_view_count": null,
            "_view_module": "@jupyter-widgets/base",
            "_view_module_version": "1.2.0",
            "_view_name": "LayoutView",
            "align_content": null,
            "align_items": "center",
            "align_self": null,
            "border": null,
            "bottom": null,
            "display": "flex",
            "flex": null,
            "flex_flow": "column",
            "grid_area": null,
            "grid_auto_columns": null,
            "grid_auto_flow": null,
            "grid_auto_rows": null,
            "grid_column": null,
            "grid_gap": null,
            "grid_row": null,
            "grid_template_areas": null,
            "grid_template_columns": null,
            "grid_template_rows": null,
            "height": null,
            "justify_content": null,
            "justify_items": null,
            "left": null,
            "margin": null,
            "max_height": null,
            "max_width": null,
            "min_height": null,
            "min_width": null,
            "object_fit": null,
            "object_position": null,
            "order": null,
            "overflow": null,
            "overflow_x": null,
            "overflow_y": null,
            "padding": null,
            "right": null,
            "top": null,
            "visibility": null,
            "width": "50%"
          }
        },
        "d9970f46b9674d4db33b501867143ad0": {
          "model_module": "@jupyter-widgets/base",
          "model_name": "LayoutModel",
          "model_module_version": "1.2.0",
          "state": {
            "_model_module": "@jupyter-widgets/base",
            "_model_module_version": "1.2.0",
            "_model_name": "LayoutModel",
            "_view_count": null,
            "_view_module": "@jupyter-widgets/base",
            "_view_module_version": "1.2.0",
            "_view_name": "LayoutView",
            "align_content": null,
            "align_items": null,
            "align_self": null,
            "border": null,
            "bottom": null,
            "display": null,
            "flex": null,
            "flex_flow": null,
            "grid_area": null,
            "grid_auto_columns": null,
            "grid_auto_flow": null,
            "grid_auto_rows": null,
            "grid_column": null,
            "grid_gap": null,
            "grid_row": null,
            "grid_template_areas": null,
            "grid_template_columns": null,
            "grid_template_rows": null,
            "height": null,
            "justify_content": null,
            "justify_items": null,
            "left": null,
            "margin": null,
            "max_height": null,
            "max_width": null,
            "min_height": null,
            "min_width": null,
            "object_fit": null,
            "object_position": null,
            "order": null,
            "overflow": null,
            "overflow_x": null,
            "overflow_y": null,
            "padding": null,
            "right": null,
            "top": null,
            "visibility": null,
            "width": null
          }
        },
        "fce0c02cf469445cadd3d7e3a6070a61": {
          "model_module": "@jupyter-widgets/controls",
          "model_name": "DescriptionStyleModel",
          "model_module_version": "1.5.0",
          "state": {
            "_model_module": "@jupyter-widgets/controls",
            "_model_module_version": "1.5.0",
            "_model_name": "DescriptionStyleModel",
            "_view_count": null,
            "_view_module": "@jupyter-widgets/base",
            "_view_module_version": "1.2.0",
            "_view_name": "StyleView",
            "description_width": ""
          }
        },
        "18bf6590bc7645f499117f3b14855e67": {
          "model_module": "@jupyter-widgets/base",
          "model_name": "LayoutModel",
          "model_module_version": "1.2.0",
          "state": {
            "_model_module": "@jupyter-widgets/base",
            "_model_module_version": "1.2.0",
            "_model_name": "LayoutModel",
            "_view_count": null,
            "_view_module": "@jupyter-widgets/base",
            "_view_module_version": "1.2.0",
            "_view_name": "LayoutView",
            "align_content": null,
            "align_items": null,
            "align_self": null,
            "border": null,
            "bottom": null,
            "display": null,
            "flex": null,
            "flex_flow": null,
            "grid_area": null,
            "grid_auto_columns": null,
            "grid_auto_flow": null,
            "grid_auto_rows": null,
            "grid_column": null,
            "grid_gap": null,
            "grid_row": null,
            "grid_template_areas": null,
            "grid_template_columns": null,
            "grid_template_rows": null,
            "height": null,
            "justify_content": null,
            "justify_items": null,
            "left": null,
            "margin": null,
            "max_height": null,
            "max_width": null,
            "min_height": null,
            "min_width": null,
            "object_fit": null,
            "object_position": null,
            "order": null,
            "overflow": null,
            "overflow_x": null,
            "overflow_y": null,
            "padding": null,
            "right": null,
            "top": null,
            "visibility": null,
            "width": null
          }
        },
        "3b9a652a18ab41098ba74a254945078e": {
          "model_module": "@jupyter-widgets/controls",
          "model_name": "DescriptionStyleModel",
          "model_module_version": "1.5.0",
          "state": {
            "_model_module": "@jupyter-widgets/controls",
            "_model_module_version": "1.5.0",
            "_model_name": "DescriptionStyleModel",
            "_view_count": null,
            "_view_module": "@jupyter-widgets/base",
            "_view_module_version": "1.2.0",
            "_view_name": "StyleView",
            "description_width": ""
          }
        },
        "e67f7e4e5d024b6dabe9308f62004faf": {
          "model_module": "@jupyter-widgets/base",
          "model_name": "LayoutModel",
          "model_module_version": "1.2.0",
          "state": {
            "_model_module": "@jupyter-widgets/base",
            "_model_module_version": "1.2.0",
            "_model_name": "LayoutModel",
            "_view_count": null,
            "_view_module": "@jupyter-widgets/base",
            "_view_module_version": "1.2.0",
            "_view_name": "LayoutView",
            "align_content": null,
            "align_items": null,
            "align_self": null,
            "border": null,
            "bottom": null,
            "display": null,
            "flex": null,
            "flex_flow": null,
            "grid_area": null,
            "grid_auto_columns": null,
            "grid_auto_flow": null,
            "grid_auto_rows": null,
            "grid_column": null,
            "grid_gap": null,
            "grid_row": null,
            "grid_template_areas": null,
            "grid_template_columns": null,
            "grid_template_rows": null,
            "height": null,
            "justify_content": null,
            "justify_items": null,
            "left": null,
            "margin": null,
            "max_height": null,
            "max_width": null,
            "min_height": null,
            "min_width": null,
            "object_fit": null,
            "object_position": null,
            "order": null,
            "overflow": null,
            "overflow_x": null,
            "overflow_y": null,
            "padding": null,
            "right": null,
            "top": null,
            "visibility": null,
            "width": null
          }
        },
        "81f9a2564d964b54b71cbdd4d23bd504": {
          "model_module": "@jupyter-widgets/controls",
          "model_name": "DescriptionStyleModel",
          "model_module_version": "1.5.0",
          "state": {
            "_model_module": "@jupyter-widgets/controls",
            "_model_module_version": "1.5.0",
            "_model_name": "DescriptionStyleModel",
            "_view_count": null,
            "_view_module": "@jupyter-widgets/base",
            "_view_module_version": "1.2.0",
            "_view_name": "StyleView",
            "description_width": ""
          }
        },
        "aaea51e0d7804586ba921d07cb1e6f59": {
          "model_module": "@jupyter-widgets/base",
          "model_name": "LayoutModel",
          "model_module_version": "1.2.0",
          "state": {
            "_model_module": "@jupyter-widgets/base",
            "_model_module_version": "1.2.0",
            "_model_name": "LayoutModel",
            "_view_count": null,
            "_view_module": "@jupyter-widgets/base",
            "_view_module_version": "1.2.0",
            "_view_name": "LayoutView",
            "align_content": null,
            "align_items": null,
            "align_self": null,
            "border": null,
            "bottom": null,
            "display": null,
            "flex": null,
            "flex_flow": null,
            "grid_area": null,
            "grid_auto_columns": null,
            "grid_auto_flow": null,
            "grid_auto_rows": null,
            "grid_column": null,
            "grid_gap": null,
            "grid_row": null,
            "grid_template_areas": null,
            "grid_template_columns": null,
            "grid_template_rows": null,
            "height": null,
            "justify_content": null,
            "justify_items": null,
            "left": null,
            "margin": null,
            "max_height": null,
            "max_width": null,
            "min_height": null,
            "min_width": null,
            "object_fit": null,
            "object_position": null,
            "order": null,
            "overflow": null,
            "overflow_x": null,
            "overflow_y": null,
            "padding": null,
            "right": null,
            "top": null,
            "visibility": null,
            "width": null
          }
        },
        "94f740daec5d410f8902ef52f9ac992b": {
          "model_module": "@jupyter-widgets/controls",
          "model_name": "ButtonStyleModel",
          "model_module_version": "1.5.0",
          "state": {
            "_model_module": "@jupyter-widgets/controls",
            "_model_module_version": "1.5.0",
            "_model_name": "ButtonStyleModel",
            "_view_count": null,
            "_view_module": "@jupyter-widgets/base",
            "_view_module_version": "1.2.0",
            "_view_name": "StyleView",
            "button_color": null,
            "font_weight": ""
          }
        },
        "7e22bbbebfd14281850ae8e1f32b61a1": {
          "model_module": "@jupyter-widgets/base",
          "model_name": "LayoutModel",
          "model_module_version": "1.2.0",
          "state": {
            "_model_module": "@jupyter-widgets/base",
            "_model_module_version": "1.2.0",
            "_model_name": "LayoutModel",
            "_view_count": null,
            "_view_module": "@jupyter-widgets/base",
            "_view_module_version": "1.2.0",
            "_view_name": "LayoutView",
            "align_content": null,
            "align_items": null,
            "align_self": null,
            "border": null,
            "bottom": null,
            "display": null,
            "flex": null,
            "flex_flow": null,
            "grid_area": null,
            "grid_auto_columns": null,
            "grid_auto_flow": null,
            "grid_auto_rows": null,
            "grid_column": null,
            "grid_gap": null,
            "grid_row": null,
            "grid_template_areas": null,
            "grid_template_columns": null,
            "grid_template_rows": null,
            "height": null,
            "justify_content": null,
            "justify_items": null,
            "left": null,
            "margin": null,
            "max_height": null,
            "max_width": null,
            "min_height": null,
            "min_width": null,
            "object_fit": null,
            "object_position": null,
            "order": null,
            "overflow": null,
            "overflow_x": null,
            "overflow_y": null,
            "padding": null,
            "right": null,
            "top": null,
            "visibility": null,
            "width": null
          }
        },
        "633b46aaf5f84d6f86ea048a8bea2c49": {
          "model_module": "@jupyter-widgets/controls",
          "model_name": "DescriptionStyleModel",
          "model_module_version": "1.5.0",
          "state": {
            "_model_module": "@jupyter-widgets/controls",
            "_model_module_version": "1.5.0",
            "_model_name": "DescriptionStyleModel",
            "_view_count": null,
            "_view_module": "@jupyter-widgets/base",
            "_view_module_version": "1.2.0",
            "_view_name": "StyleView",
            "description_width": ""
          }
        },
        "c234c09e79104db3bc312079be2875f5": {
          "model_module": "@jupyter-widgets/controls",
          "model_name": "LabelModel",
          "model_module_version": "1.5.0",
          "state": {
            "_dom_classes": [],
            "_model_module": "@jupyter-widgets/controls",
            "_model_module_version": "1.5.0",
            "_model_name": "LabelModel",
            "_view_count": null,
            "_view_module": "@jupyter-widgets/controls",
            "_view_module_version": "1.5.0",
            "_view_name": "LabelView",
            "description": "",
            "description_tooltip": null,
            "layout": "IPY_MODEL_de093e5b874b45b39e14329b1e7879da",
            "placeholder": "​",
            "style": "IPY_MODEL_df45a1504d3f49c8a9e2adccd8e2e294",
            "value": "Connecting..."
          }
        },
        "de093e5b874b45b39e14329b1e7879da": {
          "model_module": "@jupyter-widgets/base",
          "model_name": "LayoutModel",
          "model_module_version": "1.2.0",
          "state": {
            "_model_module": "@jupyter-widgets/base",
            "_model_module_version": "1.2.0",
            "_model_name": "LayoutModel",
            "_view_count": null,
            "_view_module": "@jupyter-widgets/base",
            "_view_module_version": "1.2.0",
            "_view_name": "LayoutView",
            "align_content": null,
            "align_items": null,
            "align_self": null,
            "border": null,
            "bottom": null,
            "display": null,
            "flex": null,
            "flex_flow": null,
            "grid_area": null,
            "grid_auto_columns": null,
            "grid_auto_flow": null,
            "grid_auto_rows": null,
            "grid_column": null,
            "grid_gap": null,
            "grid_row": null,
            "grid_template_areas": null,
            "grid_template_columns": null,
            "grid_template_rows": null,
            "height": null,
            "justify_content": null,
            "justify_items": null,
            "left": null,
            "margin": null,
            "max_height": null,
            "max_width": null,
            "min_height": null,
            "min_width": null,
            "object_fit": null,
            "object_position": null,
            "order": null,
            "overflow": null,
            "overflow_x": null,
            "overflow_y": null,
            "padding": null,
            "right": null,
            "top": null,
            "visibility": null,
            "width": null
          }
        },
        "df45a1504d3f49c8a9e2adccd8e2e294": {
          "model_module": "@jupyter-widgets/controls",
          "model_name": "DescriptionStyleModel",
          "model_module_version": "1.5.0",
          "state": {
            "_model_module": "@jupyter-widgets/controls",
            "_model_module_version": "1.5.0",
            "_model_name": "DescriptionStyleModel",
            "_view_count": null,
            "_view_module": "@jupyter-widgets/base",
            "_view_module_version": "1.2.0",
            "_view_name": "StyleView",
            "description_width": ""
          }
        },
        "4f6782b0772047f8abfe695e16645993": {
          "model_module": "@jupyter-widgets/controls",
          "model_name": "LabelModel",
          "model_module_version": "1.5.0",
          "state": {
            "_dom_classes": [],
            "_model_module": "@jupyter-widgets/controls",
            "_model_module_version": "1.5.0",
            "_model_name": "LabelModel",
            "_view_count": null,
            "_view_module": "@jupyter-widgets/controls",
            "_view_module_version": "1.5.0",
            "_view_name": "LabelView",
            "description": "",
            "description_tooltip": null,
            "layout": "IPY_MODEL_e2d47954e7924ad0af18d6e7e4d3a46b",
            "placeholder": "​",
            "style": "IPY_MODEL_2d785828e4dd439ea929e40476c7a7d3",
            "value": "Token is valid (permission: write)."
          }
        },
        "8b5996f8e6654a30a030f4c311d9e83a": {
          "model_module": "@jupyter-widgets/controls",
          "model_name": "LabelModel",
          "model_module_version": "1.5.0",
          "state": {
            "_dom_classes": [],
            "_model_module": "@jupyter-widgets/controls",
            "_model_module_version": "1.5.0",
            "_model_name": "LabelModel",
            "_view_count": null,
            "_view_module": "@jupyter-widgets/controls",
            "_view_module_version": "1.5.0",
            "_view_name": "LabelView",
            "description": "",
            "description_tooltip": null,
            "layout": "IPY_MODEL_b6bf20cf3fd042d0b72ca1dd1b2eef24",
            "placeholder": "​",
            "style": "IPY_MODEL_bd944c9058fe43ce8a671e21046f59dd",
            "value": "Your token has been saved in your configured git credential helpers (store)."
          }
        },
        "bb6c686762224eee880f4c3290e06bf6": {
          "model_module": "@jupyter-widgets/controls",
          "model_name": "LabelModel",
          "model_module_version": "1.5.0",
          "state": {
            "_dom_classes": [],
            "_model_module": "@jupyter-widgets/controls",
            "_model_module_version": "1.5.0",
            "_model_name": "LabelModel",
            "_view_count": null,
            "_view_module": "@jupyter-widgets/controls",
            "_view_module_version": "1.5.0",
            "_view_name": "LabelView",
            "description": "",
            "description_tooltip": null,
            "layout": "IPY_MODEL_80ac20f2ac65437eb220e6ec746b8605",
            "placeholder": "​",
            "style": "IPY_MODEL_95cb3153438a486aaa094d6c25a4ed4e",
            "value": "Your token has been saved to /root/.cache/huggingface/token"
          }
        },
        "9772a05256274d2cb57c7c5e4f499760": {
          "model_module": "@jupyter-widgets/controls",
          "model_name": "LabelModel",
          "model_module_version": "1.5.0",
          "state": {
            "_dom_classes": [],
            "_model_module": "@jupyter-widgets/controls",
            "_model_module_version": "1.5.0",
            "_model_name": "LabelModel",
            "_view_count": null,
            "_view_module": "@jupyter-widgets/controls",
            "_view_module_version": "1.5.0",
            "_view_name": "LabelView",
            "description": "",
            "description_tooltip": null,
            "layout": "IPY_MODEL_17f3e101d9b9479090a9807660de40ce",
            "placeholder": "​",
            "style": "IPY_MODEL_1eddc36dc6fb4c428b24b95afcc7df4a",
            "value": "Login successful"
          }
        },
        "e2d47954e7924ad0af18d6e7e4d3a46b": {
          "model_module": "@jupyter-widgets/base",
          "model_name": "LayoutModel",
          "model_module_version": "1.2.0",
          "state": {
            "_model_module": "@jupyter-widgets/base",
            "_model_module_version": "1.2.0",
            "_model_name": "LayoutModel",
            "_view_count": null,
            "_view_module": "@jupyter-widgets/base",
            "_view_module_version": "1.2.0",
            "_view_name": "LayoutView",
            "align_content": null,
            "align_items": null,
            "align_self": null,
            "border": null,
            "bottom": null,
            "display": null,
            "flex": null,
            "flex_flow": null,
            "grid_area": null,
            "grid_auto_columns": null,
            "grid_auto_flow": null,
            "grid_auto_rows": null,
            "grid_column": null,
            "grid_gap": null,
            "grid_row": null,
            "grid_template_areas": null,
            "grid_template_columns": null,
            "grid_template_rows": null,
            "height": null,
            "justify_content": null,
            "justify_items": null,
            "left": null,
            "margin": null,
            "max_height": null,
            "max_width": null,
            "min_height": null,
            "min_width": null,
            "object_fit": null,
            "object_position": null,
            "order": null,
            "overflow": null,
            "overflow_x": null,
            "overflow_y": null,
            "padding": null,
            "right": null,
            "top": null,
            "visibility": null,
            "width": null
          }
        },
        "2d785828e4dd439ea929e40476c7a7d3": {
          "model_module": "@jupyter-widgets/controls",
          "model_name": "DescriptionStyleModel",
          "model_module_version": "1.5.0",
          "state": {
            "_model_module": "@jupyter-widgets/controls",
            "_model_module_version": "1.5.0",
            "_model_name": "DescriptionStyleModel",
            "_view_count": null,
            "_view_module": "@jupyter-widgets/base",
            "_view_module_version": "1.2.0",
            "_view_name": "StyleView",
            "description_width": ""
          }
        },
        "b6bf20cf3fd042d0b72ca1dd1b2eef24": {
          "model_module": "@jupyter-widgets/base",
          "model_name": "LayoutModel",
          "model_module_version": "1.2.0",
          "state": {
            "_model_module": "@jupyter-widgets/base",
            "_model_module_version": "1.2.0",
            "_model_name": "LayoutModel",
            "_view_count": null,
            "_view_module": "@jupyter-widgets/base",
            "_view_module_version": "1.2.0",
            "_view_name": "LayoutView",
            "align_content": null,
            "align_items": null,
            "align_self": null,
            "border": null,
            "bottom": null,
            "display": null,
            "flex": null,
            "flex_flow": null,
            "grid_area": null,
            "grid_auto_columns": null,
            "grid_auto_flow": null,
            "grid_auto_rows": null,
            "grid_column": null,
            "grid_gap": null,
            "grid_row": null,
            "grid_template_areas": null,
            "grid_template_columns": null,
            "grid_template_rows": null,
            "height": null,
            "justify_content": null,
            "justify_items": null,
            "left": null,
            "margin": null,
            "max_height": null,
            "max_width": null,
            "min_height": null,
            "min_width": null,
            "object_fit": null,
            "object_position": null,
            "order": null,
            "overflow": null,
            "overflow_x": null,
            "overflow_y": null,
            "padding": null,
            "right": null,
            "top": null,
            "visibility": null,
            "width": null
          }
        },
        "bd944c9058fe43ce8a671e21046f59dd": {
          "model_module": "@jupyter-widgets/controls",
          "model_name": "DescriptionStyleModel",
          "model_module_version": "1.5.0",
          "state": {
            "_model_module": "@jupyter-widgets/controls",
            "_model_module_version": "1.5.0",
            "_model_name": "DescriptionStyleModel",
            "_view_count": null,
            "_view_module": "@jupyter-widgets/base",
            "_view_module_version": "1.2.0",
            "_view_name": "StyleView",
            "description_width": ""
          }
        },
        "80ac20f2ac65437eb220e6ec746b8605": {
          "model_module": "@jupyter-widgets/base",
          "model_name": "LayoutModel",
          "model_module_version": "1.2.0",
          "state": {
            "_model_module": "@jupyter-widgets/base",
            "_model_module_version": "1.2.0",
            "_model_name": "LayoutModel",
            "_view_count": null,
            "_view_module": "@jupyter-widgets/base",
            "_view_module_version": "1.2.0",
            "_view_name": "LayoutView",
            "align_content": null,
            "align_items": null,
            "align_self": null,
            "border": null,
            "bottom": null,
            "display": null,
            "flex": null,
            "flex_flow": null,
            "grid_area": null,
            "grid_auto_columns": null,
            "grid_auto_flow": null,
            "grid_auto_rows": null,
            "grid_column": null,
            "grid_gap": null,
            "grid_row": null,
            "grid_template_areas": null,
            "grid_template_columns": null,
            "grid_template_rows": null,
            "height": null,
            "justify_content": null,
            "justify_items": null,
            "left": null,
            "margin": null,
            "max_height": null,
            "max_width": null,
            "min_height": null,
            "min_width": null,
            "object_fit": null,
            "object_position": null,
            "order": null,
            "overflow": null,
            "overflow_x": null,
            "overflow_y": null,
            "padding": null,
            "right": null,
            "top": null,
            "visibility": null,
            "width": null
          }
        },
        "95cb3153438a486aaa094d6c25a4ed4e": {
          "model_module": "@jupyter-widgets/controls",
          "model_name": "DescriptionStyleModel",
          "model_module_version": "1.5.0",
          "state": {
            "_model_module": "@jupyter-widgets/controls",
            "_model_module_version": "1.5.0",
            "_model_name": "DescriptionStyleModel",
            "_view_count": null,
            "_view_module": "@jupyter-widgets/base",
            "_view_module_version": "1.2.0",
            "_view_name": "StyleView",
            "description_width": ""
          }
        },
        "17f3e101d9b9479090a9807660de40ce": {
          "model_module": "@jupyter-widgets/base",
          "model_name": "LayoutModel",
          "model_module_version": "1.2.0",
          "state": {
            "_model_module": "@jupyter-widgets/base",
            "_model_module_version": "1.2.0",
            "_model_name": "LayoutModel",
            "_view_count": null,
            "_view_module": "@jupyter-widgets/base",
            "_view_module_version": "1.2.0",
            "_view_name": "LayoutView",
            "align_content": null,
            "align_items": null,
            "align_self": null,
            "border": null,
            "bottom": null,
            "display": null,
            "flex": null,
            "flex_flow": null,
            "grid_area": null,
            "grid_auto_columns": null,
            "grid_auto_flow": null,
            "grid_auto_rows": null,
            "grid_column": null,
            "grid_gap": null,
            "grid_row": null,
            "grid_template_areas": null,
            "grid_template_columns": null,
            "grid_template_rows": null,
            "height": null,
            "justify_content": null,
            "justify_items": null,
            "left": null,
            "margin": null,
            "max_height": null,
            "max_width": null,
            "min_height": null,
            "min_width": null,
            "object_fit": null,
            "object_position": null,
            "order": null,
            "overflow": null,
            "overflow_x": null,
            "overflow_y": null,
            "padding": null,
            "right": null,
            "top": null,
            "visibility": null,
            "width": null
          }
        },
        "1eddc36dc6fb4c428b24b95afcc7df4a": {
          "model_module": "@jupyter-widgets/controls",
          "model_name": "DescriptionStyleModel",
          "model_module_version": "1.5.0",
          "state": {
            "_model_module": "@jupyter-widgets/controls",
            "_model_module_version": "1.5.0",
            "_model_name": "DescriptionStyleModel",
            "_view_count": null,
            "_view_module": "@jupyter-widgets/base",
            "_view_module_version": "1.2.0",
            "_view_name": "StyleView",
            "description_width": ""
          }
        },
        "8aa62f16938b4591bf2ad5ba60c4d8fd": {
          "model_module": "@jupyter-widgets/controls",
          "model_name": "HBoxModel",
          "model_module_version": "1.5.0",
          "state": {
            "_dom_classes": [],
            "_model_module": "@jupyter-widgets/controls",
            "_model_module_version": "1.5.0",
            "_model_name": "HBoxModel",
            "_view_count": null,
            "_view_module": "@jupyter-widgets/controls",
            "_view_module_version": "1.5.0",
            "_view_name": "HBoxView",
            "box_style": "",
            "children": [
              "IPY_MODEL_99fd498bb07f41eb8ffa8e59c21ba3ff",
              "IPY_MODEL_9a09141357eb41309ba0d65f77c9dbb9",
              "IPY_MODEL_13b81ca8911143d08761d5477ea9d3a5"
            ],
            "layout": "IPY_MODEL_d4407963f198435d892cbc6b764f7ac8"
          }
        },
        "99fd498bb07f41eb8ffa8e59c21ba3ff": {
          "model_module": "@jupyter-widgets/controls",
          "model_name": "HTMLModel",
          "model_module_version": "1.5.0",
          "state": {
            "_dom_classes": [],
            "_model_module": "@jupyter-widgets/controls",
            "_model_module_version": "1.5.0",
            "_model_name": "HTMLModel",
            "_view_count": null,
            "_view_module": "@jupyter-widgets/controls",
            "_view_module_version": "1.5.0",
            "_view_name": "HTMLView",
            "description": "",
            "description_tooltip": null,
            "layout": "IPY_MODEL_16de37d5f89e43198041877988ac5365",
            "placeholder": "​",
            "style": "IPY_MODEL_3ff2fb6c696b41b2a76cf427e7537312",
            "value": "adapter_config.json: 100%"
          }
        },
        "9a09141357eb41309ba0d65f77c9dbb9": {
          "model_module": "@jupyter-widgets/controls",
          "model_name": "FloatProgressModel",
          "model_module_version": "1.5.0",
          "state": {
            "_dom_classes": [],
            "_model_module": "@jupyter-widgets/controls",
            "_model_module_version": "1.5.0",
            "_model_name": "FloatProgressModel",
            "_view_count": null,
            "_view_module": "@jupyter-widgets/controls",
            "_view_module_version": "1.5.0",
            "_view_name": "ProgressView",
            "bar_style": "success",
            "description": "",
            "description_tooltip": null,
            "layout": "IPY_MODEL_39315546f9b6465aab9bbc177f95abaf",
            "max": 410,
            "min": 0,
            "orientation": "horizontal",
            "style": "IPY_MODEL_080cebcef51f45e3ae640505db227db7",
            "value": 410
          }
        },
        "13b81ca8911143d08761d5477ea9d3a5": {
          "model_module": "@jupyter-widgets/controls",
          "model_name": "HTMLModel",
          "model_module_version": "1.5.0",
          "state": {
            "_dom_classes": [],
            "_model_module": "@jupyter-widgets/controls",
            "_model_module_version": "1.5.0",
            "_model_name": "HTMLModel",
            "_view_count": null,
            "_view_module": "@jupyter-widgets/controls",
            "_view_module_version": "1.5.0",
            "_view_name": "HTMLView",
            "description": "",
            "description_tooltip": null,
            "layout": "IPY_MODEL_fa69453b38114764aed4377f1effb1e9",
            "placeholder": "​",
            "style": "IPY_MODEL_2b9bbfb3c57b41359bbb43529863e9b3",
            "value": " 410/410 [00:00&lt;00:00, 28.4kB/s]"
          }
        },
        "d4407963f198435d892cbc6b764f7ac8": {
          "model_module": "@jupyter-widgets/base",
          "model_name": "LayoutModel",
          "model_module_version": "1.2.0",
          "state": {
            "_model_module": "@jupyter-widgets/base",
            "_model_module_version": "1.2.0",
            "_model_name": "LayoutModel",
            "_view_count": null,
            "_view_module": "@jupyter-widgets/base",
            "_view_module_version": "1.2.0",
            "_view_name": "LayoutView",
            "align_content": null,
            "align_items": null,
            "align_self": null,
            "border": null,
            "bottom": null,
            "display": null,
            "flex": null,
            "flex_flow": null,
            "grid_area": null,
            "grid_auto_columns": null,
            "grid_auto_flow": null,
            "grid_auto_rows": null,
            "grid_column": null,
            "grid_gap": null,
            "grid_row": null,
            "grid_template_areas": null,
            "grid_template_columns": null,
            "grid_template_rows": null,
            "height": null,
            "justify_content": null,
            "justify_items": null,
            "left": null,
            "margin": null,
            "max_height": null,
            "max_width": null,
            "min_height": null,
            "min_width": null,
            "object_fit": null,
            "object_position": null,
            "order": null,
            "overflow": null,
            "overflow_x": null,
            "overflow_y": null,
            "padding": null,
            "right": null,
            "top": null,
            "visibility": null,
            "width": null
          }
        },
        "16de37d5f89e43198041877988ac5365": {
          "model_module": "@jupyter-widgets/base",
          "model_name": "LayoutModel",
          "model_module_version": "1.2.0",
          "state": {
            "_model_module": "@jupyter-widgets/base",
            "_model_module_version": "1.2.0",
            "_model_name": "LayoutModel",
            "_view_count": null,
            "_view_module": "@jupyter-widgets/base",
            "_view_module_version": "1.2.0",
            "_view_name": "LayoutView",
            "align_content": null,
            "align_items": null,
            "align_self": null,
            "border": null,
            "bottom": null,
            "display": null,
            "flex": null,
            "flex_flow": null,
            "grid_area": null,
            "grid_auto_columns": null,
            "grid_auto_flow": null,
            "grid_auto_rows": null,
            "grid_column": null,
            "grid_gap": null,
            "grid_row": null,
            "grid_template_areas": null,
            "grid_template_columns": null,
            "grid_template_rows": null,
            "height": null,
            "justify_content": null,
            "justify_items": null,
            "left": null,
            "margin": null,
            "max_height": null,
            "max_width": null,
            "min_height": null,
            "min_width": null,
            "object_fit": null,
            "object_position": null,
            "order": null,
            "overflow": null,
            "overflow_x": null,
            "overflow_y": null,
            "padding": null,
            "right": null,
            "top": null,
            "visibility": null,
            "width": null
          }
        },
        "3ff2fb6c696b41b2a76cf427e7537312": {
          "model_module": "@jupyter-widgets/controls",
          "model_name": "DescriptionStyleModel",
          "model_module_version": "1.5.0",
          "state": {
            "_model_module": "@jupyter-widgets/controls",
            "_model_module_version": "1.5.0",
            "_model_name": "DescriptionStyleModel",
            "_view_count": null,
            "_view_module": "@jupyter-widgets/base",
            "_view_module_version": "1.2.0",
            "_view_name": "StyleView",
            "description_width": ""
          }
        },
        "39315546f9b6465aab9bbc177f95abaf": {
          "model_module": "@jupyter-widgets/base",
          "model_name": "LayoutModel",
          "model_module_version": "1.2.0",
          "state": {
            "_model_module": "@jupyter-widgets/base",
            "_model_module_version": "1.2.0",
            "_model_name": "LayoutModel",
            "_view_count": null,
            "_view_module": "@jupyter-widgets/base",
            "_view_module_version": "1.2.0",
            "_view_name": "LayoutView",
            "align_content": null,
            "align_items": null,
            "align_self": null,
            "border": null,
            "bottom": null,
            "display": null,
            "flex": null,
            "flex_flow": null,
            "grid_area": null,
            "grid_auto_columns": null,
            "grid_auto_flow": null,
            "grid_auto_rows": null,
            "grid_column": null,
            "grid_gap": null,
            "grid_row": null,
            "grid_template_areas": null,
            "grid_template_columns": null,
            "grid_template_rows": null,
            "height": null,
            "justify_content": null,
            "justify_items": null,
            "left": null,
            "margin": null,
            "max_height": null,
            "max_width": null,
            "min_height": null,
            "min_width": null,
            "object_fit": null,
            "object_position": null,
            "order": null,
            "overflow": null,
            "overflow_x": null,
            "overflow_y": null,
            "padding": null,
            "right": null,
            "top": null,
            "visibility": null,
            "width": null
          }
        },
        "080cebcef51f45e3ae640505db227db7": {
          "model_module": "@jupyter-widgets/controls",
          "model_name": "ProgressStyleModel",
          "model_module_version": "1.5.0",
          "state": {
            "_model_module": "@jupyter-widgets/controls",
            "_model_module_version": "1.5.0",
            "_model_name": "ProgressStyleModel",
            "_view_count": null,
            "_view_module": "@jupyter-widgets/base",
            "_view_module_version": "1.2.0",
            "_view_name": "StyleView",
            "bar_color": null,
            "description_width": ""
          }
        },
        "fa69453b38114764aed4377f1effb1e9": {
          "model_module": "@jupyter-widgets/base",
          "model_name": "LayoutModel",
          "model_module_version": "1.2.0",
          "state": {
            "_model_module": "@jupyter-widgets/base",
            "_model_module_version": "1.2.0",
            "_model_name": "LayoutModel",
            "_view_count": null,
            "_view_module": "@jupyter-widgets/base",
            "_view_module_version": "1.2.0",
            "_view_name": "LayoutView",
            "align_content": null,
            "align_items": null,
            "align_self": null,
            "border": null,
            "bottom": null,
            "display": null,
            "flex": null,
            "flex_flow": null,
            "grid_area": null,
            "grid_auto_columns": null,
            "grid_auto_flow": null,
            "grid_auto_rows": null,
            "grid_column": null,
            "grid_gap": null,
            "grid_row": null,
            "grid_template_areas": null,
            "grid_template_columns": null,
            "grid_template_rows": null,
            "height": null,
            "justify_content": null,
            "justify_items": null,
            "left": null,
            "margin": null,
            "max_height": null,
            "max_width": null,
            "min_height": null,
            "min_width": null,
            "object_fit": null,
            "object_position": null,
            "order": null,
            "overflow": null,
            "overflow_x": null,
            "overflow_y": null,
            "padding": null,
            "right": null,
            "top": null,
            "visibility": null,
            "width": null
          }
        },
        "2b9bbfb3c57b41359bbb43529863e9b3": {
          "model_module": "@jupyter-widgets/controls",
          "model_name": "DescriptionStyleModel",
          "model_module_version": "1.5.0",
          "state": {
            "_model_module": "@jupyter-widgets/controls",
            "_model_module_version": "1.5.0",
            "_model_name": "DescriptionStyleModel",
            "_view_count": null,
            "_view_module": "@jupyter-widgets/base",
            "_view_module_version": "1.2.0",
            "_view_name": "StyleView",
            "description_width": ""
          }
        },
        "4a987ffd8ea04887a83269a7a0134006": {
          "model_module": "@jupyter-widgets/controls",
          "model_name": "HBoxModel",
          "model_module_version": "1.5.0",
          "state": {
            "_dom_classes": [],
            "_model_module": "@jupyter-widgets/controls",
            "_model_module_version": "1.5.0",
            "_model_name": "HBoxModel",
            "_view_count": null,
            "_view_module": "@jupyter-widgets/controls",
            "_view_module_version": "1.5.0",
            "_view_name": "HBoxView",
            "box_style": "",
            "children": [
              "IPY_MODEL_c9d4433122bf462d9c292d5ba61fd67d",
              "IPY_MODEL_44bdc6cbe28d4fe4848e2338384a5ff3",
              "IPY_MODEL_ea85e0faba124385b9823f1813cecda6"
            ],
            "layout": "IPY_MODEL_c9ac32b9f97d43679b594a998925fd54"
          }
        },
        "c9d4433122bf462d9c292d5ba61fd67d": {
          "model_module": "@jupyter-widgets/controls",
          "model_name": "HTMLModel",
          "model_module_version": "1.5.0",
          "state": {
            "_dom_classes": [],
            "_model_module": "@jupyter-widgets/controls",
            "_model_module_version": "1.5.0",
            "_model_name": "HTMLModel",
            "_view_count": null,
            "_view_module": "@jupyter-widgets/controls",
            "_view_module_version": "1.5.0",
            "_view_name": "HTMLView",
            "description": "",
            "description_tooltip": null,
            "layout": "IPY_MODEL_e1587853420d4f2f99b71a2e3a305f31",
            "placeholder": "​",
            "style": "IPY_MODEL_f09faa9020a64ef9830f93c101dd3bb2",
            "value": "config.json: 100%"
          }
        },
        "44bdc6cbe28d4fe4848e2338384a5ff3": {
          "model_module": "@jupyter-widgets/controls",
          "model_name": "FloatProgressModel",
          "model_module_version": "1.5.0",
          "state": {
            "_dom_classes": [],
            "_model_module": "@jupyter-widgets/controls",
            "_model_module_version": "1.5.0",
            "_model_name": "FloatProgressModel",
            "_view_count": null,
            "_view_module": "@jupyter-widgets/controls",
            "_view_module_version": "1.5.0",
            "_view_name": "ProgressView",
            "bar_style": "success",
            "description": "",
            "description_tooltip": null,
            "layout": "IPY_MODEL_bf53e5fb8fcb442fbf5111bab92d4ba8",
            "max": 1048,
            "min": 0,
            "orientation": "horizontal",
            "style": "IPY_MODEL_562b8182cbda4478b185f2cea70afa43",
            "value": 1048
          }
        },
        "ea85e0faba124385b9823f1813cecda6": {
          "model_module": "@jupyter-widgets/controls",
          "model_name": "HTMLModel",
          "model_module_version": "1.5.0",
          "state": {
            "_dom_classes": [],
            "_model_module": "@jupyter-widgets/controls",
            "_model_module_version": "1.5.0",
            "_model_name": "HTMLModel",
            "_view_count": null,
            "_view_module": "@jupyter-widgets/controls",
            "_view_module_version": "1.5.0",
            "_view_name": "HTMLView",
            "description": "",
            "description_tooltip": null,
            "layout": "IPY_MODEL_2da919a008b84d4abe5416e5a20c4a63",
            "placeholder": "​",
            "style": "IPY_MODEL_baca7bc9e50c4f3f82dce2bf87d92875",
            "value": " 1.05k/1.05k [00:00&lt;00:00, 63.3kB/s]"
          }
        },
        "c9ac32b9f97d43679b594a998925fd54": {
          "model_module": "@jupyter-widgets/base",
          "model_name": "LayoutModel",
          "model_module_version": "1.2.0",
          "state": {
            "_model_module": "@jupyter-widgets/base",
            "_model_module_version": "1.2.0",
            "_model_name": "LayoutModel",
            "_view_count": null,
            "_view_module": "@jupyter-widgets/base",
            "_view_module_version": "1.2.0",
            "_view_name": "LayoutView",
            "align_content": null,
            "align_items": null,
            "align_self": null,
            "border": null,
            "bottom": null,
            "display": null,
            "flex": null,
            "flex_flow": null,
            "grid_area": null,
            "grid_auto_columns": null,
            "grid_auto_flow": null,
            "grid_auto_rows": null,
            "grid_column": null,
            "grid_gap": null,
            "grid_row": null,
            "grid_template_areas": null,
            "grid_template_columns": null,
            "grid_template_rows": null,
            "height": null,
            "justify_content": null,
            "justify_items": null,
            "left": null,
            "margin": null,
            "max_height": null,
            "max_width": null,
            "min_height": null,
            "min_width": null,
            "object_fit": null,
            "object_position": null,
            "order": null,
            "overflow": null,
            "overflow_x": null,
            "overflow_y": null,
            "padding": null,
            "right": null,
            "top": null,
            "visibility": null,
            "width": null
          }
        },
        "e1587853420d4f2f99b71a2e3a305f31": {
          "model_module": "@jupyter-widgets/base",
          "model_name": "LayoutModel",
          "model_module_version": "1.2.0",
          "state": {
            "_model_module": "@jupyter-widgets/base",
            "_model_module_version": "1.2.0",
            "_model_name": "LayoutModel",
            "_view_count": null,
            "_view_module": "@jupyter-widgets/base",
            "_view_module_version": "1.2.0",
            "_view_name": "LayoutView",
            "align_content": null,
            "align_items": null,
            "align_self": null,
            "border": null,
            "bottom": null,
            "display": null,
            "flex": null,
            "flex_flow": null,
            "grid_area": null,
            "grid_auto_columns": null,
            "grid_auto_flow": null,
            "grid_auto_rows": null,
            "grid_column": null,
            "grid_gap": null,
            "grid_row": null,
            "grid_template_areas": null,
            "grid_template_columns": null,
            "grid_template_rows": null,
            "height": null,
            "justify_content": null,
            "justify_items": null,
            "left": null,
            "margin": null,
            "max_height": null,
            "max_width": null,
            "min_height": null,
            "min_width": null,
            "object_fit": null,
            "object_position": null,
            "order": null,
            "overflow": null,
            "overflow_x": null,
            "overflow_y": null,
            "padding": null,
            "right": null,
            "top": null,
            "visibility": null,
            "width": null
          }
        },
        "f09faa9020a64ef9830f93c101dd3bb2": {
          "model_module": "@jupyter-widgets/controls",
          "model_name": "DescriptionStyleModel",
          "model_module_version": "1.5.0",
          "state": {
            "_model_module": "@jupyter-widgets/controls",
            "_model_module_version": "1.5.0",
            "_model_name": "DescriptionStyleModel",
            "_view_count": null,
            "_view_module": "@jupyter-widgets/base",
            "_view_module_version": "1.2.0",
            "_view_name": "StyleView",
            "description_width": ""
          }
        },
        "bf53e5fb8fcb442fbf5111bab92d4ba8": {
          "model_module": "@jupyter-widgets/base",
          "model_name": "LayoutModel",
          "model_module_version": "1.2.0",
          "state": {
            "_model_module": "@jupyter-widgets/base",
            "_model_module_version": "1.2.0",
            "_model_name": "LayoutModel",
            "_view_count": null,
            "_view_module": "@jupyter-widgets/base",
            "_view_module_version": "1.2.0",
            "_view_name": "LayoutView",
            "align_content": null,
            "align_items": null,
            "align_self": null,
            "border": null,
            "bottom": null,
            "display": null,
            "flex": null,
            "flex_flow": null,
            "grid_area": null,
            "grid_auto_columns": null,
            "grid_auto_flow": null,
            "grid_auto_rows": null,
            "grid_column": null,
            "grid_gap": null,
            "grid_row": null,
            "grid_template_areas": null,
            "grid_template_columns": null,
            "grid_template_rows": null,
            "height": null,
            "justify_content": null,
            "justify_items": null,
            "left": null,
            "margin": null,
            "max_height": null,
            "max_width": null,
            "min_height": null,
            "min_width": null,
            "object_fit": null,
            "object_position": null,
            "order": null,
            "overflow": null,
            "overflow_x": null,
            "overflow_y": null,
            "padding": null,
            "right": null,
            "top": null,
            "visibility": null,
            "width": null
          }
        },
        "562b8182cbda4478b185f2cea70afa43": {
          "model_module": "@jupyter-widgets/controls",
          "model_name": "ProgressStyleModel",
          "model_module_version": "1.5.0",
          "state": {
            "_model_module": "@jupyter-widgets/controls",
            "_model_module_version": "1.5.0",
            "_model_name": "ProgressStyleModel",
            "_view_count": null,
            "_view_module": "@jupyter-widgets/base",
            "_view_module_version": "1.2.0",
            "_view_name": "StyleView",
            "bar_color": null,
            "description_width": ""
          }
        },
        "2da919a008b84d4abe5416e5a20c4a63": {
          "model_module": "@jupyter-widgets/base",
          "model_name": "LayoutModel",
          "model_module_version": "1.2.0",
          "state": {
            "_model_module": "@jupyter-widgets/base",
            "_model_module_version": "1.2.0",
            "_model_name": "LayoutModel",
            "_view_count": null,
            "_view_module": "@jupyter-widgets/base",
            "_view_module_version": "1.2.0",
            "_view_name": "LayoutView",
            "align_content": null,
            "align_items": null,
            "align_self": null,
            "border": null,
            "bottom": null,
            "display": null,
            "flex": null,
            "flex_flow": null,
            "grid_area": null,
            "grid_auto_columns": null,
            "grid_auto_flow": null,
            "grid_auto_rows": null,
            "grid_column": null,
            "grid_gap": null,
            "grid_row": null,
            "grid_template_areas": null,
            "grid_template_columns": null,
            "grid_template_rows": null,
            "height": null,
            "justify_content": null,
            "justify_items": null,
            "left": null,
            "margin": null,
            "max_height": null,
            "max_width": null,
            "min_height": null,
            "min_width": null,
            "object_fit": null,
            "object_position": null,
            "order": null,
            "overflow": null,
            "overflow_x": null,
            "overflow_y": null,
            "padding": null,
            "right": null,
            "top": null,
            "visibility": null,
            "width": null
          }
        },
        "baca7bc9e50c4f3f82dce2bf87d92875": {
          "model_module": "@jupyter-widgets/controls",
          "model_name": "DescriptionStyleModel",
          "model_module_version": "1.5.0",
          "state": {
            "_model_module": "@jupyter-widgets/controls",
            "_model_module_version": "1.5.0",
            "_model_name": "DescriptionStyleModel",
            "_view_count": null,
            "_view_module": "@jupyter-widgets/base",
            "_view_module_version": "1.2.0",
            "_view_name": "StyleView",
            "description_width": ""
          }
        },
        "d142dc51ea35449887680bba3defb915": {
          "model_module": "@jupyter-widgets/controls",
          "model_name": "HBoxModel",
          "model_module_version": "1.5.0",
          "state": {
            "_dom_classes": [],
            "_model_module": "@jupyter-widgets/controls",
            "_model_module_version": "1.5.0",
            "_model_name": "HBoxModel",
            "_view_count": null,
            "_view_module": "@jupyter-widgets/controls",
            "_view_module_version": "1.5.0",
            "_view_name": "HBoxView",
            "box_style": "",
            "children": [
              "IPY_MODEL_6d58d79f1cc64c3cb70d877ab620f42e",
              "IPY_MODEL_69ba25d9e5db4ea28101ad2444aae77c",
              "IPY_MODEL_eb1afdbdc8f74c3c85372d2d3f7088fa"
            ],
            "layout": "IPY_MODEL_fe85e5546b7f45628b88bd9289b464df"
          }
        },
        "6d58d79f1cc64c3cb70d877ab620f42e": {
          "model_module": "@jupyter-widgets/controls",
          "model_name": "HTMLModel",
          "model_module_version": "1.5.0",
          "state": {
            "_dom_classes": [],
            "_model_module": "@jupyter-widgets/controls",
            "_model_module_version": "1.5.0",
            "_model_name": "HTMLModel",
            "_view_count": null,
            "_view_module": "@jupyter-widgets/controls",
            "_view_module_version": "1.5.0",
            "_view_name": "HTMLView",
            "description": "",
            "description_tooltip": null,
            "layout": "IPY_MODEL_08c49a3efec745ecae92a510a7eddfa6",
            "placeholder": "​",
            "style": "IPY_MODEL_9965805c206144db9bd9edd53092f1e1",
            "value": "configuration_falcon.py: 100%"
          }
        },
        "69ba25d9e5db4ea28101ad2444aae77c": {
          "model_module": "@jupyter-widgets/controls",
          "model_name": "FloatProgressModel",
          "model_module_version": "1.5.0",
          "state": {
            "_dom_classes": [],
            "_model_module": "@jupyter-widgets/controls",
            "_model_module_version": "1.5.0",
            "_model_name": "FloatProgressModel",
            "_view_count": null,
            "_view_module": "@jupyter-widgets/controls",
            "_view_module_version": "1.5.0",
            "_view_name": "ProgressView",
            "bar_style": "success",
            "description": "",
            "description_tooltip": null,
            "layout": "IPY_MODEL_be8ebe7093144edbbb0b23fb2f368a19",
            "max": 7163,
            "min": 0,
            "orientation": "horizontal",
            "style": "IPY_MODEL_cb440c623ff3464480516d952585ef4e",
            "value": 7163
          }
        },
        "eb1afdbdc8f74c3c85372d2d3f7088fa": {
          "model_module": "@jupyter-widgets/controls",
          "model_name": "HTMLModel",
          "model_module_version": "1.5.0",
          "state": {
            "_dom_classes": [],
            "_model_module": "@jupyter-widgets/controls",
            "_model_module_version": "1.5.0",
            "_model_name": "HTMLModel",
            "_view_count": null,
            "_view_module": "@jupyter-widgets/controls",
            "_view_module_version": "1.5.0",
            "_view_name": "HTMLView",
            "description": "",
            "description_tooltip": null,
            "layout": "IPY_MODEL_194ee44aad0b4ec0aa26388d3de68584",
            "placeholder": "​",
            "style": "IPY_MODEL_572b7db9d5ec49bf92b7761438fd192d",
            "value": " 7.16k/7.16k [00:00&lt;00:00, 593kB/s]"
          }
        },
        "fe85e5546b7f45628b88bd9289b464df": {
          "model_module": "@jupyter-widgets/base",
          "model_name": "LayoutModel",
          "model_module_version": "1.2.0",
          "state": {
            "_model_module": "@jupyter-widgets/base",
            "_model_module_version": "1.2.0",
            "_model_name": "LayoutModel",
            "_view_count": null,
            "_view_module": "@jupyter-widgets/base",
            "_view_module_version": "1.2.0",
            "_view_name": "LayoutView",
            "align_content": null,
            "align_items": null,
            "align_self": null,
            "border": null,
            "bottom": null,
            "display": null,
            "flex": null,
            "flex_flow": null,
            "grid_area": null,
            "grid_auto_columns": null,
            "grid_auto_flow": null,
            "grid_auto_rows": null,
            "grid_column": null,
            "grid_gap": null,
            "grid_row": null,
            "grid_template_areas": null,
            "grid_template_columns": null,
            "grid_template_rows": null,
            "height": null,
            "justify_content": null,
            "justify_items": null,
            "left": null,
            "margin": null,
            "max_height": null,
            "max_width": null,
            "min_height": null,
            "min_width": null,
            "object_fit": null,
            "object_position": null,
            "order": null,
            "overflow": null,
            "overflow_x": null,
            "overflow_y": null,
            "padding": null,
            "right": null,
            "top": null,
            "visibility": null,
            "width": null
          }
        },
        "08c49a3efec745ecae92a510a7eddfa6": {
          "model_module": "@jupyter-widgets/base",
          "model_name": "LayoutModel",
          "model_module_version": "1.2.0",
          "state": {
            "_model_module": "@jupyter-widgets/base",
            "_model_module_version": "1.2.0",
            "_model_name": "LayoutModel",
            "_view_count": null,
            "_view_module": "@jupyter-widgets/base",
            "_view_module_version": "1.2.0",
            "_view_name": "LayoutView",
            "align_content": null,
            "align_items": null,
            "align_self": null,
            "border": null,
            "bottom": null,
            "display": null,
            "flex": null,
            "flex_flow": null,
            "grid_area": null,
            "grid_auto_columns": null,
            "grid_auto_flow": null,
            "grid_auto_rows": null,
            "grid_column": null,
            "grid_gap": null,
            "grid_row": null,
            "grid_template_areas": null,
            "grid_template_columns": null,
            "grid_template_rows": null,
            "height": null,
            "justify_content": null,
            "justify_items": null,
            "left": null,
            "margin": null,
            "max_height": null,
            "max_width": null,
            "min_height": null,
            "min_width": null,
            "object_fit": null,
            "object_position": null,
            "order": null,
            "overflow": null,
            "overflow_x": null,
            "overflow_y": null,
            "padding": null,
            "right": null,
            "top": null,
            "visibility": null,
            "width": null
          }
        },
        "9965805c206144db9bd9edd53092f1e1": {
          "model_module": "@jupyter-widgets/controls",
          "model_name": "DescriptionStyleModel",
          "model_module_version": "1.5.0",
          "state": {
            "_model_module": "@jupyter-widgets/controls",
            "_model_module_version": "1.5.0",
            "_model_name": "DescriptionStyleModel",
            "_view_count": null,
            "_view_module": "@jupyter-widgets/base",
            "_view_module_version": "1.2.0",
            "_view_name": "StyleView",
            "description_width": ""
          }
        },
        "be8ebe7093144edbbb0b23fb2f368a19": {
          "model_module": "@jupyter-widgets/base",
          "model_name": "LayoutModel",
          "model_module_version": "1.2.0",
          "state": {
            "_model_module": "@jupyter-widgets/base",
            "_model_module_version": "1.2.0",
            "_model_name": "LayoutModel",
            "_view_count": null,
            "_view_module": "@jupyter-widgets/base",
            "_view_module_version": "1.2.0",
            "_view_name": "LayoutView",
            "align_content": null,
            "align_items": null,
            "align_self": null,
            "border": null,
            "bottom": null,
            "display": null,
            "flex": null,
            "flex_flow": null,
            "grid_area": null,
            "grid_auto_columns": null,
            "grid_auto_flow": null,
            "grid_auto_rows": null,
            "grid_column": null,
            "grid_gap": null,
            "grid_row": null,
            "grid_template_areas": null,
            "grid_template_columns": null,
            "grid_template_rows": null,
            "height": null,
            "justify_content": null,
            "justify_items": null,
            "left": null,
            "margin": null,
            "max_height": null,
            "max_width": null,
            "min_height": null,
            "min_width": null,
            "object_fit": null,
            "object_position": null,
            "order": null,
            "overflow": null,
            "overflow_x": null,
            "overflow_y": null,
            "padding": null,
            "right": null,
            "top": null,
            "visibility": null,
            "width": null
          }
        },
        "cb440c623ff3464480516d952585ef4e": {
          "model_module": "@jupyter-widgets/controls",
          "model_name": "ProgressStyleModel",
          "model_module_version": "1.5.0",
          "state": {
            "_model_module": "@jupyter-widgets/controls",
            "_model_module_version": "1.5.0",
            "_model_name": "ProgressStyleModel",
            "_view_count": null,
            "_view_module": "@jupyter-widgets/base",
            "_view_module_version": "1.2.0",
            "_view_name": "StyleView",
            "bar_color": null,
            "description_width": ""
          }
        },
        "194ee44aad0b4ec0aa26388d3de68584": {
          "model_module": "@jupyter-widgets/base",
          "model_name": "LayoutModel",
          "model_module_version": "1.2.0",
          "state": {
            "_model_module": "@jupyter-widgets/base",
            "_model_module_version": "1.2.0",
            "_model_name": "LayoutModel",
            "_view_count": null,
            "_view_module": "@jupyter-widgets/base",
            "_view_module_version": "1.2.0",
            "_view_name": "LayoutView",
            "align_content": null,
            "align_items": null,
            "align_self": null,
            "border": null,
            "bottom": null,
            "display": null,
            "flex": null,
            "flex_flow": null,
            "grid_area": null,
            "grid_auto_columns": null,
            "grid_auto_flow": null,
            "grid_auto_rows": null,
            "grid_column": null,
            "grid_gap": null,
            "grid_row": null,
            "grid_template_areas": null,
            "grid_template_columns": null,
            "grid_template_rows": null,
            "height": null,
            "justify_content": null,
            "justify_items": null,
            "left": null,
            "margin": null,
            "max_height": null,
            "max_width": null,
            "min_height": null,
            "min_width": null,
            "object_fit": null,
            "object_position": null,
            "order": null,
            "overflow": null,
            "overflow_x": null,
            "overflow_y": null,
            "padding": null,
            "right": null,
            "top": null,
            "visibility": null,
            "width": null
          }
        },
        "572b7db9d5ec49bf92b7761438fd192d": {
          "model_module": "@jupyter-widgets/controls",
          "model_name": "DescriptionStyleModel",
          "model_module_version": "1.5.0",
          "state": {
            "_model_module": "@jupyter-widgets/controls",
            "_model_module_version": "1.5.0",
            "_model_name": "DescriptionStyleModel",
            "_view_count": null,
            "_view_module": "@jupyter-widgets/base",
            "_view_module_version": "1.2.0",
            "_view_name": "StyleView",
            "description_width": ""
          }
        },
        "555d60a70cdc4c649a14cb2c7f88628b": {
          "model_module": "@jupyter-widgets/controls",
          "model_name": "HBoxModel",
          "model_module_version": "1.5.0",
          "state": {
            "_dom_classes": [],
            "_model_module": "@jupyter-widgets/controls",
            "_model_module_version": "1.5.0",
            "_model_name": "HBoxModel",
            "_view_count": null,
            "_view_module": "@jupyter-widgets/controls",
            "_view_module_version": "1.5.0",
            "_view_name": "HBoxView",
            "box_style": "",
            "children": [
              "IPY_MODEL_06fc929a16764f699455b6a342ce8317",
              "IPY_MODEL_2fb4a4faf57f4200833ed3538e49a43f",
              "IPY_MODEL_6a5d19d0c7cb45c2a0d286114bd46a30"
            ],
            "layout": "IPY_MODEL_804f30f3f8a24a35b987e55eb233c1b3"
          }
        },
        "06fc929a16764f699455b6a342ce8317": {
          "model_module": "@jupyter-widgets/controls",
          "model_name": "HTMLModel",
          "model_module_version": "1.5.0",
          "state": {
            "_dom_classes": [],
            "_model_module": "@jupyter-widgets/controls",
            "_model_module_version": "1.5.0",
            "_model_name": "HTMLModel",
            "_view_count": null,
            "_view_module": "@jupyter-widgets/controls",
            "_view_module_version": "1.5.0",
            "_view_name": "HTMLView",
            "description": "",
            "description_tooltip": null,
            "layout": "IPY_MODEL_c9fa1955c1d14c2eb80e962e0061c342",
            "placeholder": "​",
            "style": "IPY_MODEL_1adb7017438b45b095f010b7b65a90fb",
            "value": "modeling_falcon.py: 100%"
          }
        },
        "2fb4a4faf57f4200833ed3538e49a43f": {
          "model_module": "@jupyter-widgets/controls",
          "model_name": "FloatProgressModel",
          "model_module_version": "1.5.0",
          "state": {
            "_dom_classes": [],
            "_model_module": "@jupyter-widgets/controls",
            "_model_module_version": "1.5.0",
            "_model_name": "FloatProgressModel",
            "_view_count": null,
            "_view_module": "@jupyter-widgets/controls",
            "_view_module_version": "1.5.0",
            "_view_name": "ProgressView",
            "bar_style": "success",
            "description": "",
            "description_tooltip": null,
            "layout": "IPY_MODEL_ae117b4492564a25afb3b76411abba63",
            "max": 56920,
            "min": 0,
            "orientation": "horizontal",
            "style": "IPY_MODEL_d33e19ce42084366bf7a237329092428",
            "value": 56920
          }
        },
        "6a5d19d0c7cb45c2a0d286114bd46a30": {
          "model_module": "@jupyter-widgets/controls",
          "model_name": "HTMLModel",
          "model_module_version": "1.5.0",
          "state": {
            "_dom_classes": [],
            "_model_module": "@jupyter-widgets/controls",
            "_model_module_version": "1.5.0",
            "_model_name": "HTMLModel",
            "_view_count": null,
            "_view_module": "@jupyter-widgets/controls",
            "_view_module_version": "1.5.0",
            "_view_name": "HTMLView",
            "description": "",
            "description_tooltip": null,
            "layout": "IPY_MODEL_b0c7269b4919459aaa4b998eabeaf54d",
            "placeholder": "​",
            "style": "IPY_MODEL_f555a24279f341df83fb6c52b972c498",
            "value": " 56.9k/56.9k [00:00&lt;00:00, 852kB/s]"
          }
        },
        "804f30f3f8a24a35b987e55eb233c1b3": {
          "model_module": "@jupyter-widgets/base",
          "model_name": "LayoutModel",
          "model_module_version": "1.2.0",
          "state": {
            "_model_module": "@jupyter-widgets/base",
            "_model_module_version": "1.2.0",
            "_model_name": "LayoutModel",
            "_view_count": null,
            "_view_module": "@jupyter-widgets/base",
            "_view_module_version": "1.2.0",
            "_view_name": "LayoutView",
            "align_content": null,
            "align_items": null,
            "align_self": null,
            "border": null,
            "bottom": null,
            "display": null,
            "flex": null,
            "flex_flow": null,
            "grid_area": null,
            "grid_auto_columns": null,
            "grid_auto_flow": null,
            "grid_auto_rows": null,
            "grid_column": null,
            "grid_gap": null,
            "grid_row": null,
            "grid_template_areas": null,
            "grid_template_columns": null,
            "grid_template_rows": null,
            "height": null,
            "justify_content": null,
            "justify_items": null,
            "left": null,
            "margin": null,
            "max_height": null,
            "max_width": null,
            "min_height": null,
            "min_width": null,
            "object_fit": null,
            "object_position": null,
            "order": null,
            "overflow": null,
            "overflow_x": null,
            "overflow_y": null,
            "padding": null,
            "right": null,
            "top": null,
            "visibility": null,
            "width": null
          }
        },
        "c9fa1955c1d14c2eb80e962e0061c342": {
          "model_module": "@jupyter-widgets/base",
          "model_name": "LayoutModel",
          "model_module_version": "1.2.0",
          "state": {
            "_model_module": "@jupyter-widgets/base",
            "_model_module_version": "1.2.0",
            "_model_name": "LayoutModel",
            "_view_count": null,
            "_view_module": "@jupyter-widgets/base",
            "_view_module_version": "1.2.0",
            "_view_name": "LayoutView",
            "align_content": null,
            "align_items": null,
            "align_self": null,
            "border": null,
            "bottom": null,
            "display": null,
            "flex": null,
            "flex_flow": null,
            "grid_area": null,
            "grid_auto_columns": null,
            "grid_auto_flow": null,
            "grid_auto_rows": null,
            "grid_column": null,
            "grid_gap": null,
            "grid_row": null,
            "grid_template_areas": null,
            "grid_template_columns": null,
            "grid_template_rows": null,
            "height": null,
            "justify_content": null,
            "justify_items": null,
            "left": null,
            "margin": null,
            "max_height": null,
            "max_width": null,
            "min_height": null,
            "min_width": null,
            "object_fit": null,
            "object_position": null,
            "order": null,
            "overflow": null,
            "overflow_x": null,
            "overflow_y": null,
            "padding": null,
            "right": null,
            "top": null,
            "visibility": null,
            "width": null
          }
        },
        "1adb7017438b45b095f010b7b65a90fb": {
          "model_module": "@jupyter-widgets/controls",
          "model_name": "DescriptionStyleModel",
          "model_module_version": "1.5.0",
          "state": {
            "_model_module": "@jupyter-widgets/controls",
            "_model_module_version": "1.5.0",
            "_model_name": "DescriptionStyleModel",
            "_view_count": null,
            "_view_module": "@jupyter-widgets/base",
            "_view_module_version": "1.2.0",
            "_view_name": "StyleView",
            "description_width": ""
          }
        },
        "ae117b4492564a25afb3b76411abba63": {
          "model_module": "@jupyter-widgets/base",
          "model_name": "LayoutModel",
          "model_module_version": "1.2.0",
          "state": {
            "_model_module": "@jupyter-widgets/base",
            "_model_module_version": "1.2.0",
            "_model_name": "LayoutModel",
            "_view_count": null,
            "_view_module": "@jupyter-widgets/base",
            "_view_module_version": "1.2.0",
            "_view_name": "LayoutView",
            "align_content": null,
            "align_items": null,
            "align_self": null,
            "border": null,
            "bottom": null,
            "display": null,
            "flex": null,
            "flex_flow": null,
            "grid_area": null,
            "grid_auto_columns": null,
            "grid_auto_flow": null,
            "grid_auto_rows": null,
            "grid_column": null,
            "grid_gap": null,
            "grid_row": null,
            "grid_template_areas": null,
            "grid_template_columns": null,
            "grid_template_rows": null,
            "height": null,
            "justify_content": null,
            "justify_items": null,
            "left": null,
            "margin": null,
            "max_height": null,
            "max_width": null,
            "min_height": null,
            "min_width": null,
            "object_fit": null,
            "object_position": null,
            "order": null,
            "overflow": null,
            "overflow_x": null,
            "overflow_y": null,
            "padding": null,
            "right": null,
            "top": null,
            "visibility": null,
            "width": null
          }
        },
        "d33e19ce42084366bf7a237329092428": {
          "model_module": "@jupyter-widgets/controls",
          "model_name": "ProgressStyleModel",
          "model_module_version": "1.5.0",
          "state": {
            "_model_module": "@jupyter-widgets/controls",
            "_model_module_version": "1.5.0",
            "_model_name": "ProgressStyleModel",
            "_view_count": null,
            "_view_module": "@jupyter-widgets/base",
            "_view_module_version": "1.2.0",
            "_view_name": "StyleView",
            "bar_color": null,
            "description_width": ""
          }
        },
        "b0c7269b4919459aaa4b998eabeaf54d": {
          "model_module": "@jupyter-widgets/base",
          "model_name": "LayoutModel",
          "model_module_version": "1.2.0",
          "state": {
            "_model_module": "@jupyter-widgets/base",
            "_model_module_version": "1.2.0",
            "_model_name": "LayoutModel",
            "_view_count": null,
            "_view_module": "@jupyter-widgets/base",
            "_view_module_version": "1.2.0",
            "_view_name": "LayoutView",
            "align_content": null,
            "align_items": null,
            "align_self": null,
            "border": null,
            "bottom": null,
            "display": null,
            "flex": null,
            "flex_flow": null,
            "grid_area": null,
            "grid_auto_columns": null,
            "grid_auto_flow": null,
            "grid_auto_rows": null,
            "grid_column": null,
            "grid_gap": null,
            "grid_row": null,
            "grid_template_areas": null,
            "grid_template_columns": null,
            "grid_template_rows": null,
            "height": null,
            "justify_content": null,
            "justify_items": null,
            "left": null,
            "margin": null,
            "max_height": null,
            "max_width": null,
            "min_height": null,
            "min_width": null,
            "object_fit": null,
            "object_position": null,
            "order": null,
            "overflow": null,
            "overflow_x": null,
            "overflow_y": null,
            "padding": null,
            "right": null,
            "top": null,
            "visibility": null,
            "width": null
          }
        },
        "f555a24279f341df83fb6c52b972c498": {
          "model_module": "@jupyter-widgets/controls",
          "model_name": "DescriptionStyleModel",
          "model_module_version": "1.5.0",
          "state": {
            "_model_module": "@jupyter-widgets/controls",
            "_model_module_version": "1.5.0",
            "_model_name": "DescriptionStyleModel",
            "_view_count": null,
            "_view_module": "@jupyter-widgets/base",
            "_view_module_version": "1.2.0",
            "_view_name": "StyleView",
            "description_width": ""
          }
        },
        "78fe43f4536c486499f4a1d1e3603ee3": {
          "model_module": "@jupyter-widgets/controls",
          "model_name": "HBoxModel",
          "model_module_version": "1.5.0",
          "state": {
            "_dom_classes": [],
            "_model_module": "@jupyter-widgets/controls",
            "_model_module_version": "1.5.0",
            "_model_name": "HBoxModel",
            "_view_count": null,
            "_view_module": "@jupyter-widgets/controls",
            "_view_module_version": "1.5.0",
            "_view_name": "HBoxView",
            "box_style": "",
            "children": [
              "IPY_MODEL_4c07a6668d3147fa96e88529e84ca902",
              "IPY_MODEL_e27e300c866749c3b8c3e4f216d699e0",
              "IPY_MODEL_1da9455b7b0843069c40c1e32197d54e"
            ],
            "layout": "IPY_MODEL_585bfcbf096048e88cf66c45db4c7f31"
          }
        },
        "4c07a6668d3147fa96e88529e84ca902": {
          "model_module": "@jupyter-widgets/controls",
          "model_name": "HTMLModel",
          "model_module_version": "1.5.0",
          "state": {
            "_dom_classes": [],
            "_model_module": "@jupyter-widgets/controls",
            "_model_module_version": "1.5.0",
            "_model_name": "HTMLModel",
            "_view_count": null,
            "_view_module": "@jupyter-widgets/controls",
            "_view_module_version": "1.5.0",
            "_view_name": "HTMLView",
            "description": "",
            "description_tooltip": null,
            "layout": "IPY_MODEL_7c8cec572136487a8066b27c402fee9e",
            "placeholder": "​",
            "style": "IPY_MODEL_178591a7b61b466799fe0e0e40920cf3",
            "value": "pytorch_model.bin.index.json: 100%"
          }
        },
        "e27e300c866749c3b8c3e4f216d699e0": {
          "model_module": "@jupyter-widgets/controls",
          "model_name": "FloatProgressModel",
          "model_module_version": "1.5.0",
          "state": {
            "_dom_classes": [],
            "_model_module": "@jupyter-widgets/controls",
            "_model_module_version": "1.5.0",
            "_model_name": "FloatProgressModel",
            "_view_count": null,
            "_view_module": "@jupyter-widgets/controls",
            "_view_module_version": "1.5.0",
            "_view_name": "ProgressView",
            "bar_style": "success",
            "description": "",
            "description_tooltip": null,
            "layout": "IPY_MODEL_3ccbb757fb2541f0b1ffeb9f3bf9ec6e",
            "max": 16924,
            "min": 0,
            "orientation": "horizontal",
            "style": "IPY_MODEL_f15255c3c1e5474bb4e48d571e294a92",
            "value": 16924
          }
        },
        "1da9455b7b0843069c40c1e32197d54e": {
          "model_module": "@jupyter-widgets/controls",
          "model_name": "HTMLModel",
          "model_module_version": "1.5.0",
          "state": {
            "_dom_classes": [],
            "_model_module": "@jupyter-widgets/controls",
            "_model_module_version": "1.5.0",
            "_model_name": "HTMLModel",
            "_view_count": null,
            "_view_module": "@jupyter-widgets/controls",
            "_view_module_version": "1.5.0",
            "_view_name": "HTMLView",
            "description": "",
            "description_tooltip": null,
            "layout": "IPY_MODEL_08cf4eb6b1bc4173b78dbb3abcfd3508",
            "placeholder": "​",
            "style": "IPY_MODEL_8ce589106b9843f4a9047aec356648e5",
            "value": " 16.9k/16.9k [00:00&lt;00:00, 853kB/s]"
          }
        },
        "585bfcbf096048e88cf66c45db4c7f31": {
          "model_module": "@jupyter-widgets/base",
          "model_name": "LayoutModel",
          "model_module_version": "1.2.0",
          "state": {
            "_model_module": "@jupyter-widgets/base",
            "_model_module_version": "1.2.0",
            "_model_name": "LayoutModel",
            "_view_count": null,
            "_view_module": "@jupyter-widgets/base",
            "_view_module_version": "1.2.0",
            "_view_name": "LayoutView",
            "align_content": null,
            "align_items": null,
            "align_self": null,
            "border": null,
            "bottom": null,
            "display": null,
            "flex": null,
            "flex_flow": null,
            "grid_area": null,
            "grid_auto_columns": null,
            "grid_auto_flow": null,
            "grid_auto_rows": null,
            "grid_column": null,
            "grid_gap": null,
            "grid_row": null,
            "grid_template_areas": null,
            "grid_template_columns": null,
            "grid_template_rows": null,
            "height": null,
            "justify_content": null,
            "justify_items": null,
            "left": null,
            "margin": null,
            "max_height": null,
            "max_width": null,
            "min_height": null,
            "min_width": null,
            "object_fit": null,
            "object_position": null,
            "order": null,
            "overflow": null,
            "overflow_x": null,
            "overflow_y": null,
            "padding": null,
            "right": null,
            "top": null,
            "visibility": null,
            "width": null
          }
        },
        "7c8cec572136487a8066b27c402fee9e": {
          "model_module": "@jupyter-widgets/base",
          "model_name": "LayoutModel",
          "model_module_version": "1.2.0",
          "state": {
            "_model_module": "@jupyter-widgets/base",
            "_model_module_version": "1.2.0",
            "_model_name": "LayoutModel",
            "_view_count": null,
            "_view_module": "@jupyter-widgets/base",
            "_view_module_version": "1.2.0",
            "_view_name": "LayoutView",
            "align_content": null,
            "align_items": null,
            "align_self": null,
            "border": null,
            "bottom": null,
            "display": null,
            "flex": null,
            "flex_flow": null,
            "grid_area": null,
            "grid_auto_columns": null,
            "grid_auto_flow": null,
            "grid_auto_rows": null,
            "grid_column": null,
            "grid_gap": null,
            "grid_row": null,
            "grid_template_areas": null,
            "grid_template_columns": null,
            "grid_template_rows": null,
            "height": null,
            "justify_content": null,
            "justify_items": null,
            "left": null,
            "margin": null,
            "max_height": null,
            "max_width": null,
            "min_height": null,
            "min_width": null,
            "object_fit": null,
            "object_position": null,
            "order": null,
            "overflow": null,
            "overflow_x": null,
            "overflow_y": null,
            "padding": null,
            "right": null,
            "top": null,
            "visibility": null,
            "width": null
          }
        },
        "178591a7b61b466799fe0e0e40920cf3": {
          "model_module": "@jupyter-widgets/controls",
          "model_name": "DescriptionStyleModel",
          "model_module_version": "1.5.0",
          "state": {
            "_model_module": "@jupyter-widgets/controls",
            "_model_module_version": "1.5.0",
            "_model_name": "DescriptionStyleModel",
            "_view_count": null,
            "_view_module": "@jupyter-widgets/base",
            "_view_module_version": "1.2.0",
            "_view_name": "StyleView",
            "description_width": ""
          }
        },
        "3ccbb757fb2541f0b1ffeb9f3bf9ec6e": {
          "model_module": "@jupyter-widgets/base",
          "model_name": "LayoutModel",
          "model_module_version": "1.2.0",
          "state": {
            "_model_module": "@jupyter-widgets/base",
            "_model_module_version": "1.2.0",
            "_model_name": "LayoutModel",
            "_view_count": null,
            "_view_module": "@jupyter-widgets/base",
            "_view_module_version": "1.2.0",
            "_view_name": "LayoutView",
            "align_content": null,
            "align_items": null,
            "align_self": null,
            "border": null,
            "bottom": null,
            "display": null,
            "flex": null,
            "flex_flow": null,
            "grid_area": null,
            "grid_auto_columns": null,
            "grid_auto_flow": null,
            "grid_auto_rows": null,
            "grid_column": null,
            "grid_gap": null,
            "grid_row": null,
            "grid_template_areas": null,
            "grid_template_columns": null,
            "grid_template_rows": null,
            "height": null,
            "justify_content": null,
            "justify_items": null,
            "left": null,
            "margin": null,
            "max_height": null,
            "max_width": null,
            "min_height": null,
            "min_width": null,
            "object_fit": null,
            "object_position": null,
            "order": null,
            "overflow": null,
            "overflow_x": null,
            "overflow_y": null,
            "padding": null,
            "right": null,
            "top": null,
            "visibility": null,
            "width": null
          }
        },
        "f15255c3c1e5474bb4e48d571e294a92": {
          "model_module": "@jupyter-widgets/controls",
          "model_name": "ProgressStyleModel",
          "model_module_version": "1.5.0",
          "state": {
            "_model_module": "@jupyter-widgets/controls",
            "_model_module_version": "1.5.0",
            "_model_name": "ProgressStyleModel",
            "_view_count": null,
            "_view_module": "@jupyter-widgets/base",
            "_view_module_version": "1.2.0",
            "_view_name": "StyleView",
            "bar_color": null,
            "description_width": ""
          }
        },
        "08cf4eb6b1bc4173b78dbb3abcfd3508": {
          "model_module": "@jupyter-widgets/base",
          "model_name": "LayoutModel",
          "model_module_version": "1.2.0",
          "state": {
            "_model_module": "@jupyter-widgets/base",
            "_model_module_version": "1.2.0",
            "_model_name": "LayoutModel",
            "_view_count": null,
            "_view_module": "@jupyter-widgets/base",
            "_view_module_version": "1.2.0",
            "_view_name": "LayoutView",
            "align_content": null,
            "align_items": null,
            "align_self": null,
            "border": null,
            "bottom": null,
            "display": null,
            "flex": null,
            "flex_flow": null,
            "grid_area": null,
            "grid_auto_columns": null,
            "grid_auto_flow": null,
            "grid_auto_rows": null,
            "grid_column": null,
            "grid_gap": null,
            "grid_row": null,
            "grid_template_areas": null,
            "grid_template_columns": null,
            "grid_template_rows": null,
            "height": null,
            "justify_content": null,
            "justify_items": null,
            "left": null,
            "margin": null,
            "max_height": null,
            "max_width": null,
            "min_height": null,
            "min_width": null,
            "object_fit": null,
            "object_position": null,
            "order": null,
            "overflow": null,
            "overflow_x": null,
            "overflow_y": null,
            "padding": null,
            "right": null,
            "top": null,
            "visibility": null,
            "width": null
          }
        },
        "8ce589106b9843f4a9047aec356648e5": {
          "model_module": "@jupyter-widgets/controls",
          "model_name": "DescriptionStyleModel",
          "model_module_version": "1.5.0",
          "state": {
            "_model_module": "@jupyter-widgets/controls",
            "_model_module_version": "1.5.0",
            "_model_name": "DescriptionStyleModel",
            "_view_count": null,
            "_view_module": "@jupyter-widgets/base",
            "_view_module_version": "1.2.0",
            "_view_name": "StyleView",
            "description_width": ""
          }
        },
        "a7af95935f2d4e60b155797fb49a404d": {
          "model_module": "@jupyter-widgets/controls",
          "model_name": "HBoxModel",
          "model_module_version": "1.5.0",
          "state": {
            "_dom_classes": [],
            "_model_module": "@jupyter-widgets/controls",
            "_model_module_version": "1.5.0",
            "_model_name": "HBoxModel",
            "_view_count": null,
            "_view_module": "@jupyter-widgets/controls",
            "_view_module_version": "1.5.0",
            "_view_name": "HBoxView",
            "box_style": "",
            "children": [
              "IPY_MODEL_a1f2fc0cbf7c4818a3ce5d88a8b2da1a",
              "IPY_MODEL_f59fb660813a499da434d3fc38ad552f",
              "IPY_MODEL_0dcf8e5068194b5db89f18e229abed13"
            ],
            "layout": "IPY_MODEL_69a63d679e844f3d8db1b510a5ba76b4"
          }
        },
        "a1f2fc0cbf7c4818a3ce5d88a8b2da1a": {
          "model_module": "@jupyter-widgets/controls",
          "model_name": "HTMLModel",
          "model_module_version": "1.5.0",
          "state": {
            "_dom_classes": [],
            "_model_module": "@jupyter-widgets/controls",
            "_model_module_version": "1.5.0",
            "_model_name": "HTMLModel",
            "_view_count": null,
            "_view_module": "@jupyter-widgets/controls",
            "_view_module_version": "1.5.0",
            "_view_name": "HTMLView",
            "description": "",
            "description_tooltip": null,
            "layout": "IPY_MODEL_432605ecba4b4dfea7c9c0d3f8a52da8",
            "placeholder": "​",
            "style": "IPY_MODEL_d30c46bcf1d243419cfb7a1a48b367f5",
            "value": "Downloading shards: 100%"
          }
        },
        "f59fb660813a499da434d3fc38ad552f": {
          "model_module": "@jupyter-widgets/controls",
          "model_name": "FloatProgressModel",
          "model_module_version": "1.5.0",
          "state": {
            "_dom_classes": [],
            "_model_module": "@jupyter-widgets/controls",
            "_model_module_version": "1.5.0",
            "_model_name": "FloatProgressModel",
            "_view_count": null,
            "_view_module": "@jupyter-widgets/controls",
            "_view_module_version": "1.5.0",
            "_view_name": "ProgressView",
            "bar_style": "success",
            "description": "",
            "description_tooltip": null,
            "layout": "IPY_MODEL_d45bfd376fdf4408a17faa43acf855ff",
            "max": 2,
            "min": 0,
            "orientation": "horizontal",
            "style": "IPY_MODEL_dd51a62c636c4d6e91401a84aff632c4",
            "value": 2
          }
        },
        "0dcf8e5068194b5db89f18e229abed13": {
          "model_module": "@jupyter-widgets/controls",
          "model_name": "HTMLModel",
          "model_module_version": "1.5.0",
          "state": {
            "_dom_classes": [],
            "_model_module": "@jupyter-widgets/controls",
            "_model_module_version": "1.5.0",
            "_model_name": "HTMLModel",
            "_view_count": null,
            "_view_module": "@jupyter-widgets/controls",
            "_view_module_version": "1.5.0",
            "_view_name": "HTMLView",
            "description": "",
            "description_tooltip": null,
            "layout": "IPY_MODEL_c0bd8be619454f47a55b535f67ab9c3e",
            "placeholder": "​",
            "style": "IPY_MODEL_ba6d5e902f8347d99a40f46f3e120b2f",
            "value": " 2/2 [01:41&lt;00:00, 46.35s/it]"
          }
        },
        "69a63d679e844f3d8db1b510a5ba76b4": {
          "model_module": "@jupyter-widgets/base",
          "model_name": "LayoutModel",
          "model_module_version": "1.2.0",
          "state": {
            "_model_module": "@jupyter-widgets/base",
            "_model_module_version": "1.2.0",
            "_model_name": "LayoutModel",
            "_view_count": null,
            "_view_module": "@jupyter-widgets/base",
            "_view_module_version": "1.2.0",
            "_view_name": "LayoutView",
            "align_content": null,
            "align_items": null,
            "align_self": null,
            "border": null,
            "bottom": null,
            "display": null,
            "flex": null,
            "flex_flow": null,
            "grid_area": null,
            "grid_auto_columns": null,
            "grid_auto_flow": null,
            "grid_auto_rows": null,
            "grid_column": null,
            "grid_gap": null,
            "grid_row": null,
            "grid_template_areas": null,
            "grid_template_columns": null,
            "grid_template_rows": null,
            "height": null,
            "justify_content": null,
            "justify_items": null,
            "left": null,
            "margin": null,
            "max_height": null,
            "max_width": null,
            "min_height": null,
            "min_width": null,
            "object_fit": null,
            "object_position": null,
            "order": null,
            "overflow": null,
            "overflow_x": null,
            "overflow_y": null,
            "padding": null,
            "right": null,
            "top": null,
            "visibility": null,
            "width": null
          }
        },
        "432605ecba4b4dfea7c9c0d3f8a52da8": {
          "model_module": "@jupyter-widgets/base",
          "model_name": "LayoutModel",
          "model_module_version": "1.2.0",
          "state": {
            "_model_module": "@jupyter-widgets/base",
            "_model_module_version": "1.2.0",
            "_model_name": "LayoutModel",
            "_view_count": null,
            "_view_module": "@jupyter-widgets/base",
            "_view_module_version": "1.2.0",
            "_view_name": "LayoutView",
            "align_content": null,
            "align_items": null,
            "align_self": null,
            "border": null,
            "bottom": null,
            "display": null,
            "flex": null,
            "flex_flow": null,
            "grid_area": null,
            "grid_auto_columns": null,
            "grid_auto_flow": null,
            "grid_auto_rows": null,
            "grid_column": null,
            "grid_gap": null,
            "grid_row": null,
            "grid_template_areas": null,
            "grid_template_columns": null,
            "grid_template_rows": null,
            "height": null,
            "justify_content": null,
            "justify_items": null,
            "left": null,
            "margin": null,
            "max_height": null,
            "max_width": null,
            "min_height": null,
            "min_width": null,
            "object_fit": null,
            "object_position": null,
            "order": null,
            "overflow": null,
            "overflow_x": null,
            "overflow_y": null,
            "padding": null,
            "right": null,
            "top": null,
            "visibility": null,
            "width": null
          }
        },
        "d30c46bcf1d243419cfb7a1a48b367f5": {
          "model_module": "@jupyter-widgets/controls",
          "model_name": "DescriptionStyleModel",
          "model_module_version": "1.5.0",
          "state": {
            "_model_module": "@jupyter-widgets/controls",
            "_model_module_version": "1.5.0",
            "_model_name": "DescriptionStyleModel",
            "_view_count": null,
            "_view_module": "@jupyter-widgets/base",
            "_view_module_version": "1.2.0",
            "_view_name": "StyleView",
            "description_width": ""
          }
        },
        "d45bfd376fdf4408a17faa43acf855ff": {
          "model_module": "@jupyter-widgets/base",
          "model_name": "LayoutModel",
          "model_module_version": "1.2.0",
          "state": {
            "_model_module": "@jupyter-widgets/base",
            "_model_module_version": "1.2.0",
            "_model_name": "LayoutModel",
            "_view_count": null,
            "_view_module": "@jupyter-widgets/base",
            "_view_module_version": "1.2.0",
            "_view_name": "LayoutView",
            "align_content": null,
            "align_items": null,
            "align_self": null,
            "border": null,
            "bottom": null,
            "display": null,
            "flex": null,
            "flex_flow": null,
            "grid_area": null,
            "grid_auto_columns": null,
            "grid_auto_flow": null,
            "grid_auto_rows": null,
            "grid_column": null,
            "grid_gap": null,
            "grid_row": null,
            "grid_template_areas": null,
            "grid_template_columns": null,
            "grid_template_rows": null,
            "height": null,
            "justify_content": null,
            "justify_items": null,
            "left": null,
            "margin": null,
            "max_height": null,
            "max_width": null,
            "min_height": null,
            "min_width": null,
            "object_fit": null,
            "object_position": null,
            "order": null,
            "overflow": null,
            "overflow_x": null,
            "overflow_y": null,
            "padding": null,
            "right": null,
            "top": null,
            "visibility": null,
            "width": null
          }
        },
        "dd51a62c636c4d6e91401a84aff632c4": {
          "model_module": "@jupyter-widgets/controls",
          "model_name": "ProgressStyleModel",
          "model_module_version": "1.5.0",
          "state": {
            "_model_module": "@jupyter-widgets/controls",
            "_model_module_version": "1.5.0",
            "_model_name": "ProgressStyleModel",
            "_view_count": null,
            "_view_module": "@jupyter-widgets/base",
            "_view_module_version": "1.2.0",
            "_view_name": "StyleView",
            "bar_color": null,
            "description_width": ""
          }
        },
        "c0bd8be619454f47a55b535f67ab9c3e": {
          "model_module": "@jupyter-widgets/base",
          "model_name": "LayoutModel",
          "model_module_version": "1.2.0",
          "state": {
            "_model_module": "@jupyter-widgets/base",
            "_model_module_version": "1.2.0",
            "_model_name": "LayoutModel",
            "_view_count": null,
            "_view_module": "@jupyter-widgets/base",
            "_view_module_version": "1.2.0",
            "_view_name": "LayoutView",
            "align_content": null,
            "align_items": null,
            "align_self": null,
            "border": null,
            "bottom": null,
            "display": null,
            "flex": null,
            "flex_flow": null,
            "grid_area": null,
            "grid_auto_columns": null,
            "grid_auto_flow": null,
            "grid_auto_rows": null,
            "grid_column": null,
            "grid_gap": null,
            "grid_row": null,
            "grid_template_areas": null,
            "grid_template_columns": null,
            "grid_template_rows": null,
            "height": null,
            "justify_content": null,
            "justify_items": null,
            "left": null,
            "margin": null,
            "max_height": null,
            "max_width": null,
            "min_height": null,
            "min_width": null,
            "object_fit": null,
            "object_position": null,
            "order": null,
            "overflow": null,
            "overflow_x": null,
            "overflow_y": null,
            "padding": null,
            "right": null,
            "top": null,
            "visibility": null,
            "width": null
          }
        },
        "ba6d5e902f8347d99a40f46f3e120b2f": {
          "model_module": "@jupyter-widgets/controls",
          "model_name": "DescriptionStyleModel",
          "model_module_version": "1.5.0",
          "state": {
            "_model_module": "@jupyter-widgets/controls",
            "_model_module_version": "1.5.0",
            "_model_name": "DescriptionStyleModel",
            "_view_count": null,
            "_view_module": "@jupyter-widgets/base",
            "_view_module_version": "1.2.0",
            "_view_name": "StyleView",
            "description_width": ""
          }
        },
        "1bf72595811d40d88419243fea34653c": {
          "model_module": "@jupyter-widgets/controls",
          "model_name": "HBoxModel",
          "model_module_version": "1.5.0",
          "state": {
            "_dom_classes": [],
            "_model_module": "@jupyter-widgets/controls",
            "_model_module_version": "1.5.0",
            "_model_name": "HBoxModel",
            "_view_count": null,
            "_view_module": "@jupyter-widgets/controls",
            "_view_module_version": "1.5.0",
            "_view_name": "HBoxView",
            "box_style": "",
            "children": [
              "IPY_MODEL_1b7e36ebcc8d4040a014e0bb0fa3d87c",
              "IPY_MODEL_5f8ca157c7424eb28771d29ca658a6bf",
              "IPY_MODEL_6ff375b37d974ac5a94293489e899da4"
            ],
            "layout": "IPY_MODEL_bd3fb265bcce42d58b40829198bb3991"
          }
        },
        "1b7e36ebcc8d4040a014e0bb0fa3d87c": {
          "model_module": "@jupyter-widgets/controls",
          "model_name": "HTMLModel",
          "model_module_version": "1.5.0",
          "state": {
            "_dom_classes": [],
            "_model_module": "@jupyter-widgets/controls",
            "_model_module_version": "1.5.0",
            "_model_name": "HTMLModel",
            "_view_count": null,
            "_view_module": "@jupyter-widgets/controls",
            "_view_module_version": "1.5.0",
            "_view_name": "HTMLView",
            "description": "",
            "description_tooltip": null,
            "layout": "IPY_MODEL_d330e854c45d4e9e80c66e1da7a5bf7a",
            "placeholder": "​",
            "style": "IPY_MODEL_ebce9bbd63a3412d8052aa30703a9691",
            "value": "pytorch_model-00001-of-00002.bin: 100%"
          }
        },
        "5f8ca157c7424eb28771d29ca658a6bf": {
          "model_module": "@jupyter-widgets/controls",
          "model_name": "FloatProgressModel",
          "model_module_version": "1.5.0",
          "state": {
            "_dom_classes": [],
            "_model_module": "@jupyter-widgets/controls",
            "_model_module_version": "1.5.0",
            "_model_name": "FloatProgressModel",
            "_view_count": null,
            "_view_module": "@jupyter-widgets/controls",
            "_view_module_version": "1.5.0",
            "_view_name": "ProgressView",
            "bar_style": "success",
            "description": "",
            "description_tooltip": null,
            "layout": "IPY_MODEL_e320940633f74d71b5566deef0681d69",
            "max": 9951028193,
            "min": 0,
            "orientation": "horizontal",
            "style": "IPY_MODEL_8f50dd3441b94383b96c212daf162413",
            "value": 9951028193
          }
        },
        "6ff375b37d974ac5a94293489e899da4": {
          "model_module": "@jupyter-widgets/controls",
          "model_name": "HTMLModel",
          "model_module_version": "1.5.0",
          "state": {
            "_dom_classes": [],
            "_model_module": "@jupyter-widgets/controls",
            "_model_module_version": "1.5.0",
            "_model_name": "HTMLModel",
            "_view_count": null,
            "_view_module": "@jupyter-widgets/controls",
            "_view_module_version": "1.5.0",
            "_view_name": "HTMLView",
            "description": "",
            "description_tooltip": null,
            "layout": "IPY_MODEL_efd8e8dca1424a288f33f11cb457a1e8",
            "placeholder": "​",
            "style": "IPY_MODEL_d862e1c0a5e940e6af3082a39bfc49a9",
            "value": " 9.95G/9.95G [01:13&lt;00:00, 153MB/s]"
          }
        },
        "bd3fb265bcce42d58b40829198bb3991": {
          "model_module": "@jupyter-widgets/base",
          "model_name": "LayoutModel",
          "model_module_version": "1.2.0",
          "state": {
            "_model_module": "@jupyter-widgets/base",
            "_model_module_version": "1.2.0",
            "_model_name": "LayoutModel",
            "_view_count": null,
            "_view_module": "@jupyter-widgets/base",
            "_view_module_version": "1.2.0",
            "_view_name": "LayoutView",
            "align_content": null,
            "align_items": null,
            "align_self": null,
            "border": null,
            "bottom": null,
            "display": null,
            "flex": null,
            "flex_flow": null,
            "grid_area": null,
            "grid_auto_columns": null,
            "grid_auto_flow": null,
            "grid_auto_rows": null,
            "grid_column": null,
            "grid_gap": null,
            "grid_row": null,
            "grid_template_areas": null,
            "grid_template_columns": null,
            "grid_template_rows": null,
            "height": null,
            "justify_content": null,
            "justify_items": null,
            "left": null,
            "margin": null,
            "max_height": null,
            "max_width": null,
            "min_height": null,
            "min_width": null,
            "object_fit": null,
            "object_position": null,
            "order": null,
            "overflow": null,
            "overflow_x": null,
            "overflow_y": null,
            "padding": null,
            "right": null,
            "top": null,
            "visibility": null,
            "width": null
          }
        },
        "d330e854c45d4e9e80c66e1da7a5bf7a": {
          "model_module": "@jupyter-widgets/base",
          "model_name": "LayoutModel",
          "model_module_version": "1.2.0",
          "state": {
            "_model_module": "@jupyter-widgets/base",
            "_model_module_version": "1.2.0",
            "_model_name": "LayoutModel",
            "_view_count": null,
            "_view_module": "@jupyter-widgets/base",
            "_view_module_version": "1.2.0",
            "_view_name": "LayoutView",
            "align_content": null,
            "align_items": null,
            "align_self": null,
            "border": null,
            "bottom": null,
            "display": null,
            "flex": null,
            "flex_flow": null,
            "grid_area": null,
            "grid_auto_columns": null,
            "grid_auto_flow": null,
            "grid_auto_rows": null,
            "grid_column": null,
            "grid_gap": null,
            "grid_row": null,
            "grid_template_areas": null,
            "grid_template_columns": null,
            "grid_template_rows": null,
            "height": null,
            "justify_content": null,
            "justify_items": null,
            "left": null,
            "margin": null,
            "max_height": null,
            "max_width": null,
            "min_height": null,
            "min_width": null,
            "object_fit": null,
            "object_position": null,
            "order": null,
            "overflow": null,
            "overflow_x": null,
            "overflow_y": null,
            "padding": null,
            "right": null,
            "top": null,
            "visibility": null,
            "width": null
          }
        },
        "ebce9bbd63a3412d8052aa30703a9691": {
          "model_module": "@jupyter-widgets/controls",
          "model_name": "DescriptionStyleModel",
          "model_module_version": "1.5.0",
          "state": {
            "_model_module": "@jupyter-widgets/controls",
            "_model_module_version": "1.5.0",
            "_model_name": "DescriptionStyleModel",
            "_view_count": null,
            "_view_module": "@jupyter-widgets/base",
            "_view_module_version": "1.2.0",
            "_view_name": "StyleView",
            "description_width": ""
          }
        },
        "e320940633f74d71b5566deef0681d69": {
          "model_module": "@jupyter-widgets/base",
          "model_name": "LayoutModel",
          "model_module_version": "1.2.0",
          "state": {
            "_model_module": "@jupyter-widgets/base",
            "_model_module_version": "1.2.0",
            "_model_name": "LayoutModel",
            "_view_count": null,
            "_view_module": "@jupyter-widgets/base",
            "_view_module_version": "1.2.0",
            "_view_name": "LayoutView",
            "align_content": null,
            "align_items": null,
            "align_self": null,
            "border": null,
            "bottom": null,
            "display": null,
            "flex": null,
            "flex_flow": null,
            "grid_area": null,
            "grid_auto_columns": null,
            "grid_auto_flow": null,
            "grid_auto_rows": null,
            "grid_column": null,
            "grid_gap": null,
            "grid_row": null,
            "grid_template_areas": null,
            "grid_template_columns": null,
            "grid_template_rows": null,
            "height": null,
            "justify_content": null,
            "justify_items": null,
            "left": null,
            "margin": null,
            "max_height": null,
            "max_width": null,
            "min_height": null,
            "min_width": null,
            "object_fit": null,
            "object_position": null,
            "order": null,
            "overflow": null,
            "overflow_x": null,
            "overflow_y": null,
            "padding": null,
            "right": null,
            "top": null,
            "visibility": null,
            "width": null
          }
        },
        "8f50dd3441b94383b96c212daf162413": {
          "model_module": "@jupyter-widgets/controls",
          "model_name": "ProgressStyleModel",
          "model_module_version": "1.5.0",
          "state": {
            "_model_module": "@jupyter-widgets/controls",
            "_model_module_version": "1.5.0",
            "_model_name": "ProgressStyleModel",
            "_view_count": null,
            "_view_module": "@jupyter-widgets/base",
            "_view_module_version": "1.2.0",
            "_view_name": "StyleView",
            "bar_color": null,
            "description_width": ""
          }
        },
        "efd8e8dca1424a288f33f11cb457a1e8": {
          "model_module": "@jupyter-widgets/base",
          "model_name": "LayoutModel",
          "model_module_version": "1.2.0",
          "state": {
            "_model_module": "@jupyter-widgets/base",
            "_model_module_version": "1.2.0",
            "_model_name": "LayoutModel",
            "_view_count": null,
            "_view_module": "@jupyter-widgets/base",
            "_view_module_version": "1.2.0",
            "_view_name": "LayoutView",
            "align_content": null,
            "align_items": null,
            "align_self": null,
            "border": null,
            "bottom": null,
            "display": null,
            "flex": null,
            "flex_flow": null,
            "grid_area": null,
            "grid_auto_columns": null,
            "grid_auto_flow": null,
            "grid_auto_rows": null,
            "grid_column": null,
            "grid_gap": null,
            "grid_row": null,
            "grid_template_areas": null,
            "grid_template_columns": null,
            "grid_template_rows": null,
            "height": null,
            "justify_content": null,
            "justify_items": null,
            "left": null,
            "margin": null,
            "max_height": null,
            "max_width": null,
            "min_height": null,
            "min_width": null,
            "object_fit": null,
            "object_position": null,
            "order": null,
            "overflow": null,
            "overflow_x": null,
            "overflow_y": null,
            "padding": null,
            "right": null,
            "top": null,
            "visibility": null,
            "width": null
          }
        },
        "d862e1c0a5e940e6af3082a39bfc49a9": {
          "model_module": "@jupyter-widgets/controls",
          "model_name": "DescriptionStyleModel",
          "model_module_version": "1.5.0",
          "state": {
            "_model_module": "@jupyter-widgets/controls",
            "_model_module_version": "1.5.0",
            "_model_name": "DescriptionStyleModel",
            "_view_count": null,
            "_view_module": "@jupyter-widgets/base",
            "_view_module_version": "1.2.0",
            "_view_name": "StyleView",
            "description_width": ""
          }
        },
        "dab383cb5ed349979e9f9e389abe6965": {
          "model_module": "@jupyter-widgets/controls",
          "model_name": "HBoxModel",
          "model_module_version": "1.5.0",
          "state": {
            "_dom_classes": [],
            "_model_module": "@jupyter-widgets/controls",
            "_model_module_version": "1.5.0",
            "_model_name": "HBoxModel",
            "_view_count": null,
            "_view_module": "@jupyter-widgets/controls",
            "_view_module_version": "1.5.0",
            "_view_name": "HBoxView",
            "box_style": "",
            "children": [
              "IPY_MODEL_a82a1db76aa94699940b90c39c020d0b",
              "IPY_MODEL_d5be02b1028f457b9ae6bcd87a048fed",
              "IPY_MODEL_e29e1db69df641c4b98dbbfc879927d5"
            ],
            "layout": "IPY_MODEL_9e99a30773584a358b6c1581f313b80b"
          }
        },
        "a82a1db76aa94699940b90c39c020d0b": {
          "model_module": "@jupyter-widgets/controls",
          "model_name": "HTMLModel",
          "model_module_version": "1.5.0",
          "state": {
            "_dom_classes": [],
            "_model_module": "@jupyter-widgets/controls",
            "_model_module_version": "1.5.0",
            "_model_name": "HTMLModel",
            "_view_count": null,
            "_view_module": "@jupyter-widgets/controls",
            "_view_module_version": "1.5.0",
            "_view_name": "HTMLView",
            "description": "",
            "description_tooltip": null,
            "layout": "IPY_MODEL_7e7d389f5e9c4750aaca6e26dafa52ca",
            "placeholder": "​",
            "style": "IPY_MODEL_cc3cef6ed3994b34b90e35fb07b5f5cf",
            "value": "pytorch_model-00002-of-00002.bin: 100%"
          }
        },
        "d5be02b1028f457b9ae6bcd87a048fed": {
          "model_module": "@jupyter-widgets/controls",
          "model_name": "FloatProgressModel",
          "model_module_version": "1.5.0",
          "state": {
            "_dom_classes": [],
            "_model_module": "@jupyter-widgets/controls",
            "_model_module_version": "1.5.0",
            "_model_name": "FloatProgressModel",
            "_view_count": null,
            "_view_module": "@jupyter-widgets/controls",
            "_view_module_version": "1.5.0",
            "_view_name": "ProgressView",
            "bar_style": "success",
            "description": "",
            "description_tooltip": null,
            "layout": "IPY_MODEL_fadc8c9378ac4fea9471715f99213f28",
            "max": 4483421659,
            "min": 0,
            "orientation": "horizontal",
            "style": "IPY_MODEL_611ab6483d884efd952f20ddce6a5293",
            "value": 4483421659
          }
        },
        "e29e1db69df641c4b98dbbfc879927d5": {
          "model_module": "@jupyter-widgets/controls",
          "model_name": "HTMLModel",
          "model_module_version": "1.5.0",
          "state": {
            "_dom_classes": [],
            "_model_module": "@jupyter-widgets/controls",
            "_model_module_version": "1.5.0",
            "_model_name": "HTMLModel",
            "_view_count": null,
            "_view_module": "@jupyter-widgets/controls",
            "_view_module_version": "1.5.0",
            "_view_name": "HTMLView",
            "description": "",
            "description_tooltip": null,
            "layout": "IPY_MODEL_bc42d36e52f64e8985f7ab65a844a34a",
            "placeholder": "​",
            "style": "IPY_MODEL_641b8fe4260c443691ab880ff85e7d6e",
            "value": " 4.48G/4.48G [00:26&lt;00:00, 231MB/s]"
          }
        },
        "9e99a30773584a358b6c1581f313b80b": {
          "model_module": "@jupyter-widgets/base",
          "model_name": "LayoutModel",
          "model_module_version": "1.2.0",
          "state": {
            "_model_module": "@jupyter-widgets/base",
            "_model_module_version": "1.2.0",
            "_model_name": "LayoutModel",
            "_view_count": null,
            "_view_module": "@jupyter-widgets/base",
            "_view_module_version": "1.2.0",
            "_view_name": "LayoutView",
            "align_content": null,
            "align_items": null,
            "align_self": null,
            "border": null,
            "bottom": null,
            "display": null,
            "flex": null,
            "flex_flow": null,
            "grid_area": null,
            "grid_auto_columns": null,
            "grid_auto_flow": null,
            "grid_auto_rows": null,
            "grid_column": null,
            "grid_gap": null,
            "grid_row": null,
            "grid_template_areas": null,
            "grid_template_columns": null,
            "grid_template_rows": null,
            "height": null,
            "justify_content": null,
            "justify_items": null,
            "left": null,
            "margin": null,
            "max_height": null,
            "max_width": null,
            "min_height": null,
            "min_width": null,
            "object_fit": null,
            "object_position": null,
            "order": null,
            "overflow": null,
            "overflow_x": null,
            "overflow_y": null,
            "padding": null,
            "right": null,
            "top": null,
            "visibility": null,
            "width": null
          }
        },
        "7e7d389f5e9c4750aaca6e26dafa52ca": {
          "model_module": "@jupyter-widgets/base",
          "model_name": "LayoutModel",
          "model_module_version": "1.2.0",
          "state": {
            "_model_module": "@jupyter-widgets/base",
            "_model_module_version": "1.2.0",
            "_model_name": "LayoutModel",
            "_view_count": null,
            "_view_module": "@jupyter-widgets/base",
            "_view_module_version": "1.2.0",
            "_view_name": "LayoutView",
            "align_content": null,
            "align_items": null,
            "align_self": null,
            "border": null,
            "bottom": null,
            "display": null,
            "flex": null,
            "flex_flow": null,
            "grid_area": null,
            "grid_auto_columns": null,
            "grid_auto_flow": null,
            "grid_auto_rows": null,
            "grid_column": null,
            "grid_gap": null,
            "grid_row": null,
            "grid_template_areas": null,
            "grid_template_columns": null,
            "grid_template_rows": null,
            "height": null,
            "justify_content": null,
            "justify_items": null,
            "left": null,
            "margin": null,
            "max_height": null,
            "max_width": null,
            "min_height": null,
            "min_width": null,
            "object_fit": null,
            "object_position": null,
            "order": null,
            "overflow": null,
            "overflow_x": null,
            "overflow_y": null,
            "padding": null,
            "right": null,
            "top": null,
            "visibility": null,
            "width": null
          }
        },
        "cc3cef6ed3994b34b90e35fb07b5f5cf": {
          "model_module": "@jupyter-widgets/controls",
          "model_name": "DescriptionStyleModel",
          "model_module_version": "1.5.0",
          "state": {
            "_model_module": "@jupyter-widgets/controls",
            "_model_module_version": "1.5.0",
            "_model_name": "DescriptionStyleModel",
            "_view_count": null,
            "_view_module": "@jupyter-widgets/base",
            "_view_module_version": "1.2.0",
            "_view_name": "StyleView",
            "description_width": ""
          }
        },
        "fadc8c9378ac4fea9471715f99213f28": {
          "model_module": "@jupyter-widgets/base",
          "model_name": "LayoutModel",
          "model_module_version": "1.2.0",
          "state": {
            "_model_module": "@jupyter-widgets/base",
            "_model_module_version": "1.2.0",
            "_model_name": "LayoutModel",
            "_view_count": null,
            "_view_module": "@jupyter-widgets/base",
            "_view_module_version": "1.2.0",
            "_view_name": "LayoutView",
            "align_content": null,
            "align_items": null,
            "align_self": null,
            "border": null,
            "bottom": null,
            "display": null,
            "flex": null,
            "flex_flow": null,
            "grid_area": null,
            "grid_auto_columns": null,
            "grid_auto_flow": null,
            "grid_auto_rows": null,
            "grid_column": null,
            "grid_gap": null,
            "grid_row": null,
            "grid_template_areas": null,
            "grid_template_columns": null,
            "grid_template_rows": null,
            "height": null,
            "justify_content": null,
            "justify_items": null,
            "left": null,
            "margin": null,
            "max_height": null,
            "max_width": null,
            "min_height": null,
            "min_width": null,
            "object_fit": null,
            "object_position": null,
            "order": null,
            "overflow": null,
            "overflow_x": null,
            "overflow_y": null,
            "padding": null,
            "right": null,
            "top": null,
            "visibility": null,
            "width": null
          }
        },
        "611ab6483d884efd952f20ddce6a5293": {
          "model_module": "@jupyter-widgets/controls",
          "model_name": "ProgressStyleModel",
          "model_module_version": "1.5.0",
          "state": {
            "_model_module": "@jupyter-widgets/controls",
            "_model_module_version": "1.5.0",
            "_model_name": "ProgressStyleModel",
            "_view_count": null,
            "_view_module": "@jupyter-widgets/base",
            "_view_module_version": "1.2.0",
            "_view_name": "StyleView",
            "bar_color": null,
            "description_width": ""
          }
        },
        "bc42d36e52f64e8985f7ab65a844a34a": {
          "model_module": "@jupyter-widgets/base",
          "model_name": "LayoutModel",
          "model_module_version": "1.2.0",
          "state": {
            "_model_module": "@jupyter-widgets/base",
            "_model_module_version": "1.2.0",
            "_model_name": "LayoutModel",
            "_view_count": null,
            "_view_module": "@jupyter-widgets/base",
            "_view_module_version": "1.2.0",
            "_view_name": "LayoutView",
            "align_content": null,
            "align_items": null,
            "align_self": null,
            "border": null,
            "bottom": null,
            "display": null,
            "flex": null,
            "flex_flow": null,
            "grid_area": null,
            "grid_auto_columns": null,
            "grid_auto_flow": null,
            "grid_auto_rows": null,
            "grid_column": null,
            "grid_gap": null,
            "grid_row": null,
            "grid_template_areas": null,
            "grid_template_columns": null,
            "grid_template_rows": null,
            "height": null,
            "justify_content": null,
            "justify_items": null,
            "left": null,
            "margin": null,
            "max_height": null,
            "max_width": null,
            "min_height": null,
            "min_width": null,
            "object_fit": null,
            "object_position": null,
            "order": null,
            "overflow": null,
            "overflow_x": null,
            "overflow_y": null,
            "padding": null,
            "right": null,
            "top": null,
            "visibility": null,
            "width": null
          }
        },
        "641b8fe4260c443691ab880ff85e7d6e": {
          "model_module": "@jupyter-widgets/controls",
          "model_name": "DescriptionStyleModel",
          "model_module_version": "1.5.0",
          "state": {
            "_model_module": "@jupyter-widgets/controls",
            "_model_module_version": "1.5.0",
            "_model_name": "DescriptionStyleModel",
            "_view_count": null,
            "_view_module": "@jupyter-widgets/base",
            "_view_module_version": "1.2.0",
            "_view_name": "StyleView",
            "description_width": ""
          }
        },
        "391c9a0a441449b899de4973c7447a5c": {
          "model_module": "@jupyter-widgets/controls",
          "model_name": "HBoxModel",
          "model_module_version": "1.5.0",
          "state": {
            "_dom_classes": [],
            "_model_module": "@jupyter-widgets/controls",
            "_model_module_version": "1.5.0",
            "_model_name": "HBoxModel",
            "_view_count": null,
            "_view_module": "@jupyter-widgets/controls",
            "_view_module_version": "1.5.0",
            "_view_name": "HBoxView",
            "box_style": "",
            "children": [
              "IPY_MODEL_3fa1d164fa744843962bc2d3cbc15678",
              "IPY_MODEL_e9e2e2aa26094c1788531d869a95cfec",
              "IPY_MODEL_3fccee898c2340a0b35708764941e035"
            ],
            "layout": "IPY_MODEL_19c53855eeef414982e214884c083fad"
          }
        },
        "3fa1d164fa744843962bc2d3cbc15678": {
          "model_module": "@jupyter-widgets/controls",
          "model_name": "HTMLModel",
          "model_module_version": "1.5.0",
          "state": {
            "_dom_classes": [],
            "_model_module": "@jupyter-widgets/controls",
            "_model_module_version": "1.5.0",
            "_model_name": "HTMLModel",
            "_view_count": null,
            "_view_module": "@jupyter-widgets/controls",
            "_view_module_version": "1.5.0",
            "_view_name": "HTMLView",
            "description": "",
            "description_tooltip": null,
            "layout": "IPY_MODEL_d8524319c77b4070969e0ee4cbf50c24",
            "placeholder": "​",
            "style": "IPY_MODEL_89de55dc6b0a448eb0b1d66369318759",
            "value": "Loading checkpoint shards: 100%"
          }
        },
        "e9e2e2aa26094c1788531d869a95cfec": {
          "model_module": "@jupyter-widgets/controls",
          "model_name": "FloatProgressModel",
          "model_module_version": "1.5.0",
          "state": {
            "_dom_classes": [],
            "_model_module": "@jupyter-widgets/controls",
            "_model_module_version": "1.5.0",
            "_model_name": "FloatProgressModel",
            "_view_count": null,
            "_view_module": "@jupyter-widgets/controls",
            "_view_module_version": "1.5.0",
            "_view_name": "ProgressView",
            "bar_style": "success",
            "description": "",
            "description_tooltip": null,
            "layout": "IPY_MODEL_a24e03af51a04460b1f0b7e432ed5027",
            "max": 2,
            "min": 0,
            "orientation": "horizontal",
            "style": "IPY_MODEL_8c204a7a847245df99597218d1591b22",
            "value": 2
          }
        },
        "3fccee898c2340a0b35708764941e035": {
          "model_module": "@jupyter-widgets/controls",
          "model_name": "HTMLModel",
          "model_module_version": "1.5.0",
          "state": {
            "_dom_classes": [],
            "_model_module": "@jupyter-widgets/controls",
            "_model_module_version": "1.5.0",
            "_model_name": "HTMLModel",
            "_view_count": null,
            "_view_module": "@jupyter-widgets/controls",
            "_view_module_version": "1.5.0",
            "_view_name": "HTMLView",
            "description": "",
            "description_tooltip": null,
            "layout": "IPY_MODEL_388eecf704ab40cfad85b487cffc7a3d",
            "placeholder": "​",
            "style": "IPY_MODEL_74f3685beccc4457a40a3170468e5e4c",
            "value": " 2/2 [01:25&lt;00:00, 39.27s/it]"
          }
        },
        "19c53855eeef414982e214884c083fad": {
          "model_module": "@jupyter-widgets/base",
          "model_name": "LayoutModel",
          "model_module_version": "1.2.0",
          "state": {
            "_model_module": "@jupyter-widgets/base",
            "_model_module_version": "1.2.0",
            "_model_name": "LayoutModel",
            "_view_count": null,
            "_view_module": "@jupyter-widgets/base",
            "_view_module_version": "1.2.0",
            "_view_name": "LayoutView",
            "align_content": null,
            "align_items": null,
            "align_self": null,
            "border": null,
            "bottom": null,
            "display": null,
            "flex": null,
            "flex_flow": null,
            "grid_area": null,
            "grid_auto_columns": null,
            "grid_auto_flow": null,
            "grid_auto_rows": null,
            "grid_column": null,
            "grid_gap": null,
            "grid_row": null,
            "grid_template_areas": null,
            "grid_template_columns": null,
            "grid_template_rows": null,
            "height": null,
            "justify_content": null,
            "justify_items": null,
            "left": null,
            "margin": null,
            "max_height": null,
            "max_width": null,
            "min_height": null,
            "min_width": null,
            "object_fit": null,
            "object_position": null,
            "order": null,
            "overflow": null,
            "overflow_x": null,
            "overflow_y": null,
            "padding": null,
            "right": null,
            "top": null,
            "visibility": null,
            "width": null
          }
        },
        "d8524319c77b4070969e0ee4cbf50c24": {
          "model_module": "@jupyter-widgets/base",
          "model_name": "LayoutModel",
          "model_module_version": "1.2.0",
          "state": {
            "_model_module": "@jupyter-widgets/base",
            "_model_module_version": "1.2.0",
            "_model_name": "LayoutModel",
            "_view_count": null,
            "_view_module": "@jupyter-widgets/base",
            "_view_module_version": "1.2.0",
            "_view_name": "LayoutView",
            "align_content": null,
            "align_items": null,
            "align_self": null,
            "border": null,
            "bottom": null,
            "display": null,
            "flex": null,
            "flex_flow": null,
            "grid_area": null,
            "grid_auto_columns": null,
            "grid_auto_flow": null,
            "grid_auto_rows": null,
            "grid_column": null,
            "grid_gap": null,
            "grid_row": null,
            "grid_template_areas": null,
            "grid_template_columns": null,
            "grid_template_rows": null,
            "height": null,
            "justify_content": null,
            "justify_items": null,
            "left": null,
            "margin": null,
            "max_height": null,
            "max_width": null,
            "min_height": null,
            "min_width": null,
            "object_fit": null,
            "object_position": null,
            "order": null,
            "overflow": null,
            "overflow_x": null,
            "overflow_y": null,
            "padding": null,
            "right": null,
            "top": null,
            "visibility": null,
            "width": null
          }
        },
        "89de55dc6b0a448eb0b1d66369318759": {
          "model_module": "@jupyter-widgets/controls",
          "model_name": "DescriptionStyleModel",
          "model_module_version": "1.5.0",
          "state": {
            "_model_module": "@jupyter-widgets/controls",
            "_model_module_version": "1.5.0",
            "_model_name": "DescriptionStyleModel",
            "_view_count": null,
            "_view_module": "@jupyter-widgets/base",
            "_view_module_version": "1.2.0",
            "_view_name": "StyleView",
            "description_width": ""
          }
        },
        "a24e03af51a04460b1f0b7e432ed5027": {
          "model_module": "@jupyter-widgets/base",
          "model_name": "LayoutModel",
          "model_module_version": "1.2.0",
          "state": {
            "_model_module": "@jupyter-widgets/base",
            "_model_module_version": "1.2.0",
            "_model_name": "LayoutModel",
            "_view_count": null,
            "_view_module": "@jupyter-widgets/base",
            "_view_module_version": "1.2.0",
            "_view_name": "LayoutView",
            "align_content": null,
            "align_items": null,
            "align_self": null,
            "border": null,
            "bottom": null,
            "display": null,
            "flex": null,
            "flex_flow": null,
            "grid_area": null,
            "grid_auto_columns": null,
            "grid_auto_flow": null,
            "grid_auto_rows": null,
            "grid_column": null,
            "grid_gap": null,
            "grid_row": null,
            "grid_template_areas": null,
            "grid_template_columns": null,
            "grid_template_rows": null,
            "height": null,
            "justify_content": null,
            "justify_items": null,
            "left": null,
            "margin": null,
            "max_height": null,
            "max_width": null,
            "min_height": null,
            "min_width": null,
            "object_fit": null,
            "object_position": null,
            "order": null,
            "overflow": null,
            "overflow_x": null,
            "overflow_y": null,
            "padding": null,
            "right": null,
            "top": null,
            "visibility": null,
            "width": null
          }
        },
        "8c204a7a847245df99597218d1591b22": {
          "model_module": "@jupyter-widgets/controls",
          "model_name": "ProgressStyleModel",
          "model_module_version": "1.5.0",
          "state": {
            "_model_module": "@jupyter-widgets/controls",
            "_model_module_version": "1.5.0",
            "_model_name": "ProgressStyleModel",
            "_view_count": null,
            "_view_module": "@jupyter-widgets/base",
            "_view_module_version": "1.2.0",
            "_view_name": "StyleView",
            "bar_color": null,
            "description_width": ""
          }
        },
        "388eecf704ab40cfad85b487cffc7a3d": {
          "model_module": "@jupyter-widgets/base",
          "model_name": "LayoutModel",
          "model_module_version": "1.2.0",
          "state": {
            "_model_module": "@jupyter-widgets/base",
            "_model_module_version": "1.2.0",
            "_model_name": "LayoutModel",
            "_view_count": null,
            "_view_module": "@jupyter-widgets/base",
            "_view_module_version": "1.2.0",
            "_view_name": "LayoutView",
            "align_content": null,
            "align_items": null,
            "align_self": null,
            "border": null,
            "bottom": null,
            "display": null,
            "flex": null,
            "flex_flow": null,
            "grid_area": null,
            "grid_auto_columns": null,
            "grid_auto_flow": null,
            "grid_auto_rows": null,
            "grid_column": null,
            "grid_gap": null,
            "grid_row": null,
            "grid_template_areas": null,
            "grid_template_columns": null,
            "grid_template_rows": null,
            "height": null,
            "justify_content": null,
            "justify_items": null,
            "left": null,
            "margin": null,
            "max_height": null,
            "max_width": null,
            "min_height": null,
            "min_width": null,
            "object_fit": null,
            "object_position": null,
            "order": null,
            "overflow": null,
            "overflow_x": null,
            "overflow_y": null,
            "padding": null,
            "right": null,
            "top": null,
            "visibility": null,
            "width": null
          }
        },
        "74f3685beccc4457a40a3170468e5e4c": {
          "model_module": "@jupyter-widgets/controls",
          "model_name": "DescriptionStyleModel",
          "model_module_version": "1.5.0",
          "state": {
            "_model_module": "@jupyter-widgets/controls",
            "_model_module_version": "1.5.0",
            "_model_name": "DescriptionStyleModel",
            "_view_count": null,
            "_view_module": "@jupyter-widgets/base",
            "_view_module_version": "1.2.0",
            "_view_name": "StyleView",
            "description_width": ""
          }
        },
        "e0735c4039c2467f9819cec895bae8bc": {
          "model_module": "@jupyter-widgets/controls",
          "model_name": "HBoxModel",
          "model_module_version": "1.5.0",
          "state": {
            "_dom_classes": [],
            "_model_module": "@jupyter-widgets/controls",
            "_model_module_version": "1.5.0",
            "_model_name": "HBoxModel",
            "_view_count": null,
            "_view_module": "@jupyter-widgets/controls",
            "_view_module_version": "1.5.0",
            "_view_name": "HBoxView",
            "box_style": "",
            "children": [
              "IPY_MODEL_a66961f96857451e80bc795aa14ea9c7",
              "IPY_MODEL_63ebe6307c00491f806f1b5e4040c6cb",
              "IPY_MODEL_b3edc410703e472dba7abcde5dd3853b"
            ],
            "layout": "IPY_MODEL_d7357d3ebb8c4b7782a86bd4a9c3cb46"
          }
        },
        "a66961f96857451e80bc795aa14ea9c7": {
          "model_module": "@jupyter-widgets/controls",
          "model_name": "HTMLModel",
          "model_module_version": "1.5.0",
          "state": {
            "_dom_classes": [],
            "_model_module": "@jupyter-widgets/controls",
            "_model_module_version": "1.5.0",
            "_model_name": "HTMLModel",
            "_view_count": null,
            "_view_module": "@jupyter-widgets/controls",
            "_view_module_version": "1.5.0",
            "_view_name": "HTMLView",
            "description": "",
            "description_tooltip": null,
            "layout": "IPY_MODEL_8e6e88ca190941308233e65a35fd101f",
            "placeholder": "​",
            "style": "IPY_MODEL_8dd4cf5e60fa4c7884e39bf3b5b0e780",
            "value": "generation_config.json: 100%"
          }
        },
        "63ebe6307c00491f806f1b5e4040c6cb": {
          "model_module": "@jupyter-widgets/controls",
          "model_name": "FloatProgressModel",
          "model_module_version": "1.5.0",
          "state": {
            "_dom_classes": [],
            "_model_module": "@jupyter-widgets/controls",
            "_model_module_version": "1.5.0",
            "_model_name": "FloatProgressModel",
            "_view_count": null,
            "_view_module": "@jupyter-widgets/controls",
            "_view_module_version": "1.5.0",
            "_view_name": "ProgressView",
            "bar_style": "success",
            "description": "",
            "description_tooltip": null,
            "layout": "IPY_MODEL_fc9a04aa94f3490a8cf185af20c95e8e",
            "max": 117,
            "min": 0,
            "orientation": "horizontal",
            "style": "IPY_MODEL_e7d22496cd6240b090820a2b7f7e275b",
            "value": 117
          }
        },
        "b3edc410703e472dba7abcde5dd3853b": {
          "model_module": "@jupyter-widgets/controls",
          "model_name": "HTMLModel",
          "model_module_version": "1.5.0",
          "state": {
            "_dom_classes": [],
            "_model_module": "@jupyter-widgets/controls",
            "_model_module_version": "1.5.0",
            "_model_name": "HTMLModel",
            "_view_count": null,
            "_view_module": "@jupyter-widgets/controls",
            "_view_module_version": "1.5.0",
            "_view_name": "HTMLView",
            "description": "",
            "description_tooltip": null,
            "layout": "IPY_MODEL_ac968d3ce3e840f39efaf0664d9c7d09",
            "placeholder": "​",
            "style": "IPY_MODEL_208ee4a2f4b8426e86f8020d18114089",
            "value": " 117/117 [00:00&lt;00:00, 8.83kB/s]"
          }
        },
        "d7357d3ebb8c4b7782a86bd4a9c3cb46": {
          "model_module": "@jupyter-widgets/base",
          "model_name": "LayoutModel",
          "model_module_version": "1.2.0",
          "state": {
            "_model_module": "@jupyter-widgets/base",
            "_model_module_version": "1.2.0",
            "_model_name": "LayoutModel",
            "_view_count": null,
            "_view_module": "@jupyter-widgets/base",
            "_view_module_version": "1.2.0",
            "_view_name": "LayoutView",
            "align_content": null,
            "align_items": null,
            "align_self": null,
            "border": null,
            "bottom": null,
            "display": null,
            "flex": null,
            "flex_flow": null,
            "grid_area": null,
            "grid_auto_columns": null,
            "grid_auto_flow": null,
            "grid_auto_rows": null,
            "grid_column": null,
            "grid_gap": null,
            "grid_row": null,
            "grid_template_areas": null,
            "grid_template_columns": null,
            "grid_template_rows": null,
            "height": null,
            "justify_content": null,
            "justify_items": null,
            "left": null,
            "margin": null,
            "max_height": null,
            "max_width": null,
            "min_height": null,
            "min_width": null,
            "object_fit": null,
            "object_position": null,
            "order": null,
            "overflow": null,
            "overflow_x": null,
            "overflow_y": null,
            "padding": null,
            "right": null,
            "top": null,
            "visibility": null,
            "width": null
          }
        },
        "8e6e88ca190941308233e65a35fd101f": {
          "model_module": "@jupyter-widgets/base",
          "model_name": "LayoutModel",
          "model_module_version": "1.2.0",
          "state": {
            "_model_module": "@jupyter-widgets/base",
            "_model_module_version": "1.2.0",
            "_model_name": "LayoutModel",
            "_view_count": null,
            "_view_module": "@jupyter-widgets/base",
            "_view_module_version": "1.2.0",
            "_view_name": "LayoutView",
            "align_content": null,
            "align_items": null,
            "align_self": null,
            "border": null,
            "bottom": null,
            "display": null,
            "flex": null,
            "flex_flow": null,
            "grid_area": null,
            "grid_auto_columns": null,
            "grid_auto_flow": null,
            "grid_auto_rows": null,
            "grid_column": null,
            "grid_gap": null,
            "grid_row": null,
            "grid_template_areas": null,
            "grid_template_columns": null,
            "grid_template_rows": null,
            "height": null,
            "justify_content": null,
            "justify_items": null,
            "left": null,
            "margin": null,
            "max_height": null,
            "max_width": null,
            "min_height": null,
            "min_width": null,
            "object_fit": null,
            "object_position": null,
            "order": null,
            "overflow": null,
            "overflow_x": null,
            "overflow_y": null,
            "padding": null,
            "right": null,
            "top": null,
            "visibility": null,
            "width": null
          }
        },
        "8dd4cf5e60fa4c7884e39bf3b5b0e780": {
          "model_module": "@jupyter-widgets/controls",
          "model_name": "DescriptionStyleModel",
          "model_module_version": "1.5.0",
          "state": {
            "_model_module": "@jupyter-widgets/controls",
            "_model_module_version": "1.5.0",
            "_model_name": "DescriptionStyleModel",
            "_view_count": null,
            "_view_module": "@jupyter-widgets/base",
            "_view_module_version": "1.2.0",
            "_view_name": "StyleView",
            "description_width": ""
          }
        },
        "fc9a04aa94f3490a8cf185af20c95e8e": {
          "model_module": "@jupyter-widgets/base",
          "model_name": "LayoutModel",
          "model_module_version": "1.2.0",
          "state": {
            "_model_module": "@jupyter-widgets/base",
            "_model_module_version": "1.2.0",
            "_model_name": "LayoutModel",
            "_view_count": null,
            "_view_module": "@jupyter-widgets/base",
            "_view_module_version": "1.2.0",
            "_view_name": "LayoutView",
            "align_content": null,
            "align_items": null,
            "align_self": null,
            "border": null,
            "bottom": null,
            "display": null,
            "flex": null,
            "flex_flow": null,
            "grid_area": null,
            "grid_auto_columns": null,
            "grid_auto_flow": null,
            "grid_auto_rows": null,
            "grid_column": null,
            "grid_gap": null,
            "grid_row": null,
            "grid_template_areas": null,
            "grid_template_columns": null,
            "grid_template_rows": null,
            "height": null,
            "justify_content": null,
            "justify_items": null,
            "left": null,
            "margin": null,
            "max_height": null,
            "max_width": null,
            "min_height": null,
            "min_width": null,
            "object_fit": null,
            "object_position": null,
            "order": null,
            "overflow": null,
            "overflow_x": null,
            "overflow_y": null,
            "padding": null,
            "right": null,
            "top": null,
            "visibility": null,
            "width": null
          }
        },
        "e7d22496cd6240b090820a2b7f7e275b": {
          "model_module": "@jupyter-widgets/controls",
          "model_name": "ProgressStyleModel",
          "model_module_version": "1.5.0",
          "state": {
            "_model_module": "@jupyter-widgets/controls",
            "_model_module_version": "1.5.0",
            "_model_name": "ProgressStyleModel",
            "_view_count": null,
            "_view_module": "@jupyter-widgets/base",
            "_view_module_version": "1.2.0",
            "_view_name": "StyleView",
            "bar_color": null,
            "description_width": ""
          }
        },
        "ac968d3ce3e840f39efaf0664d9c7d09": {
          "model_module": "@jupyter-widgets/base",
          "model_name": "LayoutModel",
          "model_module_version": "1.2.0",
          "state": {
            "_model_module": "@jupyter-widgets/base",
            "_model_module_version": "1.2.0",
            "_model_name": "LayoutModel",
            "_view_count": null,
            "_view_module": "@jupyter-widgets/base",
            "_view_module_version": "1.2.0",
            "_view_name": "LayoutView",
            "align_content": null,
            "align_items": null,
            "align_self": null,
            "border": null,
            "bottom": null,
            "display": null,
            "flex": null,
            "flex_flow": null,
            "grid_area": null,
            "grid_auto_columns": null,
            "grid_auto_flow": null,
            "grid_auto_rows": null,
            "grid_column": null,
            "grid_gap": null,
            "grid_row": null,
            "grid_template_areas": null,
            "grid_template_columns": null,
            "grid_template_rows": null,
            "height": null,
            "justify_content": null,
            "justify_items": null,
            "left": null,
            "margin": null,
            "max_height": null,
            "max_width": null,
            "min_height": null,
            "min_width": null,
            "object_fit": null,
            "object_position": null,
            "order": null,
            "overflow": null,
            "overflow_x": null,
            "overflow_y": null,
            "padding": null,
            "right": null,
            "top": null,
            "visibility": null,
            "width": null
          }
        },
        "208ee4a2f4b8426e86f8020d18114089": {
          "model_module": "@jupyter-widgets/controls",
          "model_name": "DescriptionStyleModel",
          "model_module_version": "1.5.0",
          "state": {
            "_model_module": "@jupyter-widgets/controls",
            "_model_module_version": "1.5.0",
            "_model_name": "DescriptionStyleModel",
            "_view_count": null,
            "_view_module": "@jupyter-widgets/base",
            "_view_module_version": "1.2.0",
            "_view_name": "StyleView",
            "description_width": ""
          }
        },
        "f6760da3faf847939f013ac4e734a150": {
          "model_module": "@jupyter-widgets/controls",
          "model_name": "HBoxModel",
          "model_module_version": "1.5.0",
          "state": {
            "_dom_classes": [],
            "_model_module": "@jupyter-widgets/controls",
            "_model_module_version": "1.5.0",
            "_model_name": "HBoxModel",
            "_view_count": null,
            "_view_module": "@jupyter-widgets/controls",
            "_view_module_version": "1.5.0",
            "_view_name": "HBoxView",
            "box_style": "",
            "children": [
              "IPY_MODEL_392db038995740678f0e5de10955f8f9",
              "IPY_MODEL_dfaa07a447724f1e869e73bef929582b",
              "IPY_MODEL_1cabc15c72b24eb5953c022412d55d8a"
            ],
            "layout": "IPY_MODEL_210b1d81d3c54a2b96eadd95f7627cf9"
          }
        },
        "392db038995740678f0e5de10955f8f9": {
          "model_module": "@jupyter-widgets/controls",
          "model_name": "HTMLModel",
          "model_module_version": "1.5.0",
          "state": {
            "_dom_classes": [],
            "_model_module": "@jupyter-widgets/controls",
            "_model_module_version": "1.5.0",
            "_model_name": "HTMLModel",
            "_view_count": null,
            "_view_module": "@jupyter-widgets/controls",
            "_view_module_version": "1.5.0",
            "_view_name": "HTMLView",
            "description": "",
            "description_tooltip": null,
            "layout": "IPY_MODEL_dca433edf1ec4db4a941d6890e8e1afd",
            "placeholder": "​",
            "style": "IPY_MODEL_15c1ae2cc40042bfac7f7f4fc7958f2d",
            "value": "tokenizer_config.json: 100%"
          }
        },
        "dfaa07a447724f1e869e73bef929582b": {
          "model_module": "@jupyter-widgets/controls",
          "model_name": "FloatProgressModel",
          "model_module_version": "1.5.0",
          "state": {
            "_dom_classes": [],
            "_model_module": "@jupyter-widgets/controls",
            "_model_module_version": "1.5.0",
            "_model_name": "FloatProgressModel",
            "_view_count": null,
            "_view_module": "@jupyter-widgets/controls",
            "_view_module_version": "1.5.0",
            "_view_name": "ProgressView",
            "bar_style": "success",
            "description": "",
            "description_tooltip": null,
            "layout": "IPY_MODEL_e50d92e8978c45948c4eb264e0b498eb",
            "max": 287,
            "min": 0,
            "orientation": "horizontal",
            "style": "IPY_MODEL_a4f04f0fd2f74fadbaf43dab7ba06a8c",
            "value": 287
          }
        },
        "1cabc15c72b24eb5953c022412d55d8a": {
          "model_module": "@jupyter-widgets/controls",
          "model_name": "HTMLModel",
          "model_module_version": "1.5.0",
          "state": {
            "_dom_classes": [],
            "_model_module": "@jupyter-widgets/controls",
            "_model_module_version": "1.5.0",
            "_model_name": "HTMLModel",
            "_view_count": null,
            "_view_module": "@jupyter-widgets/controls",
            "_view_module_version": "1.5.0",
            "_view_name": "HTMLView",
            "description": "",
            "description_tooltip": null,
            "layout": "IPY_MODEL_1de1c8f705c84b0d9446eb9ae200cb3a",
            "placeholder": "​",
            "style": "IPY_MODEL_d53cf39804fd41b4b908512311dd29db",
            "value": " 287/287 [00:00&lt;00:00, 18.3kB/s]"
          }
        },
        "210b1d81d3c54a2b96eadd95f7627cf9": {
          "model_module": "@jupyter-widgets/base",
          "model_name": "LayoutModel",
          "model_module_version": "1.2.0",
          "state": {
            "_model_module": "@jupyter-widgets/base",
            "_model_module_version": "1.2.0",
            "_model_name": "LayoutModel",
            "_view_count": null,
            "_view_module": "@jupyter-widgets/base",
            "_view_module_version": "1.2.0",
            "_view_name": "LayoutView",
            "align_content": null,
            "align_items": null,
            "align_self": null,
            "border": null,
            "bottom": null,
            "display": null,
            "flex": null,
            "flex_flow": null,
            "grid_area": null,
            "grid_auto_columns": null,
            "grid_auto_flow": null,
            "grid_auto_rows": null,
            "grid_column": null,
            "grid_gap": null,
            "grid_row": null,
            "grid_template_areas": null,
            "grid_template_columns": null,
            "grid_template_rows": null,
            "height": null,
            "justify_content": null,
            "justify_items": null,
            "left": null,
            "margin": null,
            "max_height": null,
            "max_width": null,
            "min_height": null,
            "min_width": null,
            "object_fit": null,
            "object_position": null,
            "order": null,
            "overflow": null,
            "overflow_x": null,
            "overflow_y": null,
            "padding": null,
            "right": null,
            "top": null,
            "visibility": null,
            "width": null
          }
        },
        "dca433edf1ec4db4a941d6890e8e1afd": {
          "model_module": "@jupyter-widgets/base",
          "model_name": "LayoutModel",
          "model_module_version": "1.2.0",
          "state": {
            "_model_module": "@jupyter-widgets/base",
            "_model_module_version": "1.2.0",
            "_model_name": "LayoutModel",
            "_view_count": null,
            "_view_module": "@jupyter-widgets/base",
            "_view_module_version": "1.2.0",
            "_view_name": "LayoutView",
            "align_content": null,
            "align_items": null,
            "align_self": null,
            "border": null,
            "bottom": null,
            "display": null,
            "flex": null,
            "flex_flow": null,
            "grid_area": null,
            "grid_auto_columns": null,
            "grid_auto_flow": null,
            "grid_auto_rows": null,
            "grid_column": null,
            "grid_gap": null,
            "grid_row": null,
            "grid_template_areas": null,
            "grid_template_columns": null,
            "grid_template_rows": null,
            "height": null,
            "justify_content": null,
            "justify_items": null,
            "left": null,
            "margin": null,
            "max_height": null,
            "max_width": null,
            "min_height": null,
            "min_width": null,
            "object_fit": null,
            "object_position": null,
            "order": null,
            "overflow": null,
            "overflow_x": null,
            "overflow_y": null,
            "padding": null,
            "right": null,
            "top": null,
            "visibility": null,
            "width": null
          }
        },
        "15c1ae2cc40042bfac7f7f4fc7958f2d": {
          "model_module": "@jupyter-widgets/controls",
          "model_name": "DescriptionStyleModel",
          "model_module_version": "1.5.0",
          "state": {
            "_model_module": "@jupyter-widgets/controls",
            "_model_module_version": "1.5.0",
            "_model_name": "DescriptionStyleModel",
            "_view_count": null,
            "_view_module": "@jupyter-widgets/base",
            "_view_module_version": "1.2.0",
            "_view_name": "StyleView",
            "description_width": ""
          }
        },
        "e50d92e8978c45948c4eb264e0b498eb": {
          "model_module": "@jupyter-widgets/base",
          "model_name": "LayoutModel",
          "model_module_version": "1.2.0",
          "state": {
            "_model_module": "@jupyter-widgets/base",
            "_model_module_version": "1.2.0",
            "_model_name": "LayoutModel",
            "_view_count": null,
            "_view_module": "@jupyter-widgets/base",
            "_view_module_version": "1.2.0",
            "_view_name": "LayoutView",
            "align_content": null,
            "align_items": null,
            "align_self": null,
            "border": null,
            "bottom": null,
            "display": null,
            "flex": null,
            "flex_flow": null,
            "grid_area": null,
            "grid_auto_columns": null,
            "grid_auto_flow": null,
            "grid_auto_rows": null,
            "grid_column": null,
            "grid_gap": null,
            "grid_row": null,
            "grid_template_areas": null,
            "grid_template_columns": null,
            "grid_template_rows": null,
            "height": null,
            "justify_content": null,
            "justify_items": null,
            "left": null,
            "margin": null,
            "max_height": null,
            "max_width": null,
            "min_height": null,
            "min_width": null,
            "object_fit": null,
            "object_position": null,
            "order": null,
            "overflow": null,
            "overflow_x": null,
            "overflow_y": null,
            "padding": null,
            "right": null,
            "top": null,
            "visibility": null,
            "width": null
          }
        },
        "a4f04f0fd2f74fadbaf43dab7ba06a8c": {
          "model_module": "@jupyter-widgets/controls",
          "model_name": "ProgressStyleModel",
          "model_module_version": "1.5.0",
          "state": {
            "_model_module": "@jupyter-widgets/controls",
            "_model_module_version": "1.5.0",
            "_model_name": "ProgressStyleModel",
            "_view_count": null,
            "_view_module": "@jupyter-widgets/base",
            "_view_module_version": "1.2.0",
            "_view_name": "StyleView",
            "bar_color": null,
            "description_width": ""
          }
        },
        "1de1c8f705c84b0d9446eb9ae200cb3a": {
          "model_module": "@jupyter-widgets/base",
          "model_name": "LayoutModel",
          "model_module_version": "1.2.0",
          "state": {
            "_model_module": "@jupyter-widgets/base",
            "_model_module_version": "1.2.0",
            "_model_name": "LayoutModel",
            "_view_count": null,
            "_view_module": "@jupyter-widgets/base",
            "_view_module_version": "1.2.0",
            "_view_name": "LayoutView",
            "align_content": null,
            "align_items": null,
            "align_self": null,
            "border": null,
            "bottom": null,
            "display": null,
            "flex": null,
            "flex_flow": null,
            "grid_area": null,
            "grid_auto_columns": null,
            "grid_auto_flow": null,
            "grid_auto_rows": null,
            "grid_column": null,
            "grid_gap": null,
            "grid_row": null,
            "grid_template_areas": null,
            "grid_template_columns": null,
            "grid_template_rows": null,
            "height": null,
            "justify_content": null,
            "justify_items": null,
            "left": null,
            "margin": null,
            "max_height": null,
            "max_width": null,
            "min_height": null,
            "min_width": null,
            "object_fit": null,
            "object_position": null,
            "order": null,
            "overflow": null,
            "overflow_x": null,
            "overflow_y": null,
            "padding": null,
            "right": null,
            "top": null,
            "visibility": null,
            "width": null
          }
        },
        "d53cf39804fd41b4b908512311dd29db": {
          "model_module": "@jupyter-widgets/controls",
          "model_name": "DescriptionStyleModel",
          "model_module_version": "1.5.0",
          "state": {
            "_model_module": "@jupyter-widgets/controls",
            "_model_module_version": "1.5.0",
            "_model_name": "DescriptionStyleModel",
            "_view_count": null,
            "_view_module": "@jupyter-widgets/base",
            "_view_module_version": "1.2.0",
            "_view_name": "StyleView",
            "description_width": ""
          }
        },
        "1c313010cfa74caaa0adf1b957aea9de": {
          "model_module": "@jupyter-widgets/controls",
          "model_name": "HBoxModel",
          "model_module_version": "1.5.0",
          "state": {
            "_dom_classes": [],
            "_model_module": "@jupyter-widgets/controls",
            "_model_module_version": "1.5.0",
            "_model_name": "HBoxModel",
            "_view_count": null,
            "_view_module": "@jupyter-widgets/controls",
            "_view_module_version": "1.5.0",
            "_view_name": "HBoxView",
            "box_style": "",
            "children": [
              "IPY_MODEL_dcf603086be74668a4903fdcf754d738",
              "IPY_MODEL_23996bdc626241c9b7363bce9ebe8929",
              "IPY_MODEL_f712c46d957f48d58bed363502268080"
            ],
            "layout": "IPY_MODEL_52fa3ecf831c407bb27011a37971564b"
          }
        },
        "dcf603086be74668a4903fdcf754d738": {
          "model_module": "@jupyter-widgets/controls",
          "model_name": "HTMLModel",
          "model_module_version": "1.5.0",
          "state": {
            "_dom_classes": [],
            "_model_module": "@jupyter-widgets/controls",
            "_model_module_version": "1.5.0",
            "_model_name": "HTMLModel",
            "_view_count": null,
            "_view_module": "@jupyter-widgets/controls",
            "_view_module_version": "1.5.0",
            "_view_name": "HTMLView",
            "description": "",
            "description_tooltip": null,
            "layout": "IPY_MODEL_7d38c0a87e52406fae3ec2ed861f76a3",
            "placeholder": "​",
            "style": "IPY_MODEL_df553a945e5046678633106a5d0ea6aa",
            "value": "tokenizer.json: 100%"
          }
        },
        "23996bdc626241c9b7363bce9ebe8929": {
          "model_module": "@jupyter-widgets/controls",
          "model_name": "FloatProgressModel",
          "model_module_version": "1.5.0",
          "state": {
            "_dom_classes": [],
            "_model_module": "@jupyter-widgets/controls",
            "_model_module_version": "1.5.0",
            "_model_name": "FloatProgressModel",
            "_view_count": null,
            "_view_module": "@jupyter-widgets/controls",
            "_view_module_version": "1.5.0",
            "_view_name": "ProgressView",
            "bar_style": "success",
            "description": "",
            "description_tooltip": null,
            "layout": "IPY_MODEL_6316abed31eb430cb9ba94a61041dbcf",
            "max": 2734130,
            "min": 0,
            "orientation": "horizontal",
            "style": "IPY_MODEL_9eeb0c8d09bd4813ba8ae495e36a6014",
            "value": 2734130
          }
        },
        "f712c46d957f48d58bed363502268080": {
          "model_module": "@jupyter-widgets/controls",
          "model_name": "HTMLModel",
          "model_module_version": "1.5.0",
          "state": {
            "_dom_classes": [],
            "_model_module": "@jupyter-widgets/controls",
            "_model_module_version": "1.5.0",
            "_model_name": "HTMLModel",
            "_view_count": null,
            "_view_module": "@jupyter-widgets/controls",
            "_view_module_version": "1.5.0",
            "_view_name": "HTMLView",
            "description": "",
            "description_tooltip": null,
            "layout": "IPY_MODEL_a378175cb2274ac98f6e1360285e8989",
            "placeholder": "​",
            "style": "IPY_MODEL_0fb8f7f783d3427b9fea11b9d83a247c",
            "value": " 2.73M/2.73M [00:00&lt;00:00, 8.43MB/s]"
          }
        },
        "52fa3ecf831c407bb27011a37971564b": {
          "model_module": "@jupyter-widgets/base",
          "model_name": "LayoutModel",
          "model_module_version": "1.2.0",
          "state": {
            "_model_module": "@jupyter-widgets/base",
            "_model_module_version": "1.2.0",
            "_model_name": "LayoutModel",
            "_view_count": null,
            "_view_module": "@jupyter-widgets/base",
            "_view_module_version": "1.2.0",
            "_view_name": "LayoutView",
            "align_content": null,
            "align_items": null,
            "align_self": null,
            "border": null,
            "bottom": null,
            "display": null,
            "flex": null,
            "flex_flow": null,
            "grid_area": null,
            "grid_auto_columns": null,
            "grid_auto_flow": null,
            "grid_auto_rows": null,
            "grid_column": null,
            "grid_gap": null,
            "grid_row": null,
            "grid_template_areas": null,
            "grid_template_columns": null,
            "grid_template_rows": null,
            "height": null,
            "justify_content": null,
            "justify_items": null,
            "left": null,
            "margin": null,
            "max_height": null,
            "max_width": null,
            "min_height": null,
            "min_width": null,
            "object_fit": null,
            "object_position": null,
            "order": null,
            "overflow": null,
            "overflow_x": null,
            "overflow_y": null,
            "padding": null,
            "right": null,
            "top": null,
            "visibility": null,
            "width": null
          }
        },
        "7d38c0a87e52406fae3ec2ed861f76a3": {
          "model_module": "@jupyter-widgets/base",
          "model_name": "LayoutModel",
          "model_module_version": "1.2.0",
          "state": {
            "_model_module": "@jupyter-widgets/base",
            "_model_module_version": "1.2.0",
            "_model_name": "LayoutModel",
            "_view_count": null,
            "_view_module": "@jupyter-widgets/base",
            "_view_module_version": "1.2.0",
            "_view_name": "LayoutView",
            "align_content": null,
            "align_items": null,
            "align_self": null,
            "border": null,
            "bottom": null,
            "display": null,
            "flex": null,
            "flex_flow": null,
            "grid_area": null,
            "grid_auto_columns": null,
            "grid_auto_flow": null,
            "grid_auto_rows": null,
            "grid_column": null,
            "grid_gap": null,
            "grid_row": null,
            "grid_template_areas": null,
            "grid_template_columns": null,
            "grid_template_rows": null,
            "height": null,
            "justify_content": null,
            "justify_items": null,
            "left": null,
            "margin": null,
            "max_height": null,
            "max_width": null,
            "min_height": null,
            "min_width": null,
            "object_fit": null,
            "object_position": null,
            "order": null,
            "overflow": null,
            "overflow_x": null,
            "overflow_y": null,
            "padding": null,
            "right": null,
            "top": null,
            "visibility": null,
            "width": null
          }
        },
        "df553a945e5046678633106a5d0ea6aa": {
          "model_module": "@jupyter-widgets/controls",
          "model_name": "DescriptionStyleModel",
          "model_module_version": "1.5.0",
          "state": {
            "_model_module": "@jupyter-widgets/controls",
            "_model_module_version": "1.5.0",
            "_model_name": "DescriptionStyleModel",
            "_view_count": null,
            "_view_module": "@jupyter-widgets/base",
            "_view_module_version": "1.2.0",
            "_view_name": "StyleView",
            "description_width": ""
          }
        },
        "6316abed31eb430cb9ba94a61041dbcf": {
          "model_module": "@jupyter-widgets/base",
          "model_name": "LayoutModel",
          "model_module_version": "1.2.0",
          "state": {
            "_model_module": "@jupyter-widgets/base",
            "_model_module_version": "1.2.0",
            "_model_name": "LayoutModel",
            "_view_count": null,
            "_view_module": "@jupyter-widgets/base",
            "_view_module_version": "1.2.0",
            "_view_name": "LayoutView",
            "align_content": null,
            "align_items": null,
            "align_self": null,
            "border": null,
            "bottom": null,
            "display": null,
            "flex": null,
            "flex_flow": null,
            "grid_area": null,
            "grid_auto_columns": null,
            "grid_auto_flow": null,
            "grid_auto_rows": null,
            "grid_column": null,
            "grid_gap": null,
            "grid_row": null,
            "grid_template_areas": null,
            "grid_template_columns": null,
            "grid_template_rows": null,
            "height": null,
            "justify_content": null,
            "justify_items": null,
            "left": null,
            "margin": null,
            "max_height": null,
            "max_width": null,
            "min_height": null,
            "min_width": null,
            "object_fit": null,
            "object_position": null,
            "order": null,
            "overflow": null,
            "overflow_x": null,
            "overflow_y": null,
            "padding": null,
            "right": null,
            "top": null,
            "visibility": null,
            "width": null
          }
        },
        "9eeb0c8d09bd4813ba8ae495e36a6014": {
          "model_module": "@jupyter-widgets/controls",
          "model_name": "ProgressStyleModel",
          "model_module_version": "1.5.0",
          "state": {
            "_model_module": "@jupyter-widgets/controls",
            "_model_module_version": "1.5.0",
            "_model_name": "ProgressStyleModel",
            "_view_count": null,
            "_view_module": "@jupyter-widgets/base",
            "_view_module_version": "1.2.0",
            "_view_name": "StyleView",
            "bar_color": null,
            "description_width": ""
          }
        },
        "a378175cb2274ac98f6e1360285e8989": {
          "model_module": "@jupyter-widgets/base",
          "model_name": "LayoutModel",
          "model_module_version": "1.2.0",
          "state": {
            "_model_module": "@jupyter-widgets/base",
            "_model_module_version": "1.2.0",
            "_model_name": "LayoutModel",
            "_view_count": null,
            "_view_module": "@jupyter-widgets/base",
            "_view_module_version": "1.2.0",
            "_view_name": "LayoutView",
            "align_content": null,
            "align_items": null,
            "align_self": null,
            "border": null,
            "bottom": null,
            "display": null,
            "flex": null,
            "flex_flow": null,
            "grid_area": null,
            "grid_auto_columns": null,
            "grid_auto_flow": null,
            "grid_auto_rows": null,
            "grid_column": null,
            "grid_gap": null,
            "grid_row": null,
            "grid_template_areas": null,
            "grid_template_columns": null,
            "grid_template_rows": null,
            "height": null,
            "justify_content": null,
            "justify_items": null,
            "left": null,
            "margin": null,
            "max_height": null,
            "max_width": null,
            "min_height": null,
            "min_width": null,
            "object_fit": null,
            "object_position": null,
            "order": null,
            "overflow": null,
            "overflow_x": null,
            "overflow_y": null,
            "padding": null,
            "right": null,
            "top": null,
            "visibility": null,
            "width": null
          }
        },
        "0fb8f7f783d3427b9fea11b9d83a247c": {
          "model_module": "@jupyter-widgets/controls",
          "model_name": "DescriptionStyleModel",
          "model_module_version": "1.5.0",
          "state": {
            "_model_module": "@jupyter-widgets/controls",
            "_model_module_version": "1.5.0",
            "_model_name": "DescriptionStyleModel",
            "_view_count": null,
            "_view_module": "@jupyter-widgets/base",
            "_view_module_version": "1.2.0",
            "_view_name": "StyleView",
            "description_width": ""
          }
        },
        "5fde9b60ebdb40ff99ac92cf6c9d183c": {
          "model_module": "@jupyter-widgets/controls",
          "model_name": "HBoxModel",
          "model_module_version": "1.5.0",
          "state": {
            "_dom_classes": [],
            "_model_module": "@jupyter-widgets/controls",
            "_model_module_version": "1.5.0",
            "_model_name": "HBoxModel",
            "_view_count": null,
            "_view_module": "@jupyter-widgets/controls",
            "_view_module_version": "1.5.0",
            "_view_name": "HBoxView",
            "box_style": "",
            "children": [
              "IPY_MODEL_ed72ca63bb2c4da7b691c61c51e38514",
              "IPY_MODEL_671c7735486b46778ae7bacad7883d5d",
              "IPY_MODEL_663cbacc230945ae8f36d6d5f2730b5e"
            ],
            "layout": "IPY_MODEL_c1d11119907f4729a58f495dcf2a8259"
          }
        },
        "ed72ca63bb2c4da7b691c61c51e38514": {
          "model_module": "@jupyter-widgets/controls",
          "model_name": "HTMLModel",
          "model_module_version": "1.5.0",
          "state": {
            "_dom_classes": [],
            "_model_module": "@jupyter-widgets/controls",
            "_model_module_version": "1.5.0",
            "_model_name": "HTMLModel",
            "_view_count": null,
            "_view_module": "@jupyter-widgets/controls",
            "_view_module_version": "1.5.0",
            "_view_name": "HTMLView",
            "description": "",
            "description_tooltip": null,
            "layout": "IPY_MODEL_2ada671229f94142802e62da4206c3be",
            "placeholder": "​",
            "style": "IPY_MODEL_819b94e086ca4553a1395f97f1973aed",
            "value": "special_tokens_map.json: 100%"
          }
        },
        "671c7735486b46778ae7bacad7883d5d": {
          "model_module": "@jupyter-widgets/controls",
          "model_name": "FloatProgressModel",
          "model_module_version": "1.5.0",
          "state": {
            "_dom_classes": [],
            "_model_module": "@jupyter-widgets/controls",
            "_model_module_version": "1.5.0",
            "_model_name": "FloatProgressModel",
            "_view_count": null,
            "_view_module": "@jupyter-widgets/controls",
            "_view_module_version": "1.5.0",
            "_view_name": "ProgressView",
            "bar_style": "success",
            "description": "",
            "description_tooltip": null,
            "layout": "IPY_MODEL_2b138a1ea2484a2ba3f03248bcc7edac",
            "max": 281,
            "min": 0,
            "orientation": "horizontal",
            "style": "IPY_MODEL_77b543d9c2e746ef86660c21d7ac05cd",
            "value": 281
          }
        },
        "663cbacc230945ae8f36d6d5f2730b5e": {
          "model_module": "@jupyter-widgets/controls",
          "model_name": "HTMLModel",
          "model_module_version": "1.5.0",
          "state": {
            "_dom_classes": [],
            "_model_module": "@jupyter-widgets/controls",
            "_model_module_version": "1.5.0",
            "_model_name": "HTMLModel",
            "_view_count": null,
            "_view_module": "@jupyter-widgets/controls",
            "_view_module_version": "1.5.0",
            "_view_name": "HTMLView",
            "description": "",
            "description_tooltip": null,
            "layout": "IPY_MODEL_c5e4f1bccece41b89c66f7952af67eab",
            "placeholder": "​",
            "style": "IPY_MODEL_5cfa677cf14444e7b5f43164ad4af582",
            "value": " 281/281 [00:00&lt;00:00, 17.3kB/s]"
          }
        },
        "c1d11119907f4729a58f495dcf2a8259": {
          "model_module": "@jupyter-widgets/base",
          "model_name": "LayoutModel",
          "model_module_version": "1.2.0",
          "state": {
            "_model_module": "@jupyter-widgets/base",
            "_model_module_version": "1.2.0",
            "_model_name": "LayoutModel",
            "_view_count": null,
            "_view_module": "@jupyter-widgets/base",
            "_view_module_version": "1.2.0",
            "_view_name": "LayoutView",
            "align_content": null,
            "align_items": null,
            "align_self": null,
            "border": null,
            "bottom": null,
            "display": null,
            "flex": null,
            "flex_flow": null,
            "grid_area": null,
            "grid_auto_columns": null,
            "grid_auto_flow": null,
            "grid_auto_rows": null,
            "grid_column": null,
            "grid_gap": null,
            "grid_row": null,
            "grid_template_areas": null,
            "grid_template_columns": null,
            "grid_template_rows": null,
            "height": null,
            "justify_content": null,
            "justify_items": null,
            "left": null,
            "margin": null,
            "max_height": null,
            "max_width": null,
            "min_height": null,
            "min_width": null,
            "object_fit": null,
            "object_position": null,
            "order": null,
            "overflow": null,
            "overflow_x": null,
            "overflow_y": null,
            "padding": null,
            "right": null,
            "top": null,
            "visibility": null,
            "width": null
          }
        },
        "2ada671229f94142802e62da4206c3be": {
          "model_module": "@jupyter-widgets/base",
          "model_name": "LayoutModel",
          "model_module_version": "1.2.0",
          "state": {
            "_model_module": "@jupyter-widgets/base",
            "_model_module_version": "1.2.0",
            "_model_name": "LayoutModel",
            "_view_count": null,
            "_view_module": "@jupyter-widgets/base",
            "_view_module_version": "1.2.0",
            "_view_name": "LayoutView",
            "align_content": null,
            "align_items": null,
            "align_self": null,
            "border": null,
            "bottom": null,
            "display": null,
            "flex": null,
            "flex_flow": null,
            "grid_area": null,
            "grid_auto_columns": null,
            "grid_auto_flow": null,
            "grid_auto_rows": null,
            "grid_column": null,
            "grid_gap": null,
            "grid_row": null,
            "grid_template_areas": null,
            "grid_template_columns": null,
            "grid_template_rows": null,
            "height": null,
            "justify_content": null,
            "justify_items": null,
            "left": null,
            "margin": null,
            "max_height": null,
            "max_width": null,
            "min_height": null,
            "min_width": null,
            "object_fit": null,
            "object_position": null,
            "order": null,
            "overflow": null,
            "overflow_x": null,
            "overflow_y": null,
            "padding": null,
            "right": null,
            "top": null,
            "visibility": null,
            "width": null
          }
        },
        "819b94e086ca4553a1395f97f1973aed": {
          "model_module": "@jupyter-widgets/controls",
          "model_name": "DescriptionStyleModel",
          "model_module_version": "1.5.0",
          "state": {
            "_model_module": "@jupyter-widgets/controls",
            "_model_module_version": "1.5.0",
            "_model_name": "DescriptionStyleModel",
            "_view_count": null,
            "_view_module": "@jupyter-widgets/base",
            "_view_module_version": "1.2.0",
            "_view_name": "StyleView",
            "description_width": ""
          }
        },
        "2b138a1ea2484a2ba3f03248bcc7edac": {
          "model_module": "@jupyter-widgets/base",
          "model_name": "LayoutModel",
          "model_module_version": "1.2.0",
          "state": {
            "_model_module": "@jupyter-widgets/base",
            "_model_module_version": "1.2.0",
            "_model_name": "LayoutModel",
            "_view_count": null,
            "_view_module": "@jupyter-widgets/base",
            "_view_module_version": "1.2.0",
            "_view_name": "LayoutView",
            "align_content": null,
            "align_items": null,
            "align_self": null,
            "border": null,
            "bottom": null,
            "display": null,
            "flex": null,
            "flex_flow": null,
            "grid_area": null,
            "grid_auto_columns": null,
            "grid_auto_flow": null,
            "grid_auto_rows": null,
            "grid_column": null,
            "grid_gap": null,
            "grid_row": null,
            "grid_template_areas": null,
            "grid_template_columns": null,
            "grid_template_rows": null,
            "height": null,
            "justify_content": null,
            "justify_items": null,
            "left": null,
            "margin": null,
            "max_height": null,
            "max_width": null,
            "min_height": null,
            "min_width": null,
            "object_fit": null,
            "object_position": null,
            "order": null,
            "overflow": null,
            "overflow_x": null,
            "overflow_y": null,
            "padding": null,
            "right": null,
            "top": null,
            "visibility": null,
            "width": null
          }
        },
        "77b543d9c2e746ef86660c21d7ac05cd": {
          "model_module": "@jupyter-widgets/controls",
          "model_name": "ProgressStyleModel",
          "model_module_version": "1.5.0",
          "state": {
            "_model_module": "@jupyter-widgets/controls",
            "_model_module_version": "1.5.0",
            "_model_name": "ProgressStyleModel",
            "_view_count": null,
            "_view_module": "@jupyter-widgets/base",
            "_view_module_version": "1.2.0",
            "_view_name": "StyleView",
            "bar_color": null,
            "description_width": ""
          }
        },
        "c5e4f1bccece41b89c66f7952af67eab": {
          "model_module": "@jupyter-widgets/base",
          "model_name": "LayoutModel",
          "model_module_version": "1.2.0",
          "state": {
            "_model_module": "@jupyter-widgets/base",
            "_model_module_version": "1.2.0",
            "_model_name": "LayoutModel",
            "_view_count": null,
            "_view_module": "@jupyter-widgets/base",
            "_view_module_version": "1.2.0",
            "_view_name": "LayoutView",
            "align_content": null,
            "align_items": null,
            "align_self": null,
            "border": null,
            "bottom": null,
            "display": null,
            "flex": null,
            "flex_flow": null,
            "grid_area": null,
            "grid_auto_columns": null,
            "grid_auto_flow": null,
            "grid_auto_rows": null,
            "grid_column": null,
            "grid_gap": null,
            "grid_row": null,
            "grid_template_areas": null,
            "grid_template_columns": null,
            "grid_template_rows": null,
            "height": null,
            "justify_content": null,
            "justify_items": null,
            "left": null,
            "margin": null,
            "max_height": null,
            "max_width": null,
            "min_height": null,
            "min_width": null,
            "object_fit": null,
            "object_position": null,
            "order": null,
            "overflow": null,
            "overflow_x": null,
            "overflow_y": null,
            "padding": null,
            "right": null,
            "top": null,
            "visibility": null,
            "width": null
          }
        },
        "5cfa677cf14444e7b5f43164ad4af582": {
          "model_module": "@jupyter-widgets/controls",
          "model_name": "DescriptionStyleModel",
          "model_module_version": "1.5.0",
          "state": {
            "_model_module": "@jupyter-widgets/controls",
            "_model_module_version": "1.5.0",
            "_model_name": "DescriptionStyleModel",
            "_view_count": null,
            "_view_module": "@jupyter-widgets/base",
            "_view_module_version": "1.2.0",
            "_view_name": "StyleView",
            "description_width": ""
          }
        },
        "4211472cc04640cca852e7cef1ecee2f": {
          "model_module": "@jupyter-widgets/controls",
          "model_name": "HBoxModel",
          "model_module_version": "1.5.0",
          "state": {
            "_dom_classes": [],
            "_model_module": "@jupyter-widgets/controls",
            "_model_module_version": "1.5.0",
            "_model_name": "HBoxModel",
            "_view_count": null,
            "_view_module": "@jupyter-widgets/controls",
            "_view_module_version": "1.5.0",
            "_view_name": "HBoxView",
            "box_style": "",
            "children": [
              "IPY_MODEL_676897711e6247229102d317e08d1a01",
              "IPY_MODEL_aaf28c43489d4adcb60c9f6b74917df9",
              "IPY_MODEL_7260cecd7b954d66b739355ce18a4068"
            ],
            "layout": "IPY_MODEL_7b2990da73f842bc86605f2374fb7242"
          }
        },
        "676897711e6247229102d317e08d1a01": {
          "model_module": "@jupyter-widgets/controls",
          "model_name": "HTMLModel",
          "model_module_version": "1.5.0",
          "state": {
            "_dom_classes": [],
            "_model_module": "@jupyter-widgets/controls",
            "_model_module_version": "1.5.0",
            "_model_name": "HTMLModel",
            "_view_count": null,
            "_view_module": "@jupyter-widgets/controls",
            "_view_module_version": "1.5.0",
            "_view_name": "HTMLView",
            "description": "",
            "description_tooltip": null,
            "layout": "IPY_MODEL_e27bbc64459f44b38d5b49434f803483",
            "placeholder": "​",
            "style": "IPY_MODEL_b31c93211277432d819da4bc65dd9ce4",
            "value": "adapter_model.bin: 100%"
          }
        },
        "aaf28c43489d4adcb60c9f6b74917df9": {
          "model_module": "@jupyter-widgets/controls",
          "model_name": "FloatProgressModel",
          "model_module_version": "1.5.0",
          "state": {
            "_dom_classes": [],
            "_model_module": "@jupyter-widgets/controls",
            "_model_module_version": "1.5.0",
            "_model_name": "FloatProgressModel",
            "_view_count": null,
            "_view_module": "@jupyter-widgets/controls",
            "_view_module_version": "1.5.0",
            "_view_name": "ProgressView",
            "bar_style": "success",
            "description": "",
            "description_tooltip": null,
            "layout": "IPY_MODEL_95fc3230eca94dfdb5508b54dfce914d",
            "max": 18898161,
            "min": 0,
            "orientation": "horizontal",
            "style": "IPY_MODEL_aac5251196a048709a2162645f8cb8be",
            "value": 18898161
          }
        },
        "7260cecd7b954d66b739355ce18a4068": {
          "model_module": "@jupyter-widgets/controls",
          "model_name": "HTMLModel",
          "model_module_version": "1.5.0",
          "state": {
            "_dom_classes": [],
            "_model_module": "@jupyter-widgets/controls",
            "_model_module_version": "1.5.0",
            "_model_name": "HTMLModel",
            "_view_count": null,
            "_view_module": "@jupyter-widgets/controls",
            "_view_module_version": "1.5.0",
            "_view_name": "HTMLView",
            "description": "",
            "description_tooltip": null,
            "layout": "IPY_MODEL_6bf35733e9d141b1a008b1242392f8e4",
            "placeholder": "​",
            "style": "IPY_MODEL_267d36c6a13e450885e289e4f6f2f5e7",
            "value": " 18.9M/18.9M [00:00&lt;00:00, 32.1MB/s]"
          }
        },
        "7b2990da73f842bc86605f2374fb7242": {
          "model_module": "@jupyter-widgets/base",
          "model_name": "LayoutModel",
          "model_module_version": "1.2.0",
          "state": {
            "_model_module": "@jupyter-widgets/base",
            "_model_module_version": "1.2.0",
            "_model_name": "LayoutModel",
            "_view_count": null,
            "_view_module": "@jupyter-widgets/base",
            "_view_module_version": "1.2.0",
            "_view_name": "LayoutView",
            "align_content": null,
            "align_items": null,
            "align_self": null,
            "border": null,
            "bottom": null,
            "display": null,
            "flex": null,
            "flex_flow": null,
            "grid_area": null,
            "grid_auto_columns": null,
            "grid_auto_flow": null,
            "grid_auto_rows": null,
            "grid_column": null,
            "grid_gap": null,
            "grid_row": null,
            "grid_template_areas": null,
            "grid_template_columns": null,
            "grid_template_rows": null,
            "height": null,
            "justify_content": null,
            "justify_items": null,
            "left": null,
            "margin": null,
            "max_height": null,
            "max_width": null,
            "min_height": null,
            "min_width": null,
            "object_fit": null,
            "object_position": null,
            "order": null,
            "overflow": null,
            "overflow_x": null,
            "overflow_y": null,
            "padding": null,
            "right": null,
            "top": null,
            "visibility": null,
            "width": null
          }
        },
        "e27bbc64459f44b38d5b49434f803483": {
          "model_module": "@jupyter-widgets/base",
          "model_name": "LayoutModel",
          "model_module_version": "1.2.0",
          "state": {
            "_model_module": "@jupyter-widgets/base",
            "_model_module_version": "1.2.0",
            "_model_name": "LayoutModel",
            "_view_count": null,
            "_view_module": "@jupyter-widgets/base",
            "_view_module_version": "1.2.0",
            "_view_name": "LayoutView",
            "align_content": null,
            "align_items": null,
            "align_self": null,
            "border": null,
            "bottom": null,
            "display": null,
            "flex": null,
            "flex_flow": null,
            "grid_area": null,
            "grid_auto_columns": null,
            "grid_auto_flow": null,
            "grid_auto_rows": null,
            "grid_column": null,
            "grid_gap": null,
            "grid_row": null,
            "grid_template_areas": null,
            "grid_template_columns": null,
            "grid_template_rows": null,
            "height": null,
            "justify_content": null,
            "justify_items": null,
            "left": null,
            "margin": null,
            "max_height": null,
            "max_width": null,
            "min_height": null,
            "min_width": null,
            "object_fit": null,
            "object_position": null,
            "order": null,
            "overflow": null,
            "overflow_x": null,
            "overflow_y": null,
            "padding": null,
            "right": null,
            "top": null,
            "visibility": null,
            "width": null
          }
        },
        "b31c93211277432d819da4bc65dd9ce4": {
          "model_module": "@jupyter-widgets/controls",
          "model_name": "DescriptionStyleModel",
          "model_module_version": "1.5.0",
          "state": {
            "_model_module": "@jupyter-widgets/controls",
            "_model_module_version": "1.5.0",
            "_model_name": "DescriptionStyleModel",
            "_view_count": null,
            "_view_module": "@jupyter-widgets/base",
            "_view_module_version": "1.2.0",
            "_view_name": "StyleView",
            "description_width": ""
          }
        },
        "95fc3230eca94dfdb5508b54dfce914d": {
          "model_module": "@jupyter-widgets/base",
          "model_name": "LayoutModel",
          "model_module_version": "1.2.0",
          "state": {
            "_model_module": "@jupyter-widgets/base",
            "_model_module_version": "1.2.0",
            "_model_name": "LayoutModel",
            "_view_count": null,
            "_view_module": "@jupyter-widgets/base",
            "_view_module_version": "1.2.0",
            "_view_name": "LayoutView",
            "align_content": null,
            "align_items": null,
            "align_self": null,
            "border": null,
            "bottom": null,
            "display": null,
            "flex": null,
            "flex_flow": null,
            "grid_area": null,
            "grid_auto_columns": null,
            "grid_auto_flow": null,
            "grid_auto_rows": null,
            "grid_column": null,
            "grid_gap": null,
            "grid_row": null,
            "grid_template_areas": null,
            "grid_template_columns": null,
            "grid_template_rows": null,
            "height": null,
            "justify_content": null,
            "justify_items": null,
            "left": null,
            "margin": null,
            "max_height": null,
            "max_width": null,
            "min_height": null,
            "min_width": null,
            "object_fit": null,
            "object_position": null,
            "order": null,
            "overflow": null,
            "overflow_x": null,
            "overflow_y": null,
            "padding": null,
            "right": null,
            "top": null,
            "visibility": null,
            "width": null
          }
        },
        "aac5251196a048709a2162645f8cb8be": {
          "model_module": "@jupyter-widgets/controls",
          "model_name": "ProgressStyleModel",
          "model_module_version": "1.5.0",
          "state": {
            "_model_module": "@jupyter-widgets/controls",
            "_model_module_version": "1.5.0",
            "_model_name": "ProgressStyleModel",
            "_view_count": null,
            "_view_module": "@jupyter-widgets/base",
            "_view_module_version": "1.2.0",
            "_view_name": "StyleView",
            "bar_color": null,
            "description_width": ""
          }
        },
        "6bf35733e9d141b1a008b1242392f8e4": {
          "model_module": "@jupyter-widgets/base",
          "model_name": "LayoutModel",
          "model_module_version": "1.2.0",
          "state": {
            "_model_module": "@jupyter-widgets/base",
            "_model_module_version": "1.2.0",
            "_model_name": "LayoutModel",
            "_view_count": null,
            "_view_module": "@jupyter-widgets/base",
            "_view_module_version": "1.2.0",
            "_view_name": "LayoutView",
            "align_content": null,
            "align_items": null,
            "align_self": null,
            "border": null,
            "bottom": null,
            "display": null,
            "flex": null,
            "flex_flow": null,
            "grid_area": null,
            "grid_auto_columns": null,
            "grid_auto_flow": null,
            "grid_auto_rows": null,
            "grid_column": null,
            "grid_gap": null,
            "grid_row": null,
            "grid_template_areas": null,
            "grid_template_columns": null,
            "grid_template_rows": null,
            "height": null,
            "justify_content": null,
            "justify_items": null,
            "left": null,
            "margin": null,
            "max_height": null,
            "max_width": null,
            "min_height": null,
            "min_width": null,
            "object_fit": null,
            "object_position": null,
            "order": null,
            "overflow": null,
            "overflow_x": null,
            "overflow_y": null,
            "padding": null,
            "right": null,
            "top": null,
            "visibility": null,
            "width": null
          }
        },
        "267d36c6a13e450885e289e4f6f2f5e7": {
          "model_module": "@jupyter-widgets/controls",
          "model_name": "DescriptionStyleModel",
          "model_module_version": "1.5.0",
          "state": {
            "_model_module": "@jupyter-widgets/controls",
            "_model_module_version": "1.5.0",
            "_model_name": "DescriptionStyleModel",
            "_view_count": null,
            "_view_module": "@jupyter-widgets/base",
            "_view_module_version": "1.2.0",
            "_view_name": "StyleView",
            "description_width": ""
          }
        }
      }
    }
  },
  "nbformat": 4,
  "nbformat_minor": 0
}
